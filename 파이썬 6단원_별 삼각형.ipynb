{
 "cells": [
  {
   "cell_type": "code",
   "execution_count": null,
   "metadata": {},
   "outputs": [],
   "source": [
    "#12번 다음과 같은 결과가 나올 수 있도록 서식 지정(formatting)을 사용하여 코드를 작성하시오.\n",
    "\n",
    "u = int(input(\"몇 번째 줄까지? : \"))\n",
    "for i in range(1, u+1, 1):\n",
    "    print(' ' *(u-i),'{:}'.format('*' * (i*2-1)))\n"
   ]
  }
 ],
 "metadata": {
  "kernelspec": {
   "display_name": "Python 3",
   "language": "python",
   "name": "python3"
  },
  "language_info": {
   "codemirror_mode": {
    "name": "ipython",
    "version": 3
   },
   "file_extension": ".py",
   "mimetype": "text/x-python",
   "name": "python",
   "nbconvert_exporter": "python",
   "pygments_lexer": "ipython3",
   "version": "3.6.7"
  }
 },
 "nbformat": 4,
 "nbformat_minor": 2
}
