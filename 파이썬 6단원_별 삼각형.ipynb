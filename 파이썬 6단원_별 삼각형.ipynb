#12번 다음과 같은 결과가 나올 수 있도록 서식 지정(formatting)을 사용하여 코드를 작성하시오.

u = int(input("몇 번째 줄까지? : "))
for i in range(1, u+1, 1):
    print(' ' *(u-i),'{:}'.format('*' * (i*2-1)))
