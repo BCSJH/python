{
 "cells": [
  {
   "cell_type": "code",
   "execution_count": 1,
   "metadata": {},
   "outputs": [
    {
     "name": "stdout",
     "output_type": "stream",
     "text": [
      "Before: 10\n",
      "In Function: 20\n",
      "After: 10\n"
     ]
    }
   ],
   "source": [
    "#1번 다음 코드의 실행 결과를 쓰시오\n",
    "def test(t):\n",
    "    t=20\n",
    "    print(\"In Function:\",t)\n",
    "\n",
    "x=10\n",
    "print(\"Before:\",x)\n",
    "test(x)\n",
    "print(\"After:\",x)"
   ]
  },
  {
   "cell_type": "code",
   "execution_count": 4,
   "metadata": {},
   "outputs": [
    {
     "name": "stdout",
     "output_type": "stream",
     "text": [
      "None\n"
     ]
    }
   ],
   "source": [
    "#2번 다음 코드의 실행 결과를 쓰시오.\n",
    "def sotring_function(list_value):\n",
    "    return list_value.sort()\n",
    "\n",
    "print(sotring_function([5,4,3,2,1]))"
   ]
  },
  {
   "cell_type": "code",
   "execution_count": 8,
   "metadata": {},
   "outputs": [
    {
     "name": "stdout",
     "output_type": "stream",
     "text": [
      "\n"
     ]
    }
   ],
   "source": [
    "#3번 다음 코드의 실행 결과를 쓰시오.\n",
    "number = \"100\"\n",
    "\n",
    "def midterm(number):\n",
    "    result=\"\"\n",
    "    if number.isdigit() is True:\n",
    "        if number is 100:\n",
    "            if number/10==1:\n",
    "                result=True\n",
    "                \n",
    "    else:\n",
    "        result = False\n",
    "        \n",
    "    return result"
   ]
  },
  {
   "cell_type": "code",
   "execution_count": 15,
   "metadata": {},
   "outputs": [
    {
     "name": "stdout",
     "output_type": "stream",
     "text": [
      "None\n"
     ]
    }
   ],
   "source": [
    "#4번 다음과 같이 코드를 작성했을 때, 실행 결과로 알맞은 것은?\n",
    "\n",
    "def is_yes(your_answer):\n",
    "    if your_answer.upper() == \"YES\" or your_answer.upper()==\"Y\":\n",
    "        result = your_answer.lower()# 값이 나오게 하려면 result = 를 return 으로 바꾸면 된다.\n",
    "        \n",
    "        \n",
    "print(is_yes(\"yes\"))"
   ]
  },
  {
   "cell_type": "code",
   "execution_count": 11,
   "metadata": {},
   "outputs": [
    {
     "name": "stdout",
     "output_type": "stream",
     "text": [
      "False\n"
     ]
    }
   ],
   "source": [
    "#5번 다음과 같이 코드를 작성했을 때, 실행 결과로 알맞은 것은?\n",
    "def add_and_mul(a,b,c):\n",
    "    return b+a*c+b\n",
    "\n",
    "print(add_and_mul(3,4,5)==63)"
   ]
  },
  {
   "cell_type": "code",
   "execution_count": 16,
   "metadata": {},
   "outputs": [
    {
     "ename": "TypeError",
     "evalue": "args_test_3() missing 1 required keyword-only argument: 'three'",
     "output_type": "error",
     "traceback": [
      "\u001b[1;31m---------------------------------------------------------------------------\u001b[0m",
      "\u001b[1;31mTypeError\u001b[0m                                 Traceback (most recent call last)",
      "\u001b[1;32m<ipython-input-16-b301ac66300c>\u001b[0m in \u001b[0;36m<module>\u001b[1;34m\u001b[0m\n\u001b[0;32m      4\u001b[0m     \u001b[0mprint\u001b[0m\u001b[1;33m(\u001b[0m\u001b[0margs\u001b[0m\u001b[1;33m)\u001b[0m\u001b[1;33m\u001b[0m\u001b[1;33m\u001b[0m\u001b[0m\n\u001b[0;32m      5\u001b[0m \u001b[1;33m\u001b[0m\u001b[0m\n\u001b[1;32m----> 6\u001b[1;33m \u001b[0margs_test_3\u001b[0m\u001b[1;33m(\u001b[0m\u001b[1;36m3\u001b[0m\u001b[1;33m,\u001b[0m\u001b[1;36m4\u001b[0m\u001b[1;33m,\u001b[0m\u001b[1;36m5\u001b[0m\u001b[1;33m,\u001b[0m\u001b[1;36m6\u001b[0m\u001b[1;33m,\u001b[0m\u001b[1;36m7\u001b[0m\u001b[1;33m)\u001b[0m\u001b[1;33m\u001b[0m\u001b[1;33m\u001b[0m\u001b[0m\n\u001b[0m\u001b[0;32m      7\u001b[0m \u001b[1;31m#가변인수 *은 항상 맨뒤에 있어야된다. 만약 이 코드를 실핼하게 하려면 , three를 지우면 된다.\u001b[0m\u001b[1;33m\u001b[0m\u001b[1;33m\u001b[0m\u001b[1;33m\u001b[0m\u001b[0m\n",
      "\u001b[1;31mTypeError\u001b[0m: args_test_3() missing 1 required keyword-only argument: 'three'"
     ]
    }
   ],
   "source": [
    "#6번 다음과 같이 코드를 작성했을 때, 실행 결과로 알맞은 것은?\n",
    "def args_test_3(one,two,*args,three):\n",
    "    print(one + two + sum(args))\n",
    "    print(args)\n",
    "    \n",
    "args_test_3(3,4,5,6,7)\n",
    "#가변인수 *은 항상 맨뒤에 있어야된다. 만약 이 코드를 실핼하게 하려면 , three를 지우면 된다."
   ]
  },
  {
   "cell_type": "code",
   "execution_count": 17,
   "metadata": {},
   "outputs": [
    {
     "name": "stdout",
     "output_type": "stream",
     "text": [
      "['green', 'blue']\n"
     ]
    }
   ],
   "source": [
    "#7번 다음 코드의 실행 결과를 쓰시오.\n",
    "\n",
    "def rain(colors):\n",
    "    colors.append(\"purple\")\n",
    "    colors=[\"green\",\"blue\"]\n",
    "    return colors\n",
    "rainbow = [\"red\",\"orange\"]\n",
    "print(rain(rainbow))"
   ]
  },
  {
   "cell_type": "code",
   "execution_count": 18,
   "metadata": {},
   "outputs": [
    {
     "name": "stdout",
     "output_type": "stream",
     "text": [
      "8\n",
      "None\n"
     ]
    }
   ],
   "source": [
    "#8번 다음코드의 실행 결과를 쓰시오.\n",
    "def function(value):\n",
    "    print(value**3)\n",
    "    \n",
    "    \n",
    "print(function(2))# function함수에 return 값이 없어서 None 값 출력"
   ]
  },
  {
   "cell_type": "code",
   "execution_count": 20,
   "metadata": {},
   "outputs": [
    {
     "name": "stdout",
     "output_type": "stream",
     "text": [
      "appl\n"
     ]
    }
   ],
   "source": [
    "#9번 다음 코드의 실행 결과를 쓰시오.\n",
    "def get_apple(fruit):\n",
    "    fruit =list(fruit)\n",
    "    fruit.append(\"e\")\n",
    "    fruit =[\"apple\"]\n",
    "    return fruit\n",
    "\n",
    "\n",
    "fruit = 'appl'\n",
    "get_apple(fruit)\n",
    "print(fruit)\n"
   ]
  },
  {
   "cell_type": "code",
   "execution_count": 23,
   "metadata": {},
   "outputs": [
    {
     "name": "stdout",
     "output_type": "stream",
     "text": [
      "I Love You543210\n"
     ]
    }
   ],
   "source": [
    "#10번 다음과 같이 코드를 작성했을 때, 실행 결과로 알맞은 것은?\n",
    "def return_sentence(sentence,n):\n",
    "    sentence +=str(n)\n",
    "    n-=1\n",
    "    if n<0:\n",
    "        return sentence\n",
    "    else:\n",
    "        return(return_sentence(sentence,n))\n",
    "    \n",
    "    \n",
    "sentence=\"I Love You\"\n",
    "print(return_sentence(sentence,5))"
   ]
  },
  {
   "cell_type": "code",
   "execution_count": 25,
   "metadata": {},
   "outputs": [
    {
     "name": "stdout",
     "output_type": "stream",
     "text": [
      "['x']\n"
     ]
    }
   ],
   "source": [
    "#11번 다음 코드의 실행 결과를 쓰시오.\n",
    "def test(x,y):\n",
    "    tmp = x\n",
    "    x = y\n",
    "    y = tmp\n",
    "    return y.append(x)\n",
    "\n",
    "x=[\"y\"]\n",
    "y=[\"x\"]\n",
    "test(x,y)\n",
    "print(y)"
   ]
  },
  {
   "cell_type": "code",
   "execution_count": 26,
   "metadata": {},
   "outputs": [
    {
     "name": "stdout",
     "output_type": "stream",
     "text": [
      "0dd\n",
      "Even\n"
     ]
    }
   ],
   "source": [
    "#12번 다음 코드의 실행 결과를 쓰시오.\n",
    "def countdown(n):\n",
    "    if n%2==0:\n",
    "        print(\"Even\")\n",
    "    else:\n",
    "        print(\"0dd\")\n",
    "        countdown(n-1)\n",
    "countdown(3)"
   ]
  },
  {
   "cell_type": "code",
   "execution_count": 27,
   "metadata": {},
   "outputs": [
    {
     "name": "stdout",
     "output_type": "stream",
     "text": [
      "120\n"
     ]
    }
   ],
   "source": [
    "#13번 다음 코드를 실행하면 결과 값으로 120이 나온다. 빈칸에 들어갈 알맞은 코드를 작성하시오.\n",
    "def factorial_calculator(n):\n",
    "    if n in (0,1):\n",
    "        return 1\n",
    "    else:\n",
    "        return n* factorial_calculator(n-1) #재귀함수!\n",
    "print(factorial_calculator(5))"
   ]
  },
  {
   "cell_type": "code",
   "execution_count": 30,
   "metadata": {},
   "outputs": [],
   "source": [
    "#14번 다음 코드의 실행 결과를 쓰시오.\n",
    "def calculrate_rectangle_area(rectangle_x,rectangle_y):\n",
    "    rectangle_x=3\n",
    "    rectangle_y=5\n",
    "    result = rectangle_x * rectangle_y\n",
    "    return result\n",
    "\n",
    "rectangle_x =2\n",
    "rectangle_y =4\n",
    "#만약 값을 구하고 싶었다면 print(calculrate_rectangle_area(rectangle_x,rectangle_y))를 넣었어야 됨\n",
    "#저렇게 넣었을 때 값은 15가 나옴 이유는 함수 안에 있는 rectangle의 값은 밖에 있는 것에 지장을 주지 않으므로?"
   ]
  },
  {
   "cell_type": "code",
   "execution_count": 35,
   "metadata": {},
   "outputs": [
    {
     "name": "stdout",
     "output_type": "stream",
     "text": [
      "Value: 10\n",
      "Value: 20\n"
     ]
    }
   ],
   "source": [
    "#15번 다음 코드의 실행 결과를 쓰시오.\n",
    "def exam_func():\n",
    "    x=10\n",
    "    print(\"Value:\",x)\n",
    "x=20\n",
    "exam_func()\n",
    "print(\"Value:\",x)\n",
    "#함수 안에 있는 값은 밖에 있는 변수에 영향을 미치치 못함\n",
    "#두 번째 Value값이 10이 나오게 하려면을 globla x, x=10써주면 됨"
   ]
  },
  {
   "cell_type": "code",
   "execution_count": 37,
   "metadata": {},
   "outputs": [
    {
     "name": "stdout",
     "output_type": "stream",
     "text": [
      "['Korea', 'Japen', 'China']\n"
     ]
    }
   ],
   "source": [
    "#16번 다음 코드의 실행 결과를 쓰고, 그 결과값이 나오는 이유를 설명하시오.\n",
    "country =[\"Korea\",\"Japen\",\"China\"]\n",
    "country.append(\"Remove\")\n",
    "print(country.remove(\"Remove\"))\n",
    "#country.remove(\"Remove\") 한 값을 print 했기 때문에 None 값 나오는 거임\n",
    "#[\"Korea\",\"Japen\",\"China\"]이 나오게 하고 싶다면\n",
    "#print(country.remove(\"Remove\"))를\n",
    "#country.remove(\"Remove\")\n",
    "#print(country)로 바꾸면 됨\n"
   ]
  },
  {
   "cell_type": "code",
   "execution_count": null,
   "metadata": {},
   "outputs": [],
   "source": []
  }
 ],
 "metadata": {
  "kernelspec": {
   "display_name": "Python 3",
   "language": "python",
   "name": "python3"
  },
  "language_info": {
   "codemirror_mode": {
    "name": "ipython",
    "version": 3
   },
   "file_extension": ".py",
   "mimetype": "text/x-python",
   "name": "python",
   "nbconvert_exporter": "python",
   "pygments_lexer": "ipython3",
   "version": "3.6.7"
  }
 },
 "nbformat": 4,
 "nbformat_minor": 2
}
