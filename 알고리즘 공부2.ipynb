{
 "cells": [
  {
   "cell_type": "code",
   "execution_count": 2,
   "metadata": {},
   "outputs": [
    {
     "name": "stdout",
     "output_type": "stream",
     "text": [
      "5 8 4\n",
      "1\n",
      "1\n",
      "0\n",
      "0\n"
     ]
    }
   ],
   "source": [
    "#계산\n",
    "string = input()\n",
    "split = string.split()\n",
    "a = int(split[0])\n",
    "b = int(split[1])\n",
    "c = int(split[2])\n",
    "\n",
    "while((a<2) or (b>10000) or (c>10000)):\n",
    "    string = input()\n",
    "    split = string.split()\n",
    "    a = int(split[0])\n",
    "    b = int(split[1])\n",
    "    c = int(split[2])\n",
    "print((a+b)%c)\n",
    "print((a%c + b%c)%c)\n",
    "print((a*b)%c)\n",
    "print((a%c * b%c)%c)"
   ]
  },
  {
   "cell_type": "code",
   "execution_count": 6,
   "metadata": {},
   "outputs": [
    {
     "name": "stdout",
     "output_type": "stream",
     "text": [
      "1\n",
      "2\n",
      "3\n"
     ]
    }
   ],
   "source": [
    "#두 정수 A와 B를 입력받은 다음, A+B를 출력하는 프로그램을 작성하시오.\n",
    "a = int(input())\n",
    "b = int(input())\n",
    "\n",
    "while((a<=0) or (b>=10)):\n",
    "    a = input()\n",
    "    b = input()\n",
    "\n",
    "print(a+b)"
   ]
  },
  {
   "cell_type": "code",
   "execution_count": 1,
   "metadata": {},
   "outputs": [
    {
     "name": "stdout",
     "output_type": "stream",
     "text": [
      "18\n",
      "4\n"
     ]
    }
   ],
   "source": [
    "#상근이는 요즘 설탕공장에서 설탕을 배달하고 있다.\n",
    "#상근이는 지금 사탕가게에 설탕을 정확하게 N킬로그램을 배달해야 한다.\n",
    "#설탕공장에서 만드는 설탕은 봉지에 담겨져 있다.\n",
    "#봉지는 3킬로그램 봉지와 5킬로그램 봉지가 있다.\n",
    "\n",
    "#상근이는 귀찮기 때문에, 최대한 적은 봉지를 들고 가려고 한다.\n",
    "#예를 들어, 18킬로그램 설탕을 배달해야 할 때, 3킬로그램 봉지 6개를 가져가도 되지만,\n",
    "#5킬로그램 3개와 3킬로그램 1개를 배달하면, 더 적은 개수의 봉지를 배달할 수 있다.\n",
    "\n",
    "#상근이가 설탕을 정확하게 N킬로그램 배달해야 할 때,\n",
    "#봉지 몇 개를 가져가면 되는지 그 수를 구하는 프로그램을 작성하시오.\n",
    "\n",
    "n = int(input())\n",
    "three = 0\n",
    "five = n//5\n",
    "n%=5\n",
    "while five>=0:\n",
    "    if n%3==0:\n",
    "        three = n//3 #몫\n",
    "        n%=3 #나머지\n",
    "        break\n",
    "    five-=1\n",
    "    n+=5\n",
    "print(n==0 and (five + three) or -1)\n",
    "#코드 이해는 됐는데 어려움..."
   ]
  },
  {
   "cell_type": "code",
   "execution_count": 3,
   "metadata": {},
   "outputs": [
    {
     "name": "stdout",
     "output_type": "stream",
     "text": [
      "5\n",
      "1\n",
      "2\n",
      "3\n",
      "4\n",
      "5\n"
     ]
    }
   ],
   "source": [
    "#입력한 수 차례대로 출력\n",
    "n = int(input())\n",
    "while n<=0 or n>100000:\n",
    "    n = int(input())\n",
    "for i in range(1,n+1):\n",
    "    print(i)"
   ]
  },
  {
   "cell_type": "code",
   "execution_count": 8,
   "metadata": {},
   "outputs": [
    {
     "name": "stdout",
     "output_type": "stream",
     "text": [
      "5\n",
      "5\n",
      "4\n",
      "3\n",
      "2\n",
      "1\n"
     ]
    }
   ],
   "source": [
    "#입력한 수 차례대로 출력\n",
    "n = int(input())\n",
    "while n<=0 or n>100000:\n",
    "    n = int(input())\n",
    "for i in range(n,0,-1):\n",
    "    print(i)"
   ]
  },
  {
   "cell_type": "code",
   "execution_count": null,
   "metadata": {},
   "outputs": [],
   "source": []
  }
 ],
 "metadata": {
  "kernelspec": {
   "display_name": "Python 3",
   "language": "python",
   "name": "python3"
  },
  "language_info": {
   "codemirror_mode": {
    "name": "ipython",
    "version": 3
   },
   "file_extension": ".py",
   "mimetype": "text/x-python",
   "name": "python",
   "nbconvert_exporter": "python",
   "pygments_lexer": "ipython3",
   "version": "3.7.1"
  }
 },
 "nbformat": 4,
 "nbformat_minor": 2
}
