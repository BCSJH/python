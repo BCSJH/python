{
 "cells": [
  {
   "cell_type": "code",
   "execution_count": 2,
   "metadata": {},
   "outputs": [
    {
     "name": "stdout",
     "output_type": "stream",
     "text": [
      "5 8 4\n",
      "1\n",
      "1\n",
      "0\n",
      "0\n"
     ]
    }
   ],
   "source": [
    "#계산\n",
    "string = input()\n",
    "split = string.split()\n",
    "a = int(split[0])\n",
    "b = int(split[1])\n",
    "c = int(split[2])\n",
    "\n",
    "while((a<2) or (b>10000) or (c>10000)):\n",
    "    string = input()\n",
    "    split = string.split()\n",
    "    a = int(split[0])\n",
    "    b = int(split[1])\n",
    "    c = int(split[2])\n",
    "print((a+b)%c)\n",
    "print((a%c + b%c)%c)\n",
    "print((a*b)%c)\n",
    "print((a%c * b%c)%c)"
   ]
  },
  {
   "cell_type": "code",
   "execution_count": 6,
   "metadata": {},
   "outputs": [
    {
     "name": "stdout",
     "output_type": "stream",
     "text": [
      "1\n",
      "2\n",
      "3\n"
     ]
    }
   ],
   "source": [
    "#두 정수 A와 B를 입력받은 다음, A+B를 출력하는 프로그램을 작성하시오.\n",
    "a = int(input())\n",
    "b = int(input())\n",
    "\n",
    "while((a<=0) or (b>=10)):\n",
    "    a = input()\n",
    "    b = input()\n",
    "\n",
    "print(a+b)"
   ]
  },
  {
   "cell_type": "code",
   "execution_count": null,
   "metadata": {},
   "outputs": [],
   "source": []
  }
 ],
 "metadata": {
  "kernelspec": {
   "display_name": "Python 3",
   "language": "python",
   "name": "python3"
  },
  "language_info": {
   "codemirror_mode": {
    "name": "ipython",
    "version": 3
   },
   "file_extension": ".py",
   "mimetype": "text/x-python",
   "name": "python",
   "nbconvert_exporter": "python",
   "pygments_lexer": "ipython3",
   "version": "3.7.1"
  }
 },
 "nbformat": 4,
 "nbformat_minor": 2
}
