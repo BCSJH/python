{
 "cells": [
  {
   "cell_type": "code",
   "execution_count": 1,
   "metadata": {},
   "outputs": [
    {
     "name": "stdout",
     "output_type": "stream",
     "text": [
      "당신이 태어난 연도를 입력하세요.1999\n",
      "대학생\n"
     ]
    }
   ],
   "source": [
    "age = 2020- int(input(\"당신이 태어난 연도를 입력하세요.\"))+1 #입력\n",
    "if (age>=20 and age<=26): person='대학생'#어떤 종류의 학생인지 계산\n",
    "elif (age>=17 and age<20): person='고등학생'\n",
    "elif (age>=14 and age<17): person='중학생'\n",
    "elif (age>=8 and age<14): person='초등학생'\n",
    "else: person='학생이 아닙니다.'\n",
    "\n",
    "print(person)#출력"
   ]
  },
  {
   "cell_type": "code",
   "execution_count": null,
   "metadata": {},
   "outputs": [],
   "source": []
  },
  {
   "cell_type": "code",
   "execution_count": null,
   "metadata": {},
   "outputs": [],
   "source": []
  }
 ],
 "metadata": {
  "kernelspec": {
   "display_name": "Python 3",
   "language": "python",
   "name": "python3"
  },
  "language_info": {
   "codemirror_mode": {
    "name": "ipython",
    "version": 3
   },
   "file_extension": ".py",
   "mimetype": "text/x-python",
   "name": "python",
   "nbconvert_exporter": "python",
   "pygments_lexer": "ipython3",
   "version": "3.7.1"
  }
 },
 "nbformat": 4,
 "nbformat_minor": 2
}
