{
 "cells": [
  {
   "cell_type": "code",
   "execution_count": 3,
   "metadata": {},
   "outputs": [
    {
     "name": "stdout",
     "output_type": "stream",
     "text": [
      "{3, 4, 5}\n"
     ]
    }
   ],
   "source": [
    "s1 = set([1,2,3,4,5])\n",
    "s2 = set([3,4,5,6,7])\n",
    "\n",
    "print(s1 & s2)"
   ]
  },
  {
   "cell_type": "code",
   "execution_count": 5,
   "metadata": {},
   "outputs": [
    {
     "name": "stdout",
     "output_type": "stream",
     "text": [
      "max: 7\n",
      "Sum: 28\n"
     ]
    }
   ],
   "source": [
    "nums = [1, 2, 3, 4, 5, 6, 7]\n",
    "print(\"max:\", max(nums))\n",
    "print(\"Sum:\", sum(nums))"
   ]
  },
  {
   "cell_type": "code",
   "execution_count": 7,
   "metadata": {},
   "outputs": [
    {
     "name": "stdout",
     "output_type": "stream",
     "text": [
      "삼성전자 LG전자 Naver SK하이닉스 미래에셋대우\n",
      "삼성전자 LG전자 Naver SK하이닉스 미래에셋대우\n"
     ]
    }
   ],
   "source": [
    "interest = ['삼성전자', 'LG전자', 'Naver', 'SK하이닉스', '미래에셋대우']\n",
    "print(interest[0], interest[1], interest[2], interest[3], interest[4])\n",
    "print(' '.join(interest))"
   ]
  },
  {
   "cell_type": "code",
   "execution_count": 12,
   "metadata": {},
   "outputs": [
    {
     "name": "stdout",
     "output_type": "stream",
     "text": [
      "300 원\n",
      "{'메로나': [300, 20], '비비빅': [400, 3], '죠스바': [250, 100], '월드콘': [500, 7]}\n"
     ]
    }
   ],
   "source": [
    "#딕셔너리\n",
    "inventory = {'메로나': [300, 20], '비비빅': [400, 3], '죠스바': [250, 100]}\n",
    "item = inventory['메로나']\n",
    "print(item[0], '원')\n",
    "inventory['월드콘'] = [500, 7]\n",
    "print(inventory)"
   ]
  },
  {
   "cell_type": "code",
   "execution_count": 13,
   "metadata": {},
   "outputs": [
    {
     "name": "stdout",
     "output_type": "stream",
     "text": [
      "aa\n",
      "AA\n"
     ]
    }
   ],
   "source": [
    "#소문자 -> 대문지, 대문자 -> 소문자\n",
    "user_in = input()\n",
    "if user_in.islower():\n",
    "    user_in = user_in.upper()\n",
    "else :\n",
    "    user_in = user_in.lower()\n",
    "print(user_in)"
   ]
  },
  {
   "cell_type": "code",
   "execution_count": 17,
   "metadata": {},
   "outputs": [
    {
     "name": "stdout",
     "output_type": "stream",
     "text": [
      "입력 : 3\n",
      "3501.00\n"
     ]
    }
   ],
   "source": [
    "#환률\n",
    "u = float(input(\"입력 : \"))\n",
    "print(\"%0.2f\" %(u*1167))#괄호 안에 넣는거 잊지말자"
   ]
  },
  {
   "cell_type": "code",
   "execution_count": 18,
   "metadata": {},
   "outputs": [
    {
     "name": "stdout",
     "output_type": "stream",
     "text": [
      "휴대전화 번호 입력 : 01062555553\n",
      "당신은 알수없는 사용자입니다.\n"
     ]
    }
   ],
   "source": [
    "#슬라이딩 사용\n",
    "phone_number = input (\"휴대전화 번호 입력 : \")\n",
    "if phone_number[0:3] == \"011\" :\n",
    "    print (\"당신은 SKT 사용자입니다.\")\n",
    "elif phone_number[0:3] == \"016\" :\n",
    "    print (\"당신은 KT 사용자입니다.\")\n",
    "elif phone_number[0:3] == \"019\" :\n",
    "    print (\"당신은 LGT 사용자입니다.\")\n",
    "else :\n",
    "    print(\"당신은 알수없는 사용자입니다.\")"
   ]
  },
  {
   "cell_type": "code",
   "execution_count": 20,
   "metadata": {},
   "outputs": [
    {
     "name": "stdout",
     "output_type": "stream",
     "text": [
      "입력 : SFffRDS\n",
      "sfFFrds"
     ]
    }
   ],
   "source": [
    "#대소문자 바꾸기\n",
    "my_list = input(\"입력 : \")\n",
    "for val in my_list :\n",
    "    if val.isupper() :\n",
    "        print(val.lower(), end='')\n",
    "    else :\n",
    "        print(val.upper(), end='')"
   ]
  },
  {
   "cell_type": "code",
   "execution_count": null,
   "metadata": {},
   "outputs": [],
   "source": []
  }
 ],
 "metadata": {
  "kernelspec": {
   "display_name": "Python 3",
   "language": "python",
   "name": "python3"
  },
  "language_info": {
   "codemirror_mode": {
    "name": "ipython",
    "version": 3
   },
   "file_extension": ".py",
   "mimetype": "text/x-python",
   "name": "python",
   "nbconvert_exporter": "python",
   "pygments_lexer": "ipython3",
   "version": "3.6.7"
  }
 },
 "nbformat": 4,
 "nbformat_minor": 2
}
