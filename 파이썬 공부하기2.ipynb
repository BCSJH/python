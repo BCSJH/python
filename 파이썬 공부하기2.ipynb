{
 "cells": [
  {
   "cell_type": "code",
   "execution_count": 3,
   "metadata": {},
   "outputs": [
    {
     "name": "stdout",
     "output_type": "stream",
     "text": [
      "dict_keys(['K', 'C', 'V', 'J'])\n",
      "dict_keys(['K', 'C', 'V', 'J', 'G'])\n",
      "dict_values([1, 2, 3, 4, 49])\n",
      "Key: K\n",
      "Value: 1\n",
      "Key: C\n",
      "Value: 2\n",
      "Key: V\n",
      "Value: 3\n",
      "Key: J\n",
      "Value: 4\n",
      "Key: G\n",
      "Value: 49\n"
     ]
    }
   ],
   "source": [
    "country_code={} #딕셔너리\n",
    "country_code={\"K\":1, \"C\":2, \"V\":3, \"J\":4}\n",
    "print(country_code.keys())\n",
    "\n",
    "country_code[\"G\"]=49 #값 추가\n",
    "print(country_code.keys()) # 출력해보기\n",
    "print(country_code.values())\n",
    "\n",
    "for k,v in country_code.items():\n",
    "    print(\"Key:\",k)\n",
    "    print(\"Value:\",v)"
   ]
  },
  {
   "cell_type": "code",
   "execution_count": null,
   "metadata": {},
   "outputs": [],
   "source": []
  }
 ],
 "metadata": {
  "kernelspec": {
   "display_name": "Python 3",
   "language": "python",
   "name": "python3"
  },
  "language_info": {
   "codemirror_mode": {
    "name": "ipython",
    "version": 3
   },
   "file_extension": ".py",
   "mimetype": "text/x-python",
   "name": "python",
   "nbconvert_exporter": "python",
   "pygments_lexer": "ipython3",
   "version": "3.6.7"
  }
 },
 "nbformat": 4,
 "nbformat_minor": 2
}
