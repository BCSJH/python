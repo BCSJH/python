{
 "cells": [
  {
   "cell_type": "code",
   "execution_count": 1,
   "metadata": {},
   "outputs": [
    {
     "name": "stdout",
     "output_type": "stream",
     "text": [
      "Input a word : HFFFFDSD\n",
      "['H', 'F', 'F', 'F', 'F', 'D', 'S', 'D']\n",
      "['D', 'S', 'D', 'F', 'F', 'F', 'F', 'H']\n",
      "DSDFFFFH\n"
     ]
    }
   ],
   "source": [
    "#stack.py\n",
    "word = input(\"Input a word : \") #사용자 입력\n",
    "world_list = list(word) #입력한 것을 한 개씩 각각의 리스트에 저장\n",
    "print(world_list)#출력\n",
    "\n",
    "result=[]#역순으로 저장할 변수\n",
    "for _ in range(len(world_list)):#개수만큼 반복문 돌리자\n",
    "    #in 뒤에 있는 부분이 해당 반복문에서 생성되는 값이 아니라서 for 다음에 _를 써줌\n",
    "    result.append(world_list.pop())# 차례대로 출력하기 때문에 역순으로 넣어지는 거임\n",
    "                                    #result에 world 리스트 한글자씩 넣기\n",
    "\n",
    "print(result) #역순으로 넣어진 것을 확인할 수 있음\n",
    "print(word[::-1]) #출력"
   ]
  },
  {
   "cell_type": "code",
   "execution_count": 14,
   "metadata": {
    "scrolled": false
   },
   "outputs": [
    {
     "data": {
      "text/plain": [
       "{1, 2, 3, 4}"
      ]
     },
     "execution_count": 14,
     "metadata": {},
     "output_type": "execute_result"
    }
   ],
   "source": [
    "#값 1개 추가\n",
    "s1 = set([1,2,3])\n",
    "s1.add(4)\n",
    "s1"
   ]
  },
  {
   "cell_type": "code",
   "execution_count": 16,
   "metadata": {},
   "outputs": [
    {
     "data": {
      "text/plain": [
       "{1, 2, 3, 4, 5, 6}"
      ]
     },
     "execution_count": 16,
     "metadata": {},
     "output_type": "execute_result"
    }
   ],
   "source": [
    "#값 여러개 추가하기\n",
    "s1 = set([1,2,3])\n",
    "s1.update([4,5,6])\n",
    "s1"
   ]
  },
  {
   "cell_type": "code",
   "execution_count": 18,
   "metadata": {},
   "outputs": [
    {
     "data": {
      "text/plain": [
       "{1, 3}"
      ]
     },
     "execution_count": 18,
     "metadata": {},
     "output_type": "execute_result"
    }
   ],
   "source": [
    "#특정 값 제거하기\n",
    "s1 = set([1,2,3])\n",
    "s1.remove(2)\n",
    "s1"
   ]
  },
  {
   "cell_type": "code",
   "execution_count": 19,
   "metadata": {},
   "outputs": [
    {
     "data": {
      "text/plain": [
       "{'H', 'e', 'l', 'o'}"
      ]
     },
     "execution_count": 19,
     "metadata": {},
     "output_type": "execute_result"
    }
   ],
   "source": [
    "#집합 자료형\n",
    "s1=set([1,2,3])#set은 중복 제거\n",
    "s1\n",
    "s2=set(\"Hello\")\n",
    "s2"
   ]
  },
  {
   "cell_type": "code",
   "execution_count": 23,
   "metadata": {},
   "outputs": [
    {
     "data": {
      "text/plain": [
       "1"
      ]
     },
     "execution_count": 23,
     "metadata": {},
     "output_type": "execute_result"
    }
   ],
   "source": [
    "#set은 중복 제거 필터\n",
    "s1 = set([1,2,3])\n",
    "l1 = list(s1)\n",
    "l1\n",
    "\n",
    "t1 = tuple(s1) #튜플은 리스트와 마찬가지로 순서가 있다.\n",
    "t1\n",
    "t1[0]#순서가 있기 때문에 가능"
   ]
  },
  {
   "cell_type": "code",
   "execution_count": 34,
   "metadata": {},
   "outputs": [
    {
     "name": "stdout",
     "output_type": "stream",
     "text": [
      "{1, 2, 3, 4, 5, 6, 7, 8, 9}\n",
      "{4, 5, 6}\n",
      "{4, 5, 6}\n",
      "{1, 2, 3}\n",
      "{1, 2, 3}\n"
     ]
    }
   ],
   "source": [
    "s1 = set([1,2,3,4,5,6])\n",
    "s2 = set([4,5,6,7,8,9])\n",
    "\n",
    "print(s1.union(s2)) #합집합\n",
    "print(s1 & s2) #교집합 \n",
    "print(s2.intersection(s1)) #이렇게도 사용 가능\n",
    "print(s1 - s2) #차집합\n",
    "print(s1.difference(s2))#이렇게도 사용가능"
   ]
  },
  {
   "cell_type": "code",
   "execution_count": 10,
   "metadata": {},
   "outputs": [
    {
     "name": "stdout",
     "output_type": "stream",
     "text": [
      "{1, 2, 3, 4, 5}\n",
      "[1, 2, 3, 4, 5]\n"
     ]
    }
   ],
   "source": [
    "#문제1\n",
    "#풀이1\n",
    "a =  [1,1,1,2,2,3,3,3,4,4,5]#중복된 값\n",
    "print(set(a))# 중복된 값을 삭제하자\n",
    "\n",
    "#풀이2\n",
    "aSet = set(a)\n",
    "b=list(aSet)\n",
    "print(b)\n"
   ]
  },
  {
   "cell_type": "code",
   "execution_count": 13,
   "metadata": {},
   "outputs": [
    {
     "data": {
      "text/plain": [
       "dict"
      ]
     },
     "execution_count": 13,
     "metadata": {},
     "output_type": "execute_result"
    }
   ],
   "source": [
    "#문제2\n",
    "a = {'a','b','c'}\n",
    "a = {}\n",
    "type(a)"
   ]
  },
  {
   "cell_type": "code",
   "execution_count": null,
   "metadata": {},
   "outputs": [],
   "source": []
  }
 ],
 "metadata": {
  "kernelspec": {
   "display_name": "Python 3",
   "language": "python",
   "name": "python3"
  },
  "language_info": {
   "codemirror_mode": {
    "name": "ipython",
    "version": 3
   },
   "file_extension": ".py",
   "mimetype": "text/x-python",
   "name": "python",
   "nbconvert_exporter": "python",
   "pygments_lexer": "ipython3",
   "version": "3.7.1"
  }
 },
 "nbformat": 4,
 "nbformat_minor": 2
}
