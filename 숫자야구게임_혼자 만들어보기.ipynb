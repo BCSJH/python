{
 "cells": [
  {
   "cell_type": "code",
   "execution_count": 2,
   "metadata": {},
   "outputs": [
    {
     "name": "stdout",
     "output_type": "stream",
     "text": [
      "8\n",
      "8\n",
      "7\n",
      "87\n",
      "7\n",
      "7\n",
      "7\n",
      "7\n",
      "5\n",
      "875\n",
      "숫자를 입력해주세요 : 123\n",
      "strike 0 ball 0\n",
      "숫자를 입력해주세요 : 875\n",
      "strike 3 ball 0\n",
      "종료\n"
     ]
    }
   ],
   "source": [
    "import random\n",
    "def chack(a,b,strike,ball):\n",
    "        for number in a:\n",
    "                if (b.find(number) == a.find(number)):\n",
    "                    strike+=1\n",
    "                elif (b.count(number)>0):\n",
    "                    ball+=1\n",
    "        print(\"strike\",strike,\"ball\",ball)\n",
    "        if(strike==3):\n",
    "            print(\"종료\")\n",
    "            return 0\n",
    "        \n",
    "a=\"\"\n",
    "c=\"\"\n",
    "cc=0\n",
    "strike = 0\n",
    "ball = 0\n",
    "\n",
    "while(cc<3):\n",
    "    c = str(random.randint(1,9))\n",
    "    print(c)\n",
    "    if(a.count(c)==1):\n",
    "        continue\n",
    "    else:\n",
    "        a+=c\n",
    "        cc+=1\n",
    "    print(a)\n",
    "    \n",
    "while(1):\n",
    "    strike = 0\n",
    "    ball = 0\n",
    "    b = input(\"숫자를 입력해주세요 : \")\n",
    "    if(chack(a,b,strike,ball)==0):\n",
    "        break\n",
    "\n"
   ]
  },
  {
   "cell_type": "code",
   "execution_count": null,
   "metadata": {},
   "outputs": [],
   "source": []
  }
 ],
 "metadata": {
  "kernelspec": {
   "display_name": "Python 3",
   "language": "python",
   "name": "python3"
  },
  "language_info": {
   "codemirror_mode": {
    "name": "ipython",
    "version": 3
   },
   "file_extension": ".py",
   "mimetype": "text/x-python",
   "name": "python",
   "nbconvert_exporter": "python",
   "pygments_lexer": "ipython3",
   "version": "3.6.7"
  }
 },
 "nbformat": 4,
 "nbformat_minor": 2
}
