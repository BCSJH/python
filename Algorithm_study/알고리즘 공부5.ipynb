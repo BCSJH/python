{
 "cells": [
  {
   "cell_type": "code",
   "execution_count": 2,
   "metadata": {},
   "outputs": [
    {
     "name": "stdout",
     "output_type": "stream",
     "text": [
      "3 14\n",
      "WED\n"
     ]
    }
   ],
   "source": [
    "#오늘은 2007년 1월 1일 월요일이다.\n",
    "#그렇다면 2007년 x월 y일은 무슨 요일일까? 이를 알아내는 프로그램을 작성하시오.\n",
    "#첫째 줄에 빈 칸을 사이에 두고 x(1≤x≤12)와 y(1≤y≤31)이 주어진다.\n",
    "#참고로 2007년에는 1, 3, 5, 7, 8, 10, 12월은 31일까지, \n",
    "#4, 6, 9, 11월은 30일까지, 2월은 28일까지 있다.\n",
    "sum = 0\n",
    "month = [31,28,31,30,31,30,31,31,30,31,30,31]\n",
    "xy = input()\n",
    "splits = xy.split()\n",
    "x = int(splits[0])\n",
    "y = int(splits[1])\n",
    "while (x<1 or x>12) or (y<1 or y>31):\n",
    "    xy = input()\n",
    "    splits = xy.split()\n",
    "    x = int(splits[0])\n",
    "    y = int(splits[1])\n",
    "for a in range(0,x-1):\n",
    "    sum +=month[a]\n",
    "sum += y\n",
    "if sum%7 ==0:\n",
    "    print(\"SUN\")\n",
    "elif sum%7==1:\n",
    "    print(\"MON\")\n",
    "elif sum%7==2:\n",
    "    print(\"TUE\")\n",
    "elif sum%7==3:\n",
    "    print(\"WED\")\n",
    "elif sum%7==4:\n",
    "    print(\"THU\")\n",
    "elif sum%7==5:\n",
    "    print(\"FRI\")\n",
    "elif sum%7==6:\n",
    "    print(\"SAT\")\n",
    "else:\n",
    "    print(\"\")"
   ]
  },
  {
   "cell_type": "code",
   "execution_count": null,
   "metadata": {},
   "outputs": [],
   "source": []
  }
 ],
 "metadata": {
  "kernelspec": {
   "display_name": "Python 3",
   "language": "python",
   "name": "python3"
  },
  "language_info": {
   "codemirror_mode": {
    "name": "ipython",
    "version": 3
   },
   "file_extension": ".py",
   "mimetype": "text/x-python",
   "name": "python",
   "nbconvert_exporter": "python",
   "pygments_lexer": "ipython3",
   "version": "3.6.7"
  }
 },
 "nbformat": 4,
 "nbformat_minor": 2
}
