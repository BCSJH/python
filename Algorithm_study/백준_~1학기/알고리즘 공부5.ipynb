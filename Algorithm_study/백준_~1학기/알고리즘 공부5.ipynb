{
 "cells": [
  {
   "cell_type": "code",
   "execution_count": 2,
   "metadata": {},
   "outputs": [
    {
     "name": "stdout",
     "output_type": "stream",
     "text": [
      "3 14\n",
      "WED\n"
     ]
    }
   ],
   "source": [
    "#오늘은 2007년 1월 1일 월요일이다.\n",
    "#그렇다면 2007년 x월 y일은 무슨 요일일까? 이를 알아내는 프로그램을 작성하시오.\n",
    "#첫째 줄에 빈 칸을 사이에 두고 x(1≤x≤12)와 y(1≤y≤31)이 주어진다.\n",
    "#참고로 2007년에는 1, 3, 5, 7, 8, 10, 12월은 31일까지, \n",
    "#4, 6, 9, 11월은 30일까지, 2월은 28일까지 있다.\n",
    "sum = 0\n",
    "month = [31,28,31,30,31,30,31,31,30,31,30,31]\n",
    "xy = input()\n",
    "splits = xy.split()\n",
    "x = int(splits[0])\n",
    "y = int(splits[1])\n",
    "while (x<1 or x>12) or (y<1 or y>31):#잘못입력했을 경우 다시 입력하기\n",
    "    xy = input()\n",
    "    splits = xy.split()\n",
    "    x = int(splits[0])\n",
    "    y = int(splits[1])\n",
    "for a in range(0,x-1):\n",
    "    sum +=month[a]\n",
    "sum += y\n",
    "if sum%7 ==0:\n",
    "    print(\"SUN\")\n",
    "elif sum%7==1:\n",
    "    print(\"MON\")\n",
    "elif sum%7==2:\n",
    "    print(\"TUE\")\n",
    "elif sum%7==3:\n",
    "    print(\"WED\")\n",
    "elif sum%7==4:\n",
    "    print(\"THU\")\n",
    "elif sum%7==5:\n",
    "    print(\"FRI\")\n",
    "elif sum%7==6:\n",
    "    print(\"SAT\")\n",
    "else:\n",
    "    print(\"\")"
   ]
  },
  {
   "cell_type": "code",
   "execution_count": 5,
   "metadata": {},
   "outputs": [
    {
     "name": "stdout",
     "output_type": "stream",
     "text": [
      "4\n",
      "1234\n",
      "10\n"
     ]
    }
   ],
   "source": [
    "#11720번\n",
    "n = int(input())\n",
    "nn =  input() \n",
    "#이 방법 말고 입력받은 n의 개수만큼만 출력하고 싶은데 어렵다... 모르겠다...\n",
    "sum=0\n",
    "for i in range(0,n):\n",
    "    sum+=int(nn[i])\n",
    "\n",
    "print(sum)"
   ]
  },
  {
   "cell_type": "code",
   "execution_count": 11,
   "metadata": {},
   "outputs": [
    {
     "name": "stdout",
     "output_type": "stream",
     "text": [
      "OneTwoThreeFourFiveSixSevenEightNineTen\n",
      "OneTwoThre\n",
      "eFourFiveS\n",
      "ixSevenEig\n",
      "htNineTen\n"
     ]
    }
   ],
   "source": [
    "#11721번\n",
    "string_n = input()\n",
    "string_print= \"\"\n",
    "for i in range(0,len(string_n)):\n",
    "    if i%10==0 and i != 0:#첫 번째 항목이 아닐 때도 추가해야됨\n",
    "        string_print+=\"\\n\"\n",
    "        string_print+=string_n[i]# \\n을 추가하고 그 항목도 더해줘야됨\n",
    "    else:\n",
    "        string_print+=string_n[i]\n",
    "print(string_print)"
   ]
  },
  {
   "cell_type": "code",
   "execution_count": 24,
   "metadata": {},
   "outputs": [
    {
     "ename": "ValueError",
     "evalue": "invalid literal for int() with base 10: ''",
     "output_type": "error",
     "traceback": [
      "\u001b[1;31m---------------------------------------------------------------------------\u001b[0m",
      "\u001b[1;31mValueError\u001b[0m                                Traceback (most recent call last)",
      "\u001b[1;32m<ipython-input-24-72b7135a72aa>\u001b[0m in \u001b[0;36m<module>\u001b[1;34m\u001b[0m\n\u001b[0;32m      3\u001b[0m \u001b[1;32mimport\u001b[0m \u001b[0msys\u001b[0m\u001b[1;33m\u001b[0m\u001b[1;33m\u001b[0m\u001b[0m\n\u001b[0;32m      4\u001b[0m \u001b[1;33m\u001b[0m\u001b[0m\n\u001b[1;32m----> 5\u001b[1;33m \u001b[1;32mfor\u001b[0m \u001b[0mi\u001b[0m \u001b[1;32min\u001b[0m \u001b[0mrange\u001b[0m\u001b[1;33m(\u001b[0m\u001b[0mint\u001b[0m\u001b[1;33m(\u001b[0m\u001b[0msys\u001b[0m\u001b[1;33m.\u001b[0m\u001b[0mstdin\u001b[0m\u001b[1;33m.\u001b[0m\u001b[0mreadline\u001b[0m\u001b[1;33m(\u001b[0m\u001b[1;33m)\u001b[0m\u001b[1;33m)\u001b[0m\u001b[1;33m)\u001b[0m\u001b[1;33m:\u001b[0m\u001b[1;33m\u001b[0m\u001b[1;33m\u001b[0m\u001b[0m\n\u001b[0m\u001b[0;32m      6\u001b[0m     \u001b[0mnumA\u001b[0m\u001b[1;33m,\u001b[0m \u001b[0mnumB\u001b[0m \u001b[1;33m=\u001b[0m \u001b[0mmap\u001b[0m\u001b[1;33m(\u001b[0m\u001b[0mint\u001b[0m\u001b[1;33m,\u001b[0m \u001b[0msys\u001b[0m\u001b[1;33m.\u001b[0m\u001b[0mstdin\u001b[0m\u001b[1;33m.\u001b[0m\u001b[0mreadline\u001b[0m\u001b[1;33m(\u001b[0m\u001b[1;33m)\u001b[0m\u001b[1;33m.\u001b[0m\u001b[0msplit\u001b[0m\u001b[1;33m(\u001b[0m\u001b[1;34m' '\u001b[0m\u001b[1;33m)\u001b[0m\u001b[1;33m)\u001b[0m\u001b[1;33m\u001b[0m\u001b[1;33m\u001b[0m\u001b[0m\n\u001b[0;32m      7\u001b[0m     \u001b[0mprint\u001b[0m\u001b[1;33m(\u001b[0m\u001b[0mnumA\u001b[0m \u001b[1;33m+\u001b[0m \u001b[0mnumB\u001b[0m\u001b[1;33m)\u001b[0m\u001b[1;33m\u001b[0m\u001b[1;33m\u001b[0m\u001b[0m\n",
      "\u001b[1;31mValueError\u001b[0m: invalid literal for int() with base 10: ''"
     ]
    }
   ],
   "source": [
    "import sys\n",
    "#15552번\n",
    "import sys\n",
    "\n",
    "for i in range(int(sys.stdin.readline())):\n",
    "    numA, numB = map(int, sys.stdin.readline().split(' '))\n",
    "    print(numA + numB)"
   ]
  },
  {
   "cell_type": "code",
   "execution_count": 4,
   "metadata": {},
   "outputs": [
    {
     "name": "stdout",
     "output_type": "stream",
     "text": [
      "50\n",
      "F\n"
     ]
    }
   ],
   "source": [
    "#9498번\n",
    "score = int(input())\n",
    "if score >= 90 and score <= 100:\n",
    "    print(\"A\")\n",
    "elif score >= 80 and score <= 89:\n",
    "    print(\"B\")\n",
    "elif score >= 70 and score <= 79:\n",
    "    print(\"C\")\n",
    "elif score >= 60 and score <= 69:\n",
    "    print(\"D\")\n",
    "else :\n",
    "#10817    print(\"F\")"
   ]
  },
  {
   "cell_type": "code",
   "execution_count": null,
   "metadata": {},
   "outputs": [],
   "source": [
    "#10817\n",
    "number = input()#입력\n",
    "cut = number.split()#띄어쓰기 단위로 자르기\n",
    "while int(cut[0])<=1 or int(cut[1])>=100 or int(cut[2])>=100:\n",
    "    number = input()#입력\n",
    "    cut = number.split()#띄어쓰기 단위로 자르기\n",
    "string = sorted(cut)\n",
    "print(string[1])"
   ]
  },
  {
   "cell_type": "code",
   "execution_count": null,
   "metadata": {},
   "outputs": [],
   "source": [
    "a = list(input().split())\n",
    "for i in range(len(a)):\n",
    "    a[i]=int(a[i])\n",
    "a.sort(reverse=True)\n",
    "print(a[1])"
   ]
  }
 ],
 "metadata": {
  "kernelspec": {
   "display_name": "Python 3",
   "language": "python",
   "name": "python3"
  },
  "language_info": {
   "codemirror_mode": {
    "name": "ipython",
    "version": 3
   },
   "file_extension": ".py",
   "mimetype": "text/x-python",
   "name": "python",
   "nbconvert_exporter": "python",
   "pygments_lexer": "ipython3",
   "version": "3.6.7"
  }
 },
 "nbformat": 4,
 "nbformat_minor": 2
}
