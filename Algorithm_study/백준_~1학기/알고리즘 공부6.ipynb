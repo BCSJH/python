{
 "cells": [
  {
   "cell_type": "code",
   "execution_count": 1,
   "metadata": {},
   "outputs": [
    {
     "name": "stdout",
     "output_type": "stream",
     "text": [
      "10 5\n",
      "1 10 4 9 2 3 8 5 7 6\n",
      "1 4 2 3 "
     ]
    }
   ],
   "source": [
    "#10871\n",
    "splits = list(input().split())\n",
    "n = int(splits[0])\n",
    "x = int(splits[1])\n",
    "while n<1 or x>10000:\n",
    "    splits = list(input().split())\n",
    "    n = int(splits[0])\n",
    "    x = int(splits[1])\n",
    "splitss = list(input().split())\n",
    "while len(splitss) !=n:\n",
    "    splitss = list(input().split())\n",
    "for i in range(len(splitss)):\n",
    "    splitss[i]=int(splitss[i])\n",
    "    if x>splitss[i]:\n",
    "        print(splitss[i], end=' ')"
   ]
  },
  {
   "cell_type": "code",
   "execution_count": 22,
   "metadata": {},
   "outputs": [
    {
     "name": "stdout",
     "output_type": "stream",
     "text": [
      "5\n",
      "1 2\n",
      "5\n",
      "1 2 4 8 16\n",
      "38.75\n"
     ]
    }
   ],
   "source": [
    "#1546\n",
    "n = int(input())\n",
    "splitss = list(input().split())\n",
    "while len(splitss) != n:\n",
    "    n = int(input())\n",
    "    splitss = list(input().split())\n",
    "for i in range(len(splitss)):\n",
    "    splitss[i]=int(splitss[i])\n",
    "splitss.sort(reverse=True)\n",
    "max=splitss[0]\n",
    "for i in range(len(splitss)):\n",
    "      splitss[i]=splitss[i]/max * 100\n",
    "print(\"%.2f\" %(sum(splitss)/n))"
   ]
  },
  {
   "cell_type": "code",
   "execution_count": null,
   "metadata": {},
   "outputs": [],
   "source": [
    "#1546\n",
    "n = int(input())\n",
    "while n <1 or n>1000:\n",
    "    n = int(input())\n",
    "for i in range(n):\n",
    "    splits_n[i] = list(input().split())\n",
    "for i in range(n):\n",
    "    for ii in range(len(splits_n[i])):\n",
    "        splits_n[i][ii]=int(splits_n[i][ii])\n",
    "for i in range(n):\n",
    "    print(\"%.3f\" %sum(splits_n[i])/splits_n[0])"
   ]
  },
  {
   "cell_type": "code",
   "execution_count": null,
   "metadata": {},
   "outputs": [],
   "source": [
    "#1546\n",
    "splits_nn = []\n",
    "#splits_avg = []\n",
    "n = int(input())\n",
    "while n <1 or n>1000:\n",
    "    n = int(input())\n",
    "    \n",
    "for i in range(n):\n",
    "    splits_n = list(input().split())\n",
    "    for ii in range(len(splits_n)):\n",
    "        splits_n[ii]=int(splits_n[ii])\n",
    "    m = (sum(splits_n)-splits_n[0])/(len(splits_n)-1)\n",
    "    for u in range(1,splits_n[0]+1):\n",
    "        if m <splits_n[u]:\n",
    "            splits_nn.append(splits_n[u])\n",
    "    b = (len(splits_nn)/len(splits_n)-1)*100\n",
    "    print(str(format(round(b,3),'.3f'))+'%')\n",
    "    splits_nn.clear()\n"
   ]
  }
 ],
 "metadata": {
  "kernelspec": {
   "display_name": "Python 3",
   "language": "python",
   "name": "python3"
  },
  "language_info": {
   "codemirror_mode": {
    "name": "ipython",
    "version": 3
   },
   "file_extension": ".py",
   "mimetype": "text/x-python",
   "name": "python",
   "nbconvert_exporter": "python",
   "pygments_lexer": "ipython3",
   "version": "3.6.7"
  }
 },
 "nbformat": 4,
 "nbformat_minor": 2
}
