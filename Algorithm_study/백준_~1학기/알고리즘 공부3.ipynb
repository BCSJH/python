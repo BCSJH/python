{
 "cells": [
  {
   "cell_type": "code",
   "execution_count": 6,
   "metadata": {
    "scrolled": false
   },
   "outputs": [
    {
     "name": "stdout",
     "output_type": "stream",
     "text": [
      "3\n",
      "3 * 1 = 3\n",
      "3 * 2 = 6\n",
      "3 * 3 = 9\n",
      "3 * 4 = 12\n",
      "3 * 5 = 15\n",
      "3 * 6 = 18\n",
      "3 * 7 = 21\n",
      "3 * 8 = 24\n",
      "3 * 9 = 27\n"
     ]
    }
   ],
   "source": [
    "#구구단\n",
    "n = int(input())\n",
    "string = [i for i in range(1,10)]\n",
    "for i in range(len(string)):\n",
    "    print(n, \"*\", string[i],\"=\", string[i]*n)"
   ]
  },
  {
   "cell_type": "code",
   "execution_count": 30,
   "metadata": {},
   "outputs": [
    {
     "name": "stdout",
     "output_type": "stream",
     "text": [
      "6\n",
      "*\n",
      "**\n",
      "***\n",
      "****\n",
      "*****\n",
      "******\n"
     ]
    }
   ],
   "source": [
    "#별짓기\n",
    "n = int(input())\n",
    "while(n<1 or n>100):\n",
    "    n = int(input())\n",
    "for i in range(1,n+1):\n",
    "    print(i*\"{:}\".format(\"*\"))"
   ]
  },
  {
   "cell_type": "code",
   "execution_count": 31,
   "metadata": {
    "scrolled": true
   },
   "outputs": [
    {
     "name": "stdout",
     "output_type": "stream",
     "text": [
      "6\n",
      "     *\n",
      "    **\n",
      "   ***\n",
      "  ****\n",
      " *****\n",
      "******\n"
     ]
    }
   ],
   "source": [
    "#별짓기\n",
    "n = int(input())\n",
    "while(n<1 or n>100):\n",
    "    n = int(input())\n",
    "for i in range(1,n+1):\n",
    "    print(\" \"*(n-i)+i*\"{:}\".format(\"*\"))"
   ]
  },
  {
   "cell_type": "code",
   "execution_count": 33,
   "metadata": {},
   "outputs": [
    {
     "name": "stdout",
     "output_type": "stream",
     "text": [
      "5\n",
      "*****\n",
      "****\n",
      "***\n",
      "**\n",
      "*\n"
     ]
    }
   ],
   "source": [
    "#별짓기\n",
    "n = int(input())\n",
    "while(n<1 or n>100):\n",
    "    n = int(input())\n",
    "for i in range(n,0,-1):\n",
    "    print(i*\"{:}\".format(\"*\"))"
   ]
  },
  {
   "cell_type": "code",
   "execution_count": 34,
   "metadata": {
    "scrolled": false
   },
   "outputs": [
    {
     "name": "stdout",
     "output_type": "stream",
     "text": [
      "5\n",
      "*****\n",
      " ****\n",
      "  ***\n",
      "   **\n",
      "    *\n"
     ]
    }
   ],
   "source": [
    "#별짓기\n",
    "n = int(input())\n",
    "while(n<1 or n>100):\n",
    "    n = int(input())\n",
    "for i in range(n,0,-1):\n",
    "    print(\" \"*(n-i)+i*\"{:}\".format(\"*\"))"
   ]
  },
  {
   "cell_type": "code",
   "execution_count": null,
   "metadata": {},
   "outputs": [],
   "source": [
    "#오늘은 2007년 1월 1일 월요일이다.\n",
    "#그렇다면 2007년 x월 y일은 무슨 요일일까? 이를 알아내는 프로그램을 작성하시오.\n",
    "#첫째 줄에 빈 칸을 사이에 두고 x(1≤x≤12)와 y(1≤y≤31)이 주어진다.\n",
    "#참고로 2007년에는 1, 3, 5, 7, 8, 10, 12월은 31일까지, \n",
    "#4, 6, 9, 11월은 30일까지, 2월은 28일까지 있다.\n",
    "\n",
    "xy = input()\n",
    "splits = xy.split()\n",
    "x = splits[0]\n",
    "y = splits[1]\n",
    "if (x<1 or x>12) or (y>1 or y>31):\n",
    "\n",
    "#음... 좀더 짧게 만들자!!"
   ]
  },
  {
   "cell_type": "code",
   "execution_count": null,
   "metadata": {},
   "outputs": [],
   "source": []
  }
 ],
 "metadata": {
  "kernelspec": {
   "display_name": "Python 3",
   "language": "python",
   "name": "python3"
  },
  "language_info": {
   "codemirror_mode": {
    "name": "ipython",
    "version": 3
   },
   "file_extension": ".py",
   "mimetype": "text/x-python",
   "name": "python",
   "nbconvert_exporter": "python",
   "pygments_lexer": "ipython3",
   "version": "3.7.1"
  }
 },
 "nbformat": 4,
 "nbformat_minor": 2
}
