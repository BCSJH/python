{
 "cells": [
  {
   "cell_type": "code",
   "execution_count": 1,
   "metadata": {
    "scrolled": true
   },
   "outputs": [
    {
     "name": "stdout",
     "output_type": "stream",
     "text": [
      "1 1 0 0\n",
      "B\n",
      "1 1 1 0 \n",
      "A\n",
      "0 0 1 1\n",
      "B\n"
     ]
    }
   ],
   "source": [
    "#2490번\n",
    "for i in range(3):\n",
    "    n = list(map(int,input().split()))\n",
    "    if n.count(1) == 0:\n",
    "        print('D')\n",
    "    elif n.count(1) == 1:\n",
    "        print('C')\n",
    "    elif n.count(1) == 2:\n",
    "        print('B')\n",
    "    elif n.count(1) == 3:\n",
    "        print('A')\n",
    "    elif n.count(1) == 4:\n",
    "        print('E')\n"
   ]
  },
  {
   "cell_type": "code",
   "execution_count": 2,
   "metadata": {},
   "outputs": [
    {
     "name": "stdout",
     "output_type": "stream",
     "text": [
      "1\n",
      "3.141593\n",
      "2.000000\n"
     ]
    }
   ],
   "source": [
    "#3053번\n",
    "n = int(input())\n",
    "print('%.6f' % (3.14159265358979323846264338327950288*n*n))\n",
    "print('%.6f' % (2*n*n))"
   ]
  },
  {
   "cell_type": "code",
   "execution_count": 3,
   "metadata": {},
   "outputs": [
    {
     "name": "stdout",
     "output_type": "stream",
     "text": [
      "734 863\n",
      "437\n"
     ]
    }
   ],
   "source": [
    "#2908번\n",
    "number_string = input().split()\n",
    "number_string[0] = number_string[0][::-1]\n",
    "number_string[1] = number_string[1][::-1]\n",
    "if int(number_string[0]) > int(number_string[1]):\n",
    "    print(number_string[0])\n",
    "else:\n",
    "    print(number_string[1])"
   ]
  },
  {
   "cell_type": "code",
   "execution_count": 9,
   "metadata": {},
   "outputs": [
    {
     "name": "stdout",
     "output_type": "stream",
     "text": [
      "10\n",
      "65\n",
      "100\n",
      "30\n",
      "95\n",
      "68\n"
     ]
    }
   ],
   "source": [
    "#10039번\n",
    "average = 0\n",
    "for i in range(5):\n",
    "    student = int(input())\n",
    "    if student%5!=0:\n",
    "        while student%5!=5:\n",
    "            student = int(input())\n",
    "    else:\n",
    "        if student<40:\n",
    "            student=40\n",
    "        average+=student\n",
    "print(int(average/5))"
   ]
  },
  {
   "cell_type": "code",
   "execution_count": 14,
   "metadata": {},
   "outputs": [
    {
     "name": "stdout",
     "output_type": "stream",
     "text": [
      "2\n",
      "3 ABC\n",
      "AAABBBCCC\n",
      "5 /HTP\n",
      "/////HHHHHTTTTTPPPPP\n"
     ]
    }
   ],
   "source": [
    "#2675번\n",
    "nn = int(input())\n",
    "for i in range(nn):\n",
    "    n = (list(input().split()))\n",
    "    nn = list(n[1])\n",
    "    for ii in range(len(nn)):\n",
    "        print(nn[ii]*int(n[0]),end='')     \n",
    "    print(\"\")"
   ]
  },
  {
   "cell_type": "code",
   "execution_count": 15,
   "metadata": {},
   "outputs": [
    {
     "name": "stdout",
     "output_type": "stream",
     "text": [
      "34\n",
      "kimjh666\n",
      "\n"
     ]
    }
   ],
   "source": [
    "#7287번\n",
    "print(\"123\")\n",
    "print(\"Your_ICPC_Team_Name\")"
   ]
  },
  {
   "cell_type": "code",
   "execution_count": null,
   "metadata": {},
   "outputs": [],
   "source": [
    "#11718번\n",
    "while True:\n",
    "    try:\n",
    "        print(input())\n",
    "    except EOFError:\n",
    "        break"
   ]
  },
  {
   "cell_type": "code",
   "execution_count": null,
   "metadata": {},
   "outputs": [],
   "source": [
    "#11719번\n",
    "while True:\n",
    "    try:\n",
    "        print(input())\n",
    "    except EOFError:\n",
    "        break"
   ]
  }
 ],
 "metadata": {
  "kernelspec": {
   "display_name": "Python 3",
   "language": "python",
   "name": "python3"
  },
  "language_info": {
   "codemirror_mode": {
    "name": "ipython",
    "version": 3
   },
   "file_extension": ".py",
   "mimetype": "text/x-python",
   "name": "python",
   "nbconvert_exporter": "python",
   "pygments_lexer": "ipython3",
   "version": "3.6.7"
  }
 },
 "nbformat": 4,
 "nbformat_minor": 2
}

