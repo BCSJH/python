{
 "cells": [
  {
   "cell_type": "code",
   "execution_count": 1,
   "metadata": {},
   "outputs": [
    {
     "name": "stdout",
     "output_type": "stream",
     "text": [
      "1 1 0 0\n",
      "B\n",
      "1 1 1 0 \n",
      "A\n",
      "0 0 1 1\n",
      "B\n"
     ]
    }
   ],
   "source": [
    "#2490번\n",
    "for i in range(3):\n",
    "    n = list(map(int,input().split()))\n",
    "    if n.count(1) == 0:\n",
    "        print('D')\n",
    "    elif n.count(1) == 1:\n",
    "        print('C')\n",
    "    elif n.count(1) == 2:\n",
    "        print('B')\n",
    "    elif n.count(1) == 3:\n",
    "        print('A')\n",
    "    elif n.count(1) == 4:\n",
    "        print('E')\n"
   ]
  },
  {
   "cell_type": "code",
   "execution_count": 2,
   "metadata": {},
   "outputs": [
    {
     "name": "stdout",
     "output_type": "stream",
     "text": [
      "1\n",
      "3.141593\n",
      "2.000000\n"
     ]
    }
   ],
   "source": [
    "#3053번\n",
    "n = int(input())\n",
    "print('%.6f' % (3.14159265358979323846264338327950288*n*n))\n",
    "print('%.6f' % (2*n*n))"
   ]
  },
  {
   "cell_type": "code",
   "execution_count": 3,
   "metadata": {},
   "outputs": [
    {
     "name": "stdout",
     "output_type": "stream",
     "text": [
      "734 863\n",
      "437\n"
     ]
    }
   ],
   "source": [
    "#2908번\n",
    "number_string = input().split()\n",
    "number_string[0] = number_string[0][::-1]\n",
    "number_string[1] = number_string[1][::-1]\n",
    "if int(number_string[0]) > int(number_string[1]):\n",
    "    print(number_string[0])\n",
    "else:\n",
    "    print(number_string[1])"
   ]
  },
  {
   "cell_type": "code",
   "execution_count": null,
   "metadata": {},
   "outputs": [],
   "source": []
  }
 ],
 "metadata": {
  "kernelspec": {
   "display_name": "Python 3",
   "language": "python",
   "name": "python3"
  },
  "language_info": {
   "codemirror_mode": {
    "name": "ipython",
    "version": 3
   },
   "file_extension": ".py",
   "mimetype": "text/x-python",
   "name": "python",
   "nbconvert_exporter": "python",
   "pygments_lexer": "ipython3",
   "version": "3.6.7"
  }
 },
 "nbformat": 4,
 "nbformat_minor": 2
}
