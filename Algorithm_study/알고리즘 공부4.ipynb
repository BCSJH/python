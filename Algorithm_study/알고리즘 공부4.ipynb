{
 "cells": [
  {
   "cell_type": "code",
   "execution_count": 7,
   "metadata": {},
   "outputs": [
    {
     "name": "stdout",
     "output_type": "stream",
     "text": [
      "3\n",
      "6\n"
     ]
    }
   ],
   "source": [
    "#입력한 수의 합 구하기\n",
    "def sums(n):\n",
    "    string = [i for i in range(1,n+1)]\n",
    "    sum =0\n",
    "    for r in range(n):\n",
    "        sum +=int(string[r])\n",
    "    return sum\n",
    "n = int(input())\n",
    "if n<1 or n>10000:\n",
    "    n = int(input())\n",
    "print(sums(n))"
   ]
  },
  {
   "cell_type": "code",
   "execution_count": 6,
   "metadata": {},
   "outputs": [
    {
     "name": "stdout",
     "output_type": "stream",
     "text": [
      "3\n",
      "6\n"
     ]
    }
   ],
   "source": [
    "#입력한 수의 합 구하기\n",
    "n = int(input())\n",
    "sums = 0\n",
    "for i in range(1,n+1):\n",
    "    sums+=i\n",
    "print(sums)"
   ]
  },
  {
   "cell_type": "code",
   "execution_count": null,
   "metadata": {},
   "outputs": [],
   "source": []
  }
 ],
 "metadata": {
  "kernelspec": {
   "display_name": "Python 3",
   "language": "python",
   "name": "python3"
  },
  "language_info": {
   "codemirror_mode": {
    "name": "ipython",
    "version": 3
   },
   "file_extension": ".py",
   "mimetype": "text/x-python",
   "name": "python",
   "nbconvert_exporter": "python",
   "pygments_lexer": "ipython3",
   "version": "3.7.1"
  }
 },
 "nbformat": 4,
 "nbformat_minor": 2
}
