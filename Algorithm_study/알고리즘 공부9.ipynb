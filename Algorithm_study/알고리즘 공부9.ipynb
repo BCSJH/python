{
 "cells": [
  {
   "cell_type": "code",
   "execution_count": 1,
   "metadata": {},
   "outputs": [
    {
     "name": "stdout",
     "output_type": "stream",
     "text": [
      "Maxatneunde Wae Teullyeoyo\n",
      "3\n"
     ]
    }
   ],
   "source": [
    "#1152번\n",
    "string = input().split()\n",
    "print(len(string))"
   ]
  },
  {
   "cell_type": "code",
   "execution_count": 5,
   "metadata": {},
   "outputs": [
    {
     "name": "stdout",
     "output_type": "stream",
     "text": [
      "150\n",
      "266\n",
      "427\n",
      "17037300\n",
      "1\n",
      "0\n",
      "2\n",
      "0\n",
      "0\n",
      "0\n",
      "2\n",
      "0\n",
      "0\n"
     ]
    }
   ],
   "source": [
    "a = int(input())\n",
    "b = int(input())\n",
    "c = int(input())\n",
    "result = str(a * b * c)\n",
    "for i in range(0,10):\n",
    "    print(result.count(\"%s\" %i))"
   ]
  },
  {
   "cell_type": "code",
   "execution_count": 5,
   "metadata": {
    "scrolled": true
   },
   "outputs": [
    {
     "name": "stdout",
     "output_type": "stream",
     "text": [
      "15\n",
      "push 1\n",
      "push 2\n",
      "front\n",
      "1\n",
      "back\n",
      "2\n",
      "size\n",
      "2\n",
      "empty\n",
      "0\n",
      "pop\n",
      "1\n",
      "pop\n",
      "2\n",
      "pop\n",
      "-1\n",
      "size\n",
      "0\n",
      "empty\n",
      "1\n",
      "pop\n",
      "-1\n",
      "push 3\n",
      "empty\n",
      "0\n",
      "front\n",
      "3\n"
     ]
    }
   ],
   "source": [
    "#10845번\n",
    "queue = []\n",
    "n = int(input())\n",
    "for i in range(n):\n",
    "    printf = input().split()\n",
    "    if printf[0] == \"push\":\n",
    "        queue.append(printf[1])\n",
    "        \n",
    "    elif printf[0] == \"front\":\n",
    "        if len(queue)==0:\n",
    "            print(\"-1\")\n",
    "        else:\n",
    "            print(queue[0])\n",
    "            \n",
    "    elif printf[0] == \"back\":\n",
    "        if len(queue)==0:\n",
    "            print(\"-1\")\n",
    "        else:\n",
    "            print(queue[i-2])\n",
    "            \n",
    "    elif printf[0] == \"size\":\n",
    "        print(len(queue))\n",
    "        \n",
    "    elif printf[0] == \"empty\":\n",
    "        if len(queue)==0:\n",
    "            print(\"1\")\n",
    "        else:\n",
    "            print(\"0\")\n",
    "            \n",
    "    elif printf[0]== \"pop\":\n",
    "        if len(queue)==0:\n",
    "            print(\"-1\")\n",
    "        else:\n",
    "            print(queue[0])\n",
    "            del queue[0]\n",
    "    else :\n",
    "        continue"
   ]
  },
  {
   "cell_type": "code",
   "execution_count": null,
   "metadata": {},
   "outputs": [],
   "source": [
    "#10845번\n",
    "class Queue:\n",
    "    def __init__(self):\n",
    "        self.queue = []\n",
    " \n",
    "    def push(self, num):\n",
    "        self.queue.append(num)\n",
    " \n",
    "    def pop(self):\n",
    "        return self.queue.pop(0) if len(self.queue) != 0 else -1\n",
    " \n",
    "    def size(self):\n",
    "        return len(self.queue)\n",
    " \n",
    "    def empty(self):\n",
    "        return 1 if self.size() == 0 else 0\n",
    " \n",
    "    def front(self):\n",
    "        return self.queue[0] if self.size() != 0 else -1\n",
    " \n",
    "    def back(self):\n",
    "        return self.queue[-1] if self.size() != 0 else -1\n",
    " \n",
    "#몇개의 숫자를 받을건지\n",
    "num = int(input())\n",
    "queue = Queue()\n",
    "for _ in range(num):\n",
    "    tokens = input().split()\n",
    " \n",
    "    if tokens[0] == \"push\":\n",
    "        queue.push(tokens[1])\n",
    "    elif tokens[0] == \"pop\":\n",
    "        print(queue.pop())\n",
    "    elif tokens[0] == \"size\":\n",
    "        print(queue.size())\n",
    "    elif tokens[0] == \"empty\":\n",
    "        print(queue.empty())\n",
    "    elif tokens[0] == \"front\":\n",
    "        print(queue.front())\n",
    "    elif tokens[0] == \"back\":\n",
    "        print(queue.back())\n",
    "    else:\n",
    "        print(\"it's not acceptable operator\")"
   ]
  }
 ],
 "metadata": {
  "kernelspec": {
   "display_name": "Python 3",
   "language": "python",
   "name": "python3"
  },
  "language_info": {
   "codemirror_mode": {
    "name": "ipython",
    "version": 3
   },
   "file_extension": ".py",
   "mimetype": "text/x-python",
   "name": "python",
   "nbconvert_exporter": "python",
   "pygments_lexer": "ipython3",
   "version": "3.7.1"
  }
 },
 "nbformat": 4,
 "nbformat_minor": 2
}
