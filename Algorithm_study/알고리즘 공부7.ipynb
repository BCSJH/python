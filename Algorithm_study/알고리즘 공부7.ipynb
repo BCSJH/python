{
 "cells": [
  {
   "cell_type": "code",
   "execution_count": 28,
   "metadata": {},
   "outputs": [
    {
     "name": "stdout",
     "output_type": "stream",
     "text": [
      "1\n",
      "60\n"
     ]
    }
   ],
   "source": [
    "#1110번\n",
    "def re(n,nn,count):\n",
    "    f = n // 10\n",
    "    s = n % 10\n",
    "    if (nn == int(str(f) + str(s))) and (count is not 0):\n",
    "        print(count)\n",
    "    else :\n",
    "        count+=1\n",
    "        re(int(str(s)+str((f+s)%10)),nn,count)\n",
    "        \n",
    "n = int(input())\n",
    "count =0\n",
    "while n<0 or n>99:\n",
    "    n = int(input())\n",
    "nn = n\n",
    "re(n,nn,count)"
   ]
  },
  {
   "cell_type": "code",
   "execution_count": 31,
   "metadata": {},
   "outputs": [],
   "source": [
    "#4673번"
   ]
  },
  {
   "cell_type": "code",
   "execution_count": 7,
   "metadata": {
    "scrolled": true
   },
   "outputs": [
    {
     "name": "stdout",
     "output_type": "stream",
     "text": [
      "5\n",
      "OOXXOXXOOO\n",
      "OOXXOOXXOO\n",
      "OXOXOXOXOXOXOX\n",
      "OOOOOOOOOO\n",
      "OOOOXOOOOXOOOOX\n",
      "10\n",
      "9\n",
      "7\n",
      "55\n",
      "30\n"
     ]
    }
   ],
   "source": [
    "#8958번\n",
    "number = int(input())\n",
    "sum_s = []\n",
    "for i in range(number):\n",
    "    sum = 0\n",
    "    score = 0\n",
    "    score_ox = input()\n",
    "    for ii in range(len(score_ox)):\n",
    "        if score_ox[ii] == \"o\" or score_ox[ii]== \"O\":\n",
    "            if score_ox[ii-1] == \"o\" or score_ox[ii-1] == \"O\":\n",
    "                score += 1\n",
    "            else :\n",
    "                score = 1\n",
    "        else :\n",
    "            score = 0\n",
    "        sum += score\n",
    "    sum_s.append(sum)\n",
    "for i in range(number):\n",
    "    print(sum_s[i])"
   ]
  },
  {
   "cell_type": "code",
   "execution_count": null,
   "metadata": {},
   "outputs": [],
   "source": [
    "#20920번\n",
    "count = 0\n",
    "music = input().split()"
   ]
  }
 ],
 "metadata": {
  "kernelspec": {
   "display_name": "Python 3",
   "language": "python",
   "name": "python3"
  },
  "language_info": {
   "codemirror_mode": {
    "name": "ipython",
    "version": 3
   },
   "file_extension": ".py",
   "mimetype": "text/x-python",
   "name": "python",
   "nbconvert_exporter": "python",
   "pygments_lexer": "ipython3",
   "version": "3.7.1"
  }
 },
 "nbformat": 4,
 "nbformat_minor": 2
}
