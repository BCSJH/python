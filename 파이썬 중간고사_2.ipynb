{
 "cells": [
  {
   "cell_type": "code",
   "execution_count": null,
   "metadata": {},
   "outputs": [],
   "source": [
    "#금액과 구매하고 싶은 상품명을 입력받아 물건을 구매하는 메서드\n",
    "def buyProduct(product,money):\n",
    "    try:\n",
    "        #물건의 재고가 부족하면 구입하지 못합니다.\n",
    "        if products[product]==0:\n",
    "            print(\"물건의 재고가 부족합니다.\")\n",
    "            return money\n",
    "        #잔액이 부족하면 구입하지 못합니다.\n",
    "        if product =='커피':\n",
    "            if money<1000:\n",
    "                print(\"잔액이 부족해서 물건을 구매할 수 없습니다.\")\n",
    "                return money\n",
    "        elif product =='우유':\n",
    "            if money<500:\n",
    "                print(\"잔액이 부족해서 물건을 구매할 수 없습니다.\")\n",
    "                return money\n",
    "        elif product =='콜라':\n",
    "            if money<700:\n",
    "                print(\"잔액이 부족해서 물건을 구매할 수 없습니다.\")\n",
    "                return money\n",
    "        elif product =='종이컵':\n",
    "            if money<100:\n",
    "                print(\"잔액이 부족해서 물건을 구매할 수 없습니다.\")\n",
    "                return money\n",
    "        elif product =='컵라면':\n",
    "            if money<1200:\n",
    "                print(\"잔액이 부족해서 물건을 구매할 수 없습니다.\")\n",
    "                return money\n",
    "        products[product] = products[product]-1\n",
    "    except:\n",
    "        #만약 상품명에 없는 물건 구입\n",
    "        print(\"물건을 찾을 수 없습니다.\")\n",
    "        return money"
   ]
  }
 ],
 "metadata": {
  "kernelspec": {
   "display_name": "Python 3",
   "language": "python",
   "name": "python3"
  },
  "language_info": {
   "codemirror_mode": {
    "name": "ipython",
    "version": 3
   },
   "file_extension": ".py",
   "mimetype": "text/x-python",
   "name": "python",
   "nbconvert_exporter": "python",
   "pygments_lexer": "ipython3",
   "version": "3.7.1"
  }
 },
 "nbformat": 4,
 "nbformat_minor": 2
}
