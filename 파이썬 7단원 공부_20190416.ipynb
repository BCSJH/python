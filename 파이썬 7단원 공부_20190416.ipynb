{
 "cells": [
  {
   "cell_type": "code",
   "execution_count": 12,
   "metadata": {},
   "outputs": [
    {
     "name": "stdout",
     "output_type": "stream",
     "text": [
      "deque([0, 1, 2, 3, 4])\n",
      "deque([0, 1, 2, 3])\n",
      "deque([0, 1, 2])\n",
      "deque([0, 1])\n"
     ]
    },
    {
     "data": {
      "text/plain": [
       "deque([0, 1])"
      ]
     },
     "execution_count": 12,
     "metadata": {},
     "output_type": "execute_result"
    }
   ],
   "source": [
    "from collections import deque\n",
    "\n",
    "\n",
    "deque_list = deque()\n",
    "for i in range(5):#0,1,2,3,4 추가\n",
    "    deque_list.append(i)\n",
    "    \n",
    "print(deque_list)\n",
    "deque_list.pop() #마지막에 넣은 값 삭제\n",
    "print(deque_list)#값 확인하기 위해 넣음\n",
    "deque_list.pop()\n",
    "print(deque_list)\n",
    "deque_list.pop()\n",
    "print(deque_list)\n",
    "deque_list#출력"
   ]
  },
  {
   "cell_type": "code",
   "execution_count": 16,
   "metadata": {},
   "outputs": [
    {
     "name": "stdout",
     "output_type": "stream",
     "text": [
      "deque([4, 3, 2, 1, 0, 4, 3, 2, 1, 0, 4, 3, 2, 1, 0, 0, 1])\n"
     ]
    }
   ],
   "source": [
    "from collections import deque\n",
    "\n",
    "for i in range(5):\n",
    "    deque_list.appendleft(i)# 43210 추가\n",
    "    \n",
    "print(deque_list)#출력"
   ]
  },
  {
   "cell_type": "code",
   "execution_count": 17,
   "metadata": {},
   "outputs": [
    {
     "name": "stdout",
     "output_type": "stream",
     "text": [
      "['a', 'b', 'c', 'd']\n"
     ]
    }
   ],
   "source": [
    "import collections\n",
    "#list\n",
    "lst = ['a','b','c']\n",
    "lst.append('d') #d를 오른쪽 마지막에 추가해라\n",
    "print(lst)"
   ]
  },
  {
   "cell_type": "code",
   "execution_count": 23,
   "metadata": {},
   "outputs": [
    {
     "name": "stdout",
     "output_type": "stream",
     "text": [
      "deque(['d', 'a', 'b', 'c'])\n"
     ]
    }
   ],
   "source": [
    "import collections\n",
    "#list\n",
    "dep = collections.deque(['a','b','c'])\n",
    "\n",
    "dep.appendleft('d') #d를 완쪽 첫번 째에 추가\n",
    "print(dep)"
   ]
  },
  {
   "cell_type": "code",
   "execution_count": 24,
   "metadata": {},
   "outputs": [
    {
     "name": "stdout",
     "output_type": "stream",
     "text": [
      "deque([4, 3, 2, 1, 0])\n",
      "deque([1, 0, 4, 3, 2])\n",
      "deque([3, 2, 1, 0, 4])\n"
     ]
    }
   ],
   "source": [
    "from collections import deque\n",
    "deque_list = deque()\n",
    "for i in range(5):\n",
    "    deque_list.appendleft(i)\n",
    "    \n",
    "print(deque_list)\n",
    "deque_list.rotate(2)#두칸씩 이동\n",
    "print(deque_list)\n",
    "\n",
    "deque_list.rotate(2)#두칸씩 이동\n",
    "print(deque_list)"
   ]
  },
  {
   "cell_type": "code",
   "execution_count": 25,
   "metadata": {},
   "outputs": [
    {
     "name": "stdout",
     "output_type": "stream",
     "text": [
      "deque([4, 0, 1, 2, 3])\n"
     ]
    }
   ],
   "source": [
    "print(deque(reversed(deque_list)))# 기존과 반대로 데이터 저장"
   ]
  },
  {
   "cell_type": "code",
   "execution_count": 26,
   "metadata": {},
   "outputs": [
    {
     "name": "stdout",
     "output_type": "stream",
     "text": [
      "deque([3, 2, 1, 0, 4, 5, 6, 7])\n",
      "deque([7, 6, 5, 3, 2, 1, 0, 4, 5, 6, 7])\n"
     ]
    }
   ],
   "source": [
    "#deque[3,2,1,0,4]\n",
    "deque_list.extend([5,6,7])#통채로 오른쪽에 추가\n",
    "print(deque_list)\n",
    "deque_list.extendleft([5,6,7]) #통채로 왼쪽에 추가 \n",
    "print(deque_list)"
   ]
  },
  {
   "cell_type": "code",
   "execution_count": 30,
   "metadata": {},
   "outputs": [
    {
     "name": "stdout",
     "output_type": "stream",
     "text": [
      "['a', 'b', 'c', 'd']\n",
      "deque(['a', 'b', 'c', 'd'])\n",
      "lst.extend('ef') >> ['a', 'b', 'c', 'd', 'e', 'f']\n",
      "lst2.extend('ef') >> ['a', 'b', 'c', 'd', 'ef']\n"
     ]
    }
   ],
   "source": [
    "lst = ['a','b','c']\n",
    "lst.extend('d')#오른쪽에 추가\n",
    "print(lst)\n",
    "\n",
    "deq=collections.deque(['a','b','c'])#오른쪽에 추가\n",
    "deq.extend('d')\n",
    "print(deq)\n",
    "\n",
    "#예제 3-2 append() vs extend()\n",
    "lst2 =['a','b','c','d']\n",
    "lst2.append('ef')\n",
    "lst.extend('ef')\n",
    "\n",
    "print(\"lst.extend('ef') >>\", lst)\n",
    "print(\"lst2.extend('ef') >>\", lst2)\n",
    "#extend는 한개씩 저장하고\n",
    "#append는 한꺼번에 저장"
   ]
  },
  {
   "cell_type": "code",
   "execution_count": 31,
   "metadata": {},
   "outputs": [
    {
     "name": "stdout",
     "output_type": "stream",
     "text": [
      "deque(['e', 'd', 'a', 'b', 'c'])\n"
     ]
    }
   ],
   "source": [
    "#예제4\n",
    "deq = collections.deque(['a','b','c'])\n",
    "deq.extendleft('de') #한개씩 왼쪽에 저장\n",
    "print(deq) "
   ]
  },
  {
   "cell_type": "code",
   "execution_count": 33,
   "metadata": {},
   "outputs": [
    {
     "name": "stdout",
     "output_type": "stream",
     "text": [
      "list.pop() ->  c b a \n",
      "deque.pop() ->  c b a "
     ]
    }
   ],
   "source": [
    "#예제5 list.pop() vs deque.pop()\n",
    "lst = ['a','b','c']\n",
    "print(\"list.pop() -> \",end=' ')\n",
    "while True:\n",
    "    try:\n",
    "        print(lst.pop(),end=' ') #마지막부터 차례대로 제거\n",
    "    except IndexError:\n",
    "        break\n",
    "print()\n",
    "\n",
    "deq = collections.deque(['a','b','c'])\n",
    "print('deque.pop() -> ',end=' ')\n",
    "\n",
    "while True:\n",
    "    try:\n",
    "        print(deq.pop(), end=' ')#list.pop처럼 마지막부터 차례대로 제거\n",
    "    except IndexError:\n",
    "        break"
   ]
  },
  {
   "cell_type": "code",
   "execution_count": 35,
   "metadata": {},
   "outputs": [
    {
     "name": "stdout",
     "output_type": "stream",
     "text": [
      "deque.popleft() ->  a b c "
     ]
    }
   ],
   "source": [
    "#예제6 deque.popleft\n",
    "deq = collections.deque(['a','b','c'])\n",
    "print('deque.popleft() -> ',end=' ')\n",
    "while True:\n",
    "    try:\n",
    "        print(deq.popleft(), end=' ')#왼쪽부터 차례대로 제거\n",
    "    except IndexError:\n",
    "        break"
   ]
  },
  {
   "cell_type": "code",
   "execution_count": 40,
   "metadata": {},
   "outputs": [
    {
     "name": "stdout",
     "output_type": "stream",
     "text": [
      "dep >> e a b c d\n",
      "dep2 >> d e a b c\n",
      "dep3 >> b c d e a\n",
      "dep4 >> c d e a b\n"
     ]
    }
   ],
   "source": [
    "#예제7. rotate(n)\n",
    "#n만큼 회전\n",
    "dep1 = collections.deque(['a','b','c','d','e'])\n",
    "dep1.rotate(1)\n",
    "print('dep >>',' '.join(dep1))\n",
    "#값이 양수면 오른쪽으로 회전\n",
    "\n",
    "dep2 = collections.deque(['a','b','c','d','e'])\n",
    "dep2.rotate(2)#오른쪽으로 2만큼회전\n",
    "print('dep2 >>',' '.join(dep2))\n",
    "\n",
    "#값이 음수면 왼쪽으로 회전\n",
    "dep3 = collections.deque(['a','b','c','d','e'])\n",
    "dep3.rotate(-1)\n",
    "print('dep3 >>',' '.join(dep3))# 왼쪽으로 1만큼 회전\n",
    "\n",
    "dep4= collections.deque(['a','b','c','d','e'])\n",
    "dep4.rotate(-2)#왼쪽으로 2만큼 회전\n",
    "print('dep4 >>',' '.join(dep4))\n"
   ]
  },
  {
   "cell_type": "code",
   "execution_count": null,
   "metadata": {},
   "outputs": [
    {
     "name": "stdout",
     "output_type": "stream",
     "text": [
      "돈을 넣어주세요 :400\n",
      "거스름돈 100를 주고 커피를 줍니다.\n",
      "돈을 넣어주세요 :200\n",
      "돈을 다시 돌려주고 커피를 주지 않습니다.\n",
      "남은 커피의 양은 9개 입니다.\n"
     ]
    }
   ],
   "source": [
    "#coffee.py\n",
    "coffee = 10\n",
    "while True:#반복문\n",
    "    #수행할 문장들\n",
    "    money = int(input(\"돈을 넣어주세요 :\"))\n",
    "    if money == 300:\n",
    "        print(\"커피를 줍니다.\")\n",
    "        coffee -=1\n",
    "    elif money > 300:\n",
    "        print(\"거스름돈 %d를 주고 커피를 줍니다.\"%(money-300))\n",
    "        coffee-=1\n",
    "    else:\n",
    "        print(\"돈을 다시 돌려주고 커피를 주지 않습니다.\")\n",
    "        print(\"남은 커피의 양은 %d개 입니다.\" % coffee)\n",
    "    if coffee == 0:\n",
    "        print(\"커피가 다 떨어졌습니다. 판매를 중지합니다.\")\n",
    "        break# 중지\n"
   ]
  },
  {
   "cell_type": "code",
   "execution_count": null,
   "metadata": {},
   "outputs": [],
   "source": []
  }
 ],
 "metadata": {
  "kernelspec": {
   "display_name": "Python 3",
   "language": "python",
   "name": "python3"
  },
  "language_info": {
   "codemirror_mode": {
    "name": "ipython",
    "version": 3
   },
   "file_extension": ".py",
   "mimetype": "text/x-python",
   "name": "python",
   "nbconvert_exporter": "python",
   "pygments_lexer": "ipython3",
   "version": "3.7.1"
  }
 },
 "nbformat": 4,
 "nbformat_minor": 2
}
