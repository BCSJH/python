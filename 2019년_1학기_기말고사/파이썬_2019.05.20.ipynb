{
 "cells": [
  {
   "cell_type": "code",
   "execution_count": 1,
   "metadata": {},
   "outputs": [
    {
     "name": "stdout",
     "output_type": "stream",
     "text": [
      "5\n"
     ]
    }
   ],
   "source": [
    "#function.py\n",
    "def f(x,y):\n",
    "    return x+y\n",
    "print(f(1,4))"
   ]
  },
  {
   "cell_type": "code",
   "execution_count": 2,
   "metadata": {},
   "outputs": [
    {
     "name": "stdout",
     "output_type": "stream",
     "text": [
      "5\n"
     ]
    }
   ],
   "source": [
    "#lambda.py\n",
    "f = lambda x,y:x+y\n",
    "print(f(1,4))"
   ]
  },
  {
   "cell_type": "code",
   "execution_count": 3,
   "metadata": {},
   "outputs": [
    {
     "ename": "TypeError",
     "evalue": "<lambda>() takes 1 positional argument but 2 were given",
     "output_type": "error",
     "traceback": [
      "\u001b[1;31m---------------------------------------------------------------------------\u001b[0m",
      "\u001b[1;31mTypeError\u001b[0m                                 Traceback (most recent call last)",
      "\u001b[1;32m<ipython-input-3-b513970c035d>\u001b[0m in \u001b[0;36m<module>\u001b[1;34m\u001b[0m\n\u001b[0;32m      9\u001b[0m \u001b[0mfff\u001b[0m\u001b[1;33m(\u001b[0m\u001b[1;36m3\u001b[0m\u001b[1;33m)\u001b[0m\u001b[1;33m\u001b[0m\u001b[1;33m\u001b[0m\u001b[0m\n\u001b[0;32m     10\u001b[0m \u001b[1;33m\u001b[0m\u001b[0m\n\u001b[1;32m---> 11\u001b[1;33m \u001b[0mfff\u001b[0m\u001b[1;33m(\u001b[0m\u001b[1;36m3\u001b[0m\u001b[1;33m,\u001b[0m\u001b[1;36m5\u001b[0m\u001b[1;33m)\u001b[0m\u001b[1;33m\u001b[0m\u001b[1;33m\u001b[0m\u001b[0m\n\u001b[0m",
      "\u001b[1;31mTypeError\u001b[0m: <lambda>() takes 1 positional argument but 2 were given"
     ]
    }
   ],
   "source": [
    "#람다 함수의 다양한 형태\n",
    "f = lambda x,y:x+y\n",
    "f(1,4)\n",
    "\n",
    "ff = lambda x:x**2\n",
    "ff(3)\n",
    "\n",
    "fff=lambda x:x/2\n",
    "fff(3)\n",
    "\n",
    "fff(3,5) #정의 되어있는게 1개의 변수이므로..."
   ]
  },
  {
   "cell_type": "code",
   "execution_count": 4,
   "metadata": {},
   "outputs": [
    {
     "name": "stdout",
     "output_type": "stream",
     "text": [
      "[1, 4, 9, 16, 25]\n"
     ]
    }
   ],
   "source": [
    "#map() 함수\n",
    "#연속 데이터를 저장하는 시쿼스형에서 요소마다 같은 기능을 적용할 때 사용한다.\n",
    "#일반적으로 리스트나 튜플처럼 요소가 있는 시퀀스 자료형에 사용된다.\n",
    "ex = [1,2,3,4,5]\n",
    "f = lambda x:x**2\n",
    "print(list(map(f,ex)))\n",
    "\n",
    "#만약 리스트를 붙이지 않는다면\n",
    "ex = [1,2,3,4,5]\n",
    "f = lambda x:x**2\n",
    "for value in map(f,ex):\n",
    "    print(value)"
   ]
  },
  {
   "cell_type": "code",
   "execution_count": 6,
   "metadata": {},
   "outputs": [
    {
     "name": "stdout",
     "output_type": "stream",
     "text": [
      "[1, 4, 9, 16, 25]\n"
     ]
    }
   ],
   "source": [
    "#리스트 컴프리헨션으로 변경한다면\n",
    "exx = [1,2,3,4,5]\n",
    "print([x**2 for x in ex])"
   ]
  },
  {
   "cell_type": "code",
   "execution_count": 8,
   "metadata": {},
   "outputs": [
    {
     "name": "stdout",
     "output_type": "stream",
     "text": [
      "[2, 4, 6, 8, 10]\n"
     ]
    }
   ],
   "source": [
    "#함수 한 개 이상의 시퀀스 자료형 데이터의 처리\n",
    "ex = [1,2,3,4,5]\n",
    "f = lambda x,y:x+y\n",
    "print(list(map(f,ex,ex)))"
   ]
  },
  {
   "cell_type": "code",
   "execution_count": 11,
   "metadata": {},
   "outputs": [
    {
     "name": "stdout",
     "output_type": "stream",
     "text": [
      "[1, 4, 3, 16, 5]\n",
      "[1, 4, 3, 16, 5]\n"
     ]
    }
   ],
   "source": [
    "#map() 함수 필터링\n",
    "print(list(map(lambda x:x**2 if x%2 ==0 else x,ex)))\n",
    "\n",
    "#리스트 컴프리헨션\n",
    "print([x**2 if x%2==0 else x for x in ex])"
   ]
  },
  {
   "cell_type": "code",
   "execution_count": 14,
   "metadata": {},
   "outputs": [
    {
     "name": "stdout",
     "output_type": "stream",
     "text": [
      "15\n",
      "15\n"
     ]
    }
   ],
   "source": [
    "#reduce()함수\n",
    "from functools import reduce\n",
    "print(reduce(lambda x,y:x+y,[1,2,3,4,5]))\n",
    "\n",
    "#reduce() 함수를...\n",
    "x=0\n",
    "for y in [1,2,3,4,5]:\n",
    "    x+=y\n",
    "print(x)\n",
    "\n",
    "#람다 함수와 맵리듀스의 사용\n"
   ]
  },
  {
   "cell_type": "code",
   "execution_count": 15,
   "metadata": {},
   "outputs": [
    {
     "name": "stdout",
     "output_type": "stream",
     "text": [
      "('Hello',)\n",
      "('Hello', 'Word')\n"
     ]
    }
   ],
   "source": [
    "#별표의 활용 (가변인자 :variadic parameters)\n",
    "def my_print(*contents):\n",
    "    print(contents)\n",
    "my_print(\"Hello\")\n",
    "my_print(\"Hello\",\"Word\")"
   ]
  },
  {
   "cell_type": "code",
   "execution_count": 16,
   "metadata": {},
   "outputs": [
    {
     "name": "stdout",
     "output_type": "stream",
     "text": [
      "lee\n",
      "30\n",
      "seoul\n"
     ]
    }
   ],
   "source": [
    "#가변인자 (*)\n",
    "my_info = ['lee','30','seoul']\n",
    "name,age,adress = my_info\n",
    "\n",
    "print(name)\n",
    "print(age)\n",
    "print(adress)"
   ]
  },
  {
   "cell_type": "code",
   "execution_count": 17,
   "metadata": {},
   "outputs": [
    {
     "ename": "ValueError",
     "evalue": "too many values to unpack (expected 2)",
     "output_type": "error",
     "traceback": [
      "\u001b[1;31m---------------------------------------------------------------------------\u001b[0m",
      "\u001b[1;31mValueError\u001b[0m                                Traceback (most recent call last)",
      "\u001b[1;32m<ipython-input-17-686eb896f9d4>\u001b[0m in \u001b[0;36m<module>\u001b[1;34m\u001b[0m\n\u001b[0;32m      1\u001b[0m \u001b[1;31m#가변인자 (*)\u001b[0m\u001b[1;33m\u001b[0m\u001b[1;33m\u001b[0m\u001b[1;33m\u001b[0m\u001b[0m\n\u001b[0;32m      2\u001b[0m \u001b[0mmy_info_2\u001b[0m \u001b[1;33m=\u001b[0m \u001b[1;33m[\u001b[0m\u001b[1;34m'lee'\u001b[0m\u001b[1;33m,\u001b[0m\u001b[1;34m'30'\u001b[0m\u001b[1;33m,\u001b[0m\u001b[1;34m'seoul'\u001b[0m\u001b[1;33m]\u001b[0m\u001b[1;33m\u001b[0m\u001b[1;33m\u001b[0m\u001b[0m\n\u001b[1;32m----> 3\u001b[1;33m \u001b[0mname\u001b[0m\u001b[1;33m,\u001b[0m\u001b[0mage\u001b[0m \u001b[1;33m=\u001b[0m \u001b[0mmy_info_2\u001b[0m\u001b[1;33m\u001b[0m\u001b[1;33m\u001b[0m\u001b[0m\n\u001b[0m\u001b[0;32m      4\u001b[0m \u001b[1;33m\u001b[0m\u001b[0m\n\u001b[0;32m      5\u001b[0m \u001b[0mprint\u001b[0m\u001b[1;33m(\u001b[0m\u001b[0mname\u001b[0m\u001b[1;33m)\u001b[0m\u001b[1;33m\u001b[0m\u001b[1;33m\u001b[0m\u001b[0m\n",
      "\u001b[1;31mValueError\u001b[0m: too many values to unpack (expected 2)"
     ]
    }
   ],
   "source": [
    "#가변인자 (*)\n",
    "my_info_2 = ['lee','30','seoul']\n",
    "name,age = my_info_2\n",
    "\n",
    "print(name)\n",
    "print(age)\n",
    "#오류 뜸 이유는? \n",
    "#-> 변수는 두 개 뿐인데, my_info에는 세 개의 값이 들어있기 때문"
   ]
  },
  {
   "cell_type": "code",
   "execution_count": 18,
   "metadata": {},
   "outputs": [
    {
     "name": "stdout",
     "output_type": "stream",
     "text": [
      "lee\n",
      "30\n",
      "seoul\n",
      "['010', 'xxxx', 'yyyy']\n"
     ]
    }
   ],
   "source": [
    "#가변인자 (*)\n",
    "my_info_3 = ['lee','30','seoul','010','xxxx','yyyy']\n",
    "name,age,address,*unknowns = my_info_3\n",
    "print(name)\n",
    "print(age)\n",
    "print(address)\n",
    "print(unknowns)"
   ]
  },
  {
   "cell_type": "code",
   "execution_count": 25,
   "metadata": {},
   "outputs": [
    {
     "name": "stdout",
     "output_type": "stream",
     "text": [
      "name: lee\n",
      "age: 30\n"
     ]
    }
   ],
   "source": [
    "#가변인자 (**)\n",
    "def print_customer_info(name,age):\n",
    "    print(f\"name: {name}\") #format\n",
    "    print(f\"age: {age}\")\n",
    "print_customer_info(name='lee', age='30')"
   ]
  },
  {
   "cell_type": "code",
   "execution_count": 26,
   "metadata": {},
   "outputs": [
    {
     "name": "stdout",
     "output_type": "stream",
     "text": [
      "{'name': 'lee', 'age': '30', 'address': 'seoul'}\n"
     ]
    }
   ],
   "source": [
    "#가변인자 (**)\n",
    "def print_customer_info(**kwargs):\n",
    "    print(kwargs)\n",
    "print_customer_info(name='lee',age='30',address='seoul')"
   ]
  },
  {
   "cell_type": "code",
   "execution_count": 27,
   "metadata": {},
   "outputs": [
    {
     "name": "stdout",
     "output_type": "stream",
     "text": [
      "name : lee\n",
      "age : 30\n"
     ]
    }
   ],
   "source": [
    "#가변인자 (**)\n",
    "def print_customer_info(**kwargs):\n",
    "    for key in kwargs:\n",
    "        print(f\"{key} : {kwargs[key]}\")\n",
    "        \n",
    "print_customer_info(name='lee',age='30')"
   ]
  },
  {
   "cell_type": "code",
   "execution_count": 29,
   "metadata": {},
   "outputs": [
    {
     "name": "stdout",
     "output_type": "stream",
     "text": [
      "1 (2, 3, 4, 5, 6)\n",
      "<class 'tuple'>\n"
     ]
    }
   ],
   "source": [
    "#변표의 활용 (가변인자)\n",
    "def asterisk_test(a,*args):\n",
    "    print(a,args)\n",
    "    print(type(args))\n",
    "asterisk_test(1,2,3,4,5,6)"
   ]
  },
  {
   "cell_type": "code",
   "execution_count": 31,
   "metadata": {},
   "outputs": [
    {
     "name": "stdout",
     "output_type": "stream",
     "text": [
      "15\n",
      "55\n",
      "15\n"
     ]
    }
   ],
   "source": [
    "#가변인자 함수 활용\n",
    "#별표 *를 사용하면 튜플\n",
    "def sum_all(*args):\n",
    "    result=0\n",
    "    for i in args:\n",
    "        result+=i\n",
    "    return result\n",
    "print(sum_all(1,2,3,4,5))\n",
    "print(sum_all(1,2,3,4,5,6,7,8,9,10))\n",
    "sumList = [1,2,3,4,5]\n",
    "print(sum_all(*sumList))"
   ]
  },
  {
   "cell_type": "code",
   "execution_count": 32,
   "metadata": {},
   "outputs": [
    {
     "name": "stdout",
     "output_type": "stream",
     "text": [
      "1 {'b': 2, 'c': 3, 'd': 4, 'e': 5, 'f': 6}\n",
      "<class 'dict'>\n"
     ]
    }
   ],
   "source": [
    "#가변인자 함수 활용\n",
    "#별료 **를 사용하면 딕셔너리\n",
    "def asterisk_test_2(a,**kargs):\n",
    "    print(a,kargs)\n",
    "    print(type(kargs))\n",
    "asterisk_test_2(1,b=2,c=3,d=4,e=5,f=6)"
   ]
  },
  {
   "cell_type": "code",
   "execution_count": 33,
   "metadata": {},
   "outputs": [
    {
     "name": "stdout",
     "output_type": "stream",
     "text": [
      "dict_items([('name', 'yasoob'), ('school', 'snu')])\n",
      "name = yasoob\n",
      "school = snu\n"
     ]
    }
   ],
   "source": [
    "#가변인자 함수 사용\n",
    "def greet_me(**kwargs):\n",
    "    print(kwargs.items())\n",
    "    for key,value in kwargs.items():\n",
    "        print(\"{0} = {1}\".format(key,value))\n",
    "greet_me(name=\"yasoob\",school=\"snu\")\n",
    "#ppt 35p"
   ]
  },
  {
   "cell_type": "code",
   "execution_count": null,
   "metadata": {},
   "outputs": [],
   "source": []
  }
 ],
 "metadata": {
  "kernelspec": {
   "display_name": "Python 3",
   "language": "python",
   "name": "python3"
  },
  "language_info": {
   "codemirror_mode": {
    "name": "ipython",
    "version": 3
   },
   "file_extension": ".py",
   "mimetype": "text/x-python",
   "name": "python",
   "nbconvert_exporter": "python",
   "pygments_lexer": "ipython3",
   "version": "3.7.1"
  }
 },
 "nbformat": 4,
 "nbformat_minor": 2
}
