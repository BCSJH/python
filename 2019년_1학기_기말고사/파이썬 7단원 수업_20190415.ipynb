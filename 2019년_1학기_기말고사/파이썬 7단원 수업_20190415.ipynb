{
 "cells": [
  {
   "cell_type": "code",
   "execution_count": null,
   "metadata": {},
   "outputs": [
    {
     "name": "stdout",
     "output_type": "stream",
     "text": [
      "돈을 넣어주세요 :200\n",
      "돈을 다시 돌려주고 커피를 주지 않습니다.\n",
      "남은 커피의 양은 10개 입니다.\n",
      "돈을 넣어주세요 :400\n",
      "거스름돈 100를 주고 커피를 줍니다.\n",
      "돈을 넣어주세요 :300\n",
      "커피를 줍니다.\n",
      "돈을 넣어주세요 :10\n",
      "돈을 다시 돌려주고 커피를 주지 않습니다.\n",
      "남은 커피의 양은 8개 입니다.\n"
     ]
    }
   ],
   "source": [
    "#coffee.py\n",
    "coffee = 10\n",
    "while True:\n",
    "    money = int(input(\"돈을 넣어주세요 :\"))\n",
    "    if money == 300:\n",
    "        print(\"커피를 줍니다.\")\n",
    "        coffee -=1\n",
    "    elif money > 300:\n",
    "        print(\"거스름돈 %d를 주고 커피를 줍니다.\"%(money-300))\n",
    "        coffee-=1\n",
    "    else:\n",
    "        print(\"돈을 다시 돌려주고 커피를 주지 않습니다.\")\n",
    "        print(\"남은 커피의 양은 %d개 입니다.\" % coffee)\n",
    "    if coffee == 0:\n",
    "        print(\"커피가 다 떨어졌습니다. 판매를 중지합니다.\")\n",
    "        break\n"
   ]
  },
  {
   "cell_type": "code",
   "execution_count": null,
   "metadata": {},
   "outputs": [],
   "source": [
    "#f예외 처리\n",
    "try:\n",
    "    print(\"헬로우?\")\n",
    "except: #excapt 발생 오류 as 오류 메시지 변수:\n",
    "        #오류 메시지의 내용까지 알고싶을 때 사용\n",
    "    print(\"헉\")\n",
    "    \n",
    "    #except Exception as ex: #에러 종류를 모르니까 \n",
    "                            #시스템이 가지고 있는 것을 출력해주도록 하는 것\n",
    "        "
   ]
  }
 ],
 "metadata": {
  "kernelspec": {
   "display_name": "Python 3",
   "language": "python",
   "name": "python3"
  },
  "language_info": {
   "codemirror_mode": {
    "name": "ipython",
    "version": 3
   },
   "file_extension": ".py",
   "mimetype": "text/x-python",
   "name": "python",
   "nbconvert_exporter": "python",
   "pygments_lexer": "ipython3",
   "version": "3.7.1"
  }
 },
 "nbformat": 4,
 "nbformat_minor": 2
}
