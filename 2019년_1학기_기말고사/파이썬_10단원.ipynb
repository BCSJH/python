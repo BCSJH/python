{
 "cells": [
  {
   "cell_type": "code",
   "execution_count": 3,
   "metadata": {},
   "outputs": [
    {
     "name": "stdout",
     "output_type": "stream",
     "text": [
      "[아이언맨, 데드풀, 아이언맨]\n",
      "[고블린, 고블린, 고블린]\n",
      "[데드풀, 아이언맨]\n"
     ]
    }
   ],
   "source": [
    "#히어로 1\n",
    "hero_1_name = '아이언맨'\n",
    "hero_1_health = 100\n",
    "hero_1_damage = 200\n",
    "hero_1_inventory = [\n",
    "    {'gold':500},\n",
    "    {'weapon':'레이저'}\n",
    "]\n",
    "\n",
    "#히어로 2\n",
    "hero_2_name = '데드풀'\n",
    "hero_2_health = 300\n",
    "hero_2_damage = 30\n",
    "hero_2_inventory = [\n",
    "    {'gold':300},\n",
    "    {'weapon':'장검'}    \n",
    "]\n",
    "\n",
    "#히어로 3\n",
    "hero_3_name = '울버린'\n",
    "hero_3_health  = 200\n",
    "hero_2_damage = 30\n",
    "hero_3_inventory = [\n",
    "    {'gold':350},\n",
    "    {'weapon':'클로'}\n",
    "]\n",
    "\n",
    "monster_1_name = '고블린'\n",
    "monster_1_health = 90\n",
    "monster_1_damage = 30\n",
    "monster_1_inventory = [\n",
    "    {'gold':50},\n",
    "    {'weapon':'창'}\n",
    "]\n",
    "\n",
    "hero_name = ['아이언맨','데드폴','울버린']\n",
    "hero_health = [100,300,200]\n",
    "hero_damage = [200,30,50]\n",
    "hero_inventory = [\n",
    "    {'gold':500,'weapon':'레이저'},\n",
    "    {'gold':300,'weapon':'장검'},\n",
    "    {'gold':350,'weapon':'클로'}\n",
    "]\n",
    "\n",
    "monster_name = ['고블린','드래곤','뱀파이어']\n",
    "monster_health = [90,200,80]\n",
    "monster_damage = [3,80,120]\n",
    "monster_inventory = [\n",
    "    {'gold':50,'weapon':'창'},\n",
    "    {'gold':200,'weapon':'화염'},\n",
    "    {'gold':1000,'weapon':'최면술'}\n",
    "]\n",
    "\n",
    "class Character(object):\n",
    "    def __init__(self,name,health,damage,inventory):\n",
    "        self.name = name\n",
    "        self.health = health\n",
    "        self.damage = damage\n",
    "        self.inventory = inventory\n",
    "    def __repr__(self):\n",
    "        return self.name\n",
    "\n",
    "heros = []\n",
    "heros.append(Character('아이언맨',100,200,{'gold':500,'weapon':'레이저'}))\n",
    "heros.append(Character('데드풀',300,30,{'gold':300,'weapon':'장검'}))\n",
    "heros.append(Character('아이언맨',200,50,{'gold':350,'weapon':'클로'}))\n",
    "\n",
    "monsters = []\n",
    "monsters.append(Character('고블린',90,30,{'gold':50,'weapon':'창'}))\n",
    "monsters.append(Character('고블린',200,80,{'gold':200,'weapon':'화염'}))\n",
    "monsters.append(Character('고블린',80,120,{'gold':1000,'weapon':'최면술'}))\n",
    "\n",
    "print(heros)\n",
    "print(monsters)\n",
    "del heros[0]\n",
    "print(heros)"
   ]
  },
  {
   "cell_type": "code",
   "execution_count": 4,
   "metadata": {},
   "outputs": [
    {
     "name": "stdout",
     "output_type": "stream",
     "text": [
      "사람 (몸무게60.5kg)\n"
     ]
    }
   ],
   "source": [
    "#클래스 예제\n",
    "class Human():\n",
    "    def __init__(self,name,weight):\n",
    "        self.name = name\n",
    "        self.weight = weight\n",
    "    def __str__(self):\n",
    "        return \"{} (몸무게{}kg)\".format(self.name,self.weight)\n",
    "    \n",
    "person = Human(\"사람\",60.5)\n",
    "print(person)"
   ]
  },
  {
   "cell_type": "code",
   "execution_count": 5,
   "metadata": {},
   "outputs": [
    {
     "name": "stdout",
     "output_type": "stream",
     "text": [
      "현재 선수의 등번호는: 10\n",
      "선수의 등 번호를 변경한다:From 10 to 5\n",
      "바뀐 선수의 등번호는: 5\n"
     ]
    }
   ],
   "source": [
    "#클래스 예제\n",
    "class SoccerPlayer(object):\n",
    "    def __init__(self,name,position,back_number):\n",
    "        self.name = name\n",
    "        self.position = position\n",
    "        self.back_number = back_number\n",
    "    def change(self,new_number):\n",
    "        print(\"선수의 등 번호를 변경한다:From %d to %d\" %(self.back_number,new_number))\n",
    "        self.back_number = new_number\n",
    "    def __str__(self):\n",
    "        return \"hello, My name is %s. I play in %s in center\" %(self.name, self.position)\n",
    "    \n",
    "j = SoccerPlayer(\"JeongHyeon\",\"MF\",10)\n",
    "print(\"현재 선수의 등번호는:\",j.back_number)\n",
    "j.change(5)\n",
    "print(\"바뀐 선수의 등번호는:\",j.back_number)"
   ]
  },
  {
   "cell_type": "code",
   "execution_count": 6,
   "metadata": {},
   "outputs": [
    {
     "name": "stdout",
     "output_type": "stream",
     "text": [
      "[['Messi', 'MF', 10], ['Ramos', 'DF', 4], ['Ronaldo', 'CF', 7], ['Park', 'WF', 13], ['Buffon', 'GK', 1]]\n",
      "['Messi', 'MF', 10]\n"
     ]
    }
   ],
   "source": [
    "names =[\"Messi\",\"Ramos\",\"Ronaldo\",\"Park\",\"Buffon\"]\n",
    "positions = [\"MF\",\"DF\",\"CF\",\"WF\",\"GK\"]\n",
    "numbers = [10,4,7,13,1]\n",
    "\n",
    "players = [[name,posion,number] for name, posion,number in zip(names,positions,numbers)]\n",
    "print(players)\n",
    "print(players[0])\n"
   ]
  },
  {
   "cell_type": "code",
   "execution_count": null,
   "metadata": {},
   "outputs": [],
   "source": []
  }
 ],
 "metadata": {
  "kernelspec": {
   "display_name": "Python 3",
   "language": "python",
   "name": "python3"
  },
  "language_info": {
   "codemirror_mode": {
    "name": "ipython",
    "version": 3
   },
   "file_extension": ".py",
   "mimetype": "text/x-python",
   "name": "python",
   "nbconvert_exporter": "python",
   "pygments_lexer": "ipython3",
   "version": "3.7.1"
  }
 },
 "nbformat": 4,
 "nbformat_minor": 2
}
