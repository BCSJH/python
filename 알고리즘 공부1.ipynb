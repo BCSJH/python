{
 "cells": [
  {
   "cell_type": "code",
   "execution_count": 7,
   "metadata": {},
   "outputs": [
    {
     "name": "stdout",
     "output_type": "stream",
     "text": [
      "8 9\n",
      "-1\n"
     ]
    }
   ],
   "source": [
    "#덧셈\n",
    "string = input();\n",
    "split = string.split()\n",
    "a = int(split[0])\n",
    "b = int(split[1])\n",
    "\n",
    "while((a<=0) or (b>=10)):\n",
    "    string = input();\n",
    "    split = string.split()\n",
    "    a = int(split[0])\n",
    "    b = int(split[1])\n",
    "    \n",
    "print(a+b)"
   ]
  },
  {
   "cell_type": "code",
   "execution_count": 8,
   "metadata": {},
   "outputs": [
    {
     "name": "stdout",
     "output_type": "stream",
     "text": [
      "8 3\n",
      "5\n"
     ]
    }
   ],
   "source": [
    "#뺄셈\n",
    "string = input();\n",
    "split = string.split()\n",
    "a = int(split[0])\n",
    "b = int(split[1])\n",
    "\n",
    "while((a<=0) or (b>=10)):\n",
    "    string = input();\n",
    "    split = string.split()\n",
    "    a = int(split[0])\n",
    "    b = int(split[1])\n",
    "    \n",
    "print(a-b)"
   ]
  },
  {
   "cell_type": "code",
   "execution_count": 19,
   "metadata": {},
   "outputs": [
    {
     "name": "stdout",
     "output_type": "stream",
     "text": [
      "|\\_/|\n",
      "|q p|   /}\n",
      "( 0 )\"\"\"\\\n",
      "|\"^\"`    |\n",
      "||_/=\\\\__|\n"
     ]
    }
   ],
   "source": [
    "#개 출력\n",
    "d = \"^\"\n",
    "print(\"|\\_/|\")\n",
    "print(\"|q p|   /}\")\n",
    "print(\"( 0 )\\\"\\\"\\\"\\\\\")\n",
    "print(\"|\\\"\"+d+\"\\\"`    |\")\n",
    "print(\"||_/=\\\\\\__|\")\n"
   ]
  },
  {
   "cell_type": "code",
   "execution_count": 20,
   "metadata": {},
   "outputs": [
    {
     "name": "stdout",
     "output_type": "stream",
     "text": [
      "강한친구 대한육군\n",
      "강한친구 대한육군\n"
     ]
    }
   ],
   "source": [
    "st = \"강한친구 대한육군\"\n",
    "print(st+\"\\n\"+st)"
   ]
  },
  {
   "cell_type": "code",
   "execution_count": 23,
   "metadata": {},
   "outputs": [
    {
     "name": "stdout",
     "output_type": "stream",
     "text": [
      "3 4\n",
      "12\n"
     ]
    }
   ],
   "source": [
    "#곱셈\n",
    "string = input();\n",
    "split = string.split()\n",
    "a = int(split[0])\n",
    "b = int(split[1])\n",
    "\n",
    "while((a<=0) or (b>=10)):\n",
    "    string = input();\n",
    "    split = string.split()\n",
    "    a = int(split[0])\n",
    "    b = int(split[1])\n",
    "    \n",
    "print(a*b)"
   ]
  },
  {
   "cell_type": "code",
   "execution_count": 24,
   "metadata": {},
   "outputs": [
    {
     "name": "stdout",
     "output_type": "stream",
     "text": [
      "1 3\n",
      "0.3333333333333333\n"
     ]
    }
   ],
   "source": [
    "#나눗셈\n",
    "string = input();\n",
    "split = string.split()\n",
    "a = int(split[0])\n",
    "b = int(split[1])\n",
    "\n",
    "while((a<=0) or (b>=10)):\n",
    "    string = input();\n",
    "    split = string.split()\n",
    "    a = int(split[0])\n",
    "    b = int(split[1])\n",
    "    \n",
    "print(a/b)"
   ]
  },
  {
   "cell_type": "code",
   "execution_count": null,
   "metadata": {},
   "outputs": [],
   "source": []
  }
 ],
 "metadata": {
  "kernelspec": {
   "display_name": "Python 3",
   "language": "python",
   "name": "python3"
  },
  "language_info": {
   "codemirror_mode": {
    "name": "ipython",
    "version": 3
   },
   "file_extension": ".py",
   "mimetype": "text/x-python",
   "name": "python",
   "nbconvert_exporter": "python",
   "pygments_lexer": "ipython3",
   "version": "3.7.1"
  }
 },
 "nbformat": 4,
 "nbformat_minor": 2
}
