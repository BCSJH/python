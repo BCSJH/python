{
 "cells": [
  {
   "cell_type": "code",
   "execution_count": 1,
   "metadata": {
    "scrolled": true
   },
   "outputs": [
    {
     "name": "stdout",
     "output_type": "stream",
     "text": [
      "True False\n"
     ]
    }
   ],
   "source": [
    "#2단원 변수와 자료형\n",
    "\n",
    "#1번 다음 코드의 실행 결과를 쓰시오.\n",
    "a=777 #a라는 변수에(a라는 메모리 주소에) 777값을 넣어라 -> 값 할당해라\n",
    "b=777 #변수를 선언할 때는 알파벳(대소문자 구분), 숫자, 밑줄(_)러 선언해야 된다. 한글, 예약어 사용 불가능!!!\n",
    "        # 파이썬은 자료형을 선언하지 않는다. 인터프리터가 알아서 정수인지 실수인지 판단한다.\n",
    "print(a==b,a is b)# is가 메모리 주소 값을 비교하는 것이므로 False 나오는게 당연함"
   ]
  },
  {
   "cell_type": "code",
   "execution_count": 9,
   "metadata": {},
   "outputs": [],
   "source": [
    "#2번 변수를 메모리에서 삭제하기 위해 사용하는 명령어는?\n",
    "# del\n"
   ]
  },
  {
   "cell_type": "code",
   "execution_count": null,
   "metadata": {},
   "outputs": [],
   "source": [
    "#3번 빈칸에 들어갈 각각의 코드 실행 결과를 쓰시오.\n",
    "a=3.5\n",
    "b=int(3.5)\n",
    "print(a**((a//b)*2)) #a//b는 몫을 반환하는 연산자, **은 제곱\n",
    "                        #a//b는 1 * 2 = 2, 3.5의 2제곱  3.5 * 3.5 = 12.25\n",
    "print(((a-b)*a)//b) # 0.5 *3.5 //3, 1.76 //3 =0\n",
    "\n",
    "b=(((a-b)*a)%b) # 0.5 *3.5 = 1.75 % 3 = 1.75  나머지 연산자는 %\n",
    "print(b)\n",
    "print(\"---------------------------------\")\n",
    "print(a*4)\n",
    "print(b*4)\n",
    "\n",
    "print((a*4)%(b*4)) # a*4 = 14 b*4 = 7 따라서 0"
   ]
  },
  {
   "cell_type": "code",
   "execution_count": 12,
   "metadata": {},
   "outputs": [
    {
     "name": "stdout",
     "output_type": "stream",
     "text": [
      "섭씨온도를 입력하세요 : 3\n",
      "섭씨온도 : 3.0 화씨온도 :  37.4\n"
     ]
    }
   ],
   "source": [
    "#4번 입력받은 섭씨온도를 화씨온도로 변환하는 프로그램을 코딩하려고 한다.\n",
    "#코드 순서를 바르게 나열한 것은?\n",
    "celsius = float(input(\"섭씨온도를 입력하세요 : \"))# fahrenheit를 구할 때 소수점을 곱하기때문에 입력받을 때 소수점으로 바꿔줘야된다.\n",
    "fahrenheit = ((9/5)*celsius) +32\n",
    "print(\"섭씨온도 :\",celsius,\"화씨온도 : \", fahrenheit)"
   ]
  },
  {
   "cell_type": "code",
   "execution_count": 13,
   "metadata": {},
   "outputs": [
    {
     "name": "stdout",
     "output_type": "stream",
     "text": [
      "<class 'str'>\n"
     ]
    }
   ],
   "source": [
    "#5번 다음 변수 a의 자료형은?\n",
    "a=\"True\" # True만 보면 불린형 같지만 아님\n",
    "print(type(a))"
   ]
  },
  {
   "cell_type": "code",
   "execution_count": 15,
   "metadata": {},
   "outputs": [
    {
     "name": "stdout",
     "output_type": "stream",
     "text": [
      "111.3\n"
     ]
    },
    {
     "data": {
      "text/plain": [
       "float"
      ]
     },
     "execution_count": 15,
     "metadata": {},
     "output_type": "execute_result"
    }
   ],
   "source": [
    "#다음과 같은 코드 작성 시, 실행 결과로 알맞게 짝지어진 것은?\n",
    "a = 10.6\n",
    "b = 10.5\n",
    "print(a*b)\n",
    "type(a+b)"
   ]
  },
  {
   "cell_type": "code",
   "execution_count": null,
   "metadata": {},
   "outputs": [],
   "source": [
    "#7번 box=\"apple\"의 뜻은?\n",
    "# box 변수에 apple 값을 넣어라."
   ]
  },
  {
   "cell_type": "code",
   "execution_count": 16,
   "metadata": {},
   "outputs": [
    {
     "name": "stdout",
     "output_type": "stream",
     "text": [
      "3.53.53.53.5\n"
     ]
    }
   ],
   "source": [
    "#8번 다음과 같이 코드를 작성했을 때, 실행 결과로 알맞은 것은?\n",
    "a=\"3.5\"\n",
    "b=4\n",
    "print(a*b) # a가 문자열이기 때문에 a가 4번 출력된다."
   ]
  },
  {
   "cell_type": "code",
   "execution_count": 17,
   "metadata": {},
   "outputs": [
    {
     "name": "stdout",
     "output_type": "stream",
     "text": [
      "3.51.5\n"
     ]
    }
   ],
   "source": [
    "#9번\n",
    "a=\"3.5\"\n",
    "b=\"1.5\"\n",
    "print(a+b)#a와 b 둘다 문자열이기 때문에 문자열이 이어불어서 출력됨"
   ]
  },
  {
   "cell_type": "code",
   "execution_count": 18,
   "metadata": {},
   "outputs": [
    {
     "name": "stdout",
     "output_type": "stream",
     "text": [
      "27.0\n"
     ]
    }
   ],
   "source": [
    "#10번\n",
    "a='3'\n",
    "b=float(a)\n",
    "print(b**int(a))# a가 int형으로 바뀌고 b가 실수형으로 바뀌었기 때문에 3.0의 3제곱이 된다."
   ]
  },
  {
   "cell_type": "code",
   "execution_count": null,
   "metadata": {},
   "outputs": [],
   "source": [
    "#11번 변수(Variable)에 대한 설명으로 틀린 것은?\n",
    "# '2x + 7y'는 14라고 하면, 이 식에서 x와 y가 변수이다.\n",
    "# '2x + 7y'가 문자열이기 때문에"
   ]
  },
  {
   "cell_type": "code",
   "execution_count": 19,
   "metadata": {},
   "outputs": [
    {
     "ename": "TypeError",
     "evalue": "unsupported operand type(s) for /: 'str' and 'str'",
     "output_type": "error",
     "traceback": [
      "\u001b[1;31m---------------------------------------------------------------------------\u001b[0m",
      "\u001b[1;31mTypeError\u001b[0m                                 Traceback (most recent call last)",
      "\u001b[1;32m<ipython-input-19-0825a530d607>\u001b[0m in \u001b[0;36m<module>\u001b[1;34m\u001b[0m\n\u001b[0;32m      2\u001b[0m \u001b[0ma\u001b[0m\u001b[1;33m=\u001b[0m\u001b[1;34m'20'\u001b[0m\u001b[1;33m\u001b[0m\u001b[1;33m\u001b[0m\u001b[0m\n\u001b[0;32m      3\u001b[0m \u001b[0mb\u001b[0m\u001b[1;33m=\u001b[0m\u001b[1;34m'4'\u001b[0m\u001b[1;33m\u001b[0m\u001b[1;33m\u001b[0m\u001b[0m\n\u001b[1;32m----> 4\u001b[1;33m \u001b[0mprint\u001b[0m\u001b[1;33m(\u001b[0m\u001b[0mtype\u001b[0m\u001b[1;33m(\u001b[0m\u001b[0mfloat\u001b[0m\u001b[1;33m(\u001b[0m\u001b[0ma\u001b[0m\u001b[1;33m/\u001b[0m\u001b[0mb\u001b[0m\u001b[1;33m)\u001b[0m\u001b[1;33m)\u001b[0m\u001b[1;33m)\u001b[0m\u001b[1;33m\u001b[0m\u001b[1;33m\u001b[0m\u001b[0m\n\u001b[0m",
      "\u001b[1;31mTypeError\u001b[0m: unsupported operand type(s) for /: 'str' and 'str'"
     ]
    }
   ],
   "source": [
    "#12번 다음과 같이 코드를 작성했을 때, 실행 결과로 알맞은 것은?\n",
    "a='20'\n",
    "b='4'\n",
    "print(type(float(a/b))) #각각의 값을 float로 바꾸고 나누기를 했으면 오류가 뜨지 않았을 것이다."
   ]
  },
  {
   "cell_type": "code",
   "execution_count": 21,
   "metadata": {},
   "outputs": [
    {
     "name": "stdout",
     "output_type": "stream",
     "text": [
      "Gachon CS 50\n"
     ]
    }
   ],
   "source": [
    "#13번 다음 코드의 실행 결과가 나오도록 빈칸에 코드를 추가하시오.(단, 변수를 삭제하면 안 됨)\n",
    "a=\"Gachon\"\n",
    "b=\"CS\"\n",
    "c=200\n",
    "c= int(c/4) #int를 붙인 이유는 나누면서 실수형으로 바뀌므로\n",
    "print(a,b,c)"
   ]
  },
  {
   "cell_type": "code",
   "execution_count": 24,
   "metadata": {},
   "outputs": [
    {
     "name": "stdout",
     "output_type": "stream",
     "text": [
      "1.01.01.01.01.0\n",
      "1.02\n",
      "HanbitPython\n",
      "3.50.5\n"
     ]
    }
   ],
   "source": [
    "#15번 다음 코드의 예상되는 실행 결과를 쓰시오.\n",
    "print(\"1.0\"*5)\n",
    "#print(\"1.0\"+2) #이건 오류가 뜸 문자형 + 정수형은 불가능 하므로\n",
    "                #출력하기 위해서는 print(\"1.0\"+str(2)) 으로 바꾸거나 print(int(1.0)+2)로 바꿔야 된다.\n",
    "print(\"Hanbit\"+\"Python\")\n",
    "print(\"3.5\"+\"0.5\")"
   ]
  },
  {
   "cell_type": "code",
   "execution_count": null,
   "metadata": {},
   "outputs": [],
   "source": []
  }
 ],
 "metadata": {
  "kernelspec": {
   "display_name": "Python 3",
   "language": "python",
   "name": "python3"
  },
  "language_info": {
   "codemirror_mode": {
    "name": "ipython",
    "version": 3
   },
   "file_extension": ".py",
   "mimetype": "text/x-python",
   "name": "python",
   "nbconvert_exporter": "python",
   "pygments_lexer": "ipython3",
   "version": "3.6.7"
  }
 },
 "nbformat": 4,
 "nbformat_minor": 2
}
