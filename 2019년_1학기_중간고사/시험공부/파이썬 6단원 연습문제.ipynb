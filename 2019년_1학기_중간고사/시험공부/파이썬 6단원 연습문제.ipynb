{
 "cells": [
  {
   "cell_type": "code",
   "execution_count": 1,
   "metadata": {},
   "outputs": [
    {
     "name": "stdout",
     "output_type": "stream",
     "text": [
      "ab\n"
     ]
    }
   ],
   "source": [
    "#1번 다음 코드의 실행 결과로 알맞은 것은?\n",
    "a = 11\n",
    "b=9\n",
    "print('a'+'b')"
   ]
  },
  {
   "cell_type": "code",
   "execution_count": 3,
   "metadata": {},
   "outputs": [
    {
     "name": "stdout",
     "output_type": "stream",
     "text": [
      "3\n",
      "5\n",
      "13\n",
      "21\n"
     ]
    }
   ],
   "source": [
    "#2번 다음 코드의 실행 결과로 알맞은 것은?\n",
    "fact =\"Python is funny\"\n",
    "print(str(fact.count('n')))\n",
    "print(fact.find('n'))\n",
    "print(fact.rfind('n'))\n",
    "print(str(fact.count('n')+fact.find('n')+fact.rfind('n')))"
   ]
  },
  {
   "cell_type": "code",
   "execution_count": 5,
   "metadata": {},
   "outputs": [
    {
     "name": "stdout",
     "output_type": "stream",
     "text": [
      "Gacho\n",
      "n\n",
      " \n",
      "Human\n",
      "Gachon Human\n"
     ]
    }
   ],
   "source": [
    "#3번 다음 코드의 실행 결과로 알맞은 것은?\n",
    "text = 'Gachon CS50 - programming with python'\n",
    "text2 = \"Human cs50 knowledge belongs to world\"\n",
    "\n",
    "text.lower()\n",
    "print(text[:5])#Gacho\n",
    "print(text[-1])#n\n",
    "print(text[6])#띄어쓰기\n",
    "print(text2.split()[0])#split이 단어 자르는 것이므로 human\n",
    "print(text[:5]+text[-1]+text[6]+text2.split()[0])"
   ]
  },
  {
   "cell_type": "code",
   "execution_count": 6,
   "metadata": {},
   "outputs": [
    {
     "name": "stdout",
     "output_type": "stream",
     "text": [
      "introduction programming with python\n"
     ]
    }
   ],
   "source": [
    "#4번 다음 코드의 실행 결과로 알맞은 것은?\n",
    "class_name = 'introduction programming with python'\n",
    "\n",
    "for i in class_name:\n",
    "    if i == 'python':\n",
    "        i=i.upper()\n",
    "        \n",
    "print(class_name)"
   ]
  },
  {
   "cell_type": "code",
   "execution_count": 7,
   "metadata": {},
   "outputs": [
    {
     "name": "stdout",
     "output_type": "stream",
     "text": [
      "1010102\n"
     ]
    }
   ],
   "source": [
    "#5번 다음 코드의 실행 결과를 쓰시오.\n",
    "a = '10'\n",
    "b='5-2'.split('-')[1]\n",
    "print(a*3+b)#1010102"
   ]
  },
  {
   "cell_type": "code",
   "execution_count": 8,
   "metadata": {},
   "outputs": [
    {
     "name": "stdout",
     "output_type": "stream",
     "text": [
      "REMEMBER 0 4 16\n"
     ]
    }
   ],
   "source": [
    "#6번 다음 코드의 실행 결과를 쓰시오.\n",
    "name = \"Hanbit\"\n",
    "a = name.find(\"H\")\n",
    "b= name.count(\"H\")*4\n",
    "c= len(name)*2+4\n",
    "print(\"REMEMBER\",str(a),str(b),str(c))"
   ]
  },
  {
   "cell_type": "code",
   "execution_count": 9,
   "metadata": {},
   "outputs": [
    {
     "name": "stdout",
     "output_type": "stream",
     "text": [
      "abcd e f g\n",
      "['abcd', 'e', 'f', 'g']\n",
      "a\n",
      "a\n",
      "aa\n"
     ]
    }
   ],
   "source": [
    "#7번 다음 코드의 실행 결과를 쓰시오.\n",
    "a = \"abcd e f g\"\n",
    "b=a.split() # ['abcd', 'e', 'f', 'g']\n",
    "c=(a[:3][0])\n",
    "d=(a[:3][0][0])\n",
    "print(a)\n",
    "print(b)\n",
    "print(c)\n",
    "print(d)\n",
    "print(c+d)"
   ]
  },
  {
   "cell_type": "code",
   "execution_count": 17,
   "metadata": {},
   "outputs": [
    {
     "name": "stdout",
     "output_type": "stream",
     "text": [
      "I eat 10 oranges every day.\n",
      "I eat 10 oranges every three day.\n"
     ]
    }
   ],
   "source": [
    "#8번 다음 코드의 실행 결과가 다음과 같이 나올 수 있도록 빈칸에 코드를 작성하시오.\n",
    "number = 10\n",
    "day = 3\n",
    "print(\"I eat %d oranges every day.\" %number)\n",
    "\n",
    "number = 10\n",
    "day =\"three\"\n",
    "print(\"I eat %d oranges every %s day.\" %(number,day))"
   ]
  },
  {
   "cell_type": "code",
   "execution_count": 18,
   "metadata": {},
   "outputs": [
    {
     "name": "stdout",
     "output_type": "stream",
     "text": [
      "8,1\n"
     ]
    }
   ],
   "source": [
    "#9번 다음 코드의 실행 결과를 쓰시오.\n",
    "result = \"CODE2018\"\n",
    "print(\"{0},{1}\".format(result[-1],result[-2]))"
   ]
  },
  {
   "cell_type": "code",
   "execution_count": 21,
   "metadata": {},
   "outputs": [
    {
     "name": "stdout",
     "output_type": "stream",
     "text": [
      "This Is PYTHON\n"
     ]
    }
   ],
   "source": [
    "#10번 다음 코드의 실행 결과가 다음과 같이 나올 수 있도록 빈칸에 코드르 작성하시오.\n",
    "str_a = \"this is\"\n",
    "str_b = \"PythoN\"\n",
    "print(str_a.title(),str_b.upper())"
   ]
  },
  {
   "cell_type": "code",
   "execution_count": null,
   "metadata": {},
   "outputs": [],
   "source": [
    "#11번 다음 중 문자열 함수의 설명으로 틀린 것은?\n",
    "#4번"
   ]
  },
  {
   "cell_type": "code",
   "execution_count": 50,
   "metadata": {},
   "outputs": [
    {
     "name": "stdout",
     "output_type": "stream",
     "text": [
      "     *      \n",
      "    ***     \n",
      "   *****    \n",
      "  *******   \n",
      " *********  \n",
      "*********** \n"
     ]
    }
   ],
   "source": [
    "#12번 다음과 같은 결과가 나올 수 있도록 서식 지정(formatting)을 사용하여 코드를 작성하시오.\n",
    "\n",
    "for i in range(1, 13, 2):\n",
    "    print('{:^12}'.format('*' * i))\n"
   ]
  },
  {
   "cell_type": "code",
   "execution_count": null,
   "metadata": {},
   "outputs": [],
   "source": []
  }
 ],
 "metadata": {
  "kernelspec": {
   "display_name": "Python 3",
   "language": "python",
   "name": "python3"
  },
  "language_info": {
   "codemirror_mode": {
    "name": "ipython",
    "version": 3
   },
   "file_extension": ".py",
   "mimetype": "text/x-python",
   "name": "python",
   "nbconvert_exporter": "python",
   "pygments_lexer": "ipython3",
   "version": "3.6.7"
  }
 },
 "nbformat": 4,
 "nbformat_minor": 2
}
