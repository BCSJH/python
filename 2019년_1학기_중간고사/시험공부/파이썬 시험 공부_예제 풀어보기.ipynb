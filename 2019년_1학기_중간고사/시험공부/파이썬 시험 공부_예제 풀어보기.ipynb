{
 "cells": [
  {
   "cell_type": "code",
   "execution_count": 4,
   "metadata": {},
   "outputs": [
    {
     "name": "stdout",
     "output_type": "stream",
     "text": [
      "입력 : 3\n",
      "11.4000\n"
     ]
    }
   ],
   "source": [
    "#일반적인 값 받아서 게산하기\n",
    "#1번\n",
    "def math(u):\n",
    "    return u *1.8 +6\n",
    "\n",
    "u = float(input(\"입력 : \"))\n",
    "print(\"%0.4f\" %math(u))\n",
    "#이렇게 자리수 표현"
   ]
  },
  {
   "cell_type": "code",
   "execution_count": 14,
   "metadata": {},
   "outputs": [
    {
     "name": "stdout",
     "output_type": "stream",
     "text": [
      "입력 :3\n",
      "11\n"
     ]
    }
   ],
   "source": [
    "#2번 간단하게 게산하는 문제\n",
    "#2진수\n",
    "def ch(n,a):\n",
    "    while n>0:\n",
    "        i = n%2\n",
    "        n= n//2\n",
    "        a=  str(i) + a\n",
    "    else:\n",
    "        return a\n",
    "a=''\n",
    "h = int(input(\"입력 :\"))\n",
    "print(ch(h,a))"
   ]
  },
  {
   "cell_type": "code",
   "execution_count": 36,
   "metadata": {},
   "outputs": [
    {
     "name": "stdout",
     "output_type": "stream",
     "text": [
      "수학 max :  99\n",
      "국어 max :  98\n",
      "영어 max :  86\n"
     ]
    }
   ],
   "source": [
    "#3번 가장 높은 값 가장 낮은 값\n",
    "def maxx(sub):\n",
    "    ii=0\n",
    "    max = sub[0]\n",
    "    for i in range(len(sub)):\n",
    "        if (sub[i] > max):\n",
    "            max=sub[i]\n",
    "    return max\n",
    "\n",
    "m = [55,70,43,88,99]\n",
    "k = [88,78,67,54,98]\n",
    "e = [50,86,64,67,37]\n",
    "\n",
    "aver=[m,k,e]\n",
    "\n",
    "print(\"수학 max : \", maxx(m))\n",
    "print(\"국어 max : \", maxx(k))\n",
    "print(\"영어 max : \", maxx(e))"
   ]
  },
  {
   "cell_type": "code",
   "execution_count": 40,
   "metadata": {},
   "outputs": [
    {
     "ename": "KeyError",
     "evalue": "0",
     "output_type": "error",
     "traceback": [
      "\u001b[1;31m---------------------------------------------------------------------------\u001b[0m",
      "\u001b[1;31mKeyError\u001b[0m                                  Traceback (most recent call last)",
      "\u001b[1;32m<ipython-input-40-4e1c4a02c4ba>\u001b[0m in \u001b[0;36m<module>\u001b[1;34m\u001b[0m\n\u001b[0;32m     17\u001b[0m \u001b[0maver\u001b[0m\u001b[1;33m=\u001b[0m\u001b[1;33m[\u001b[0m\u001b[0mm_v\u001b[0m\u001b[1;33m,\u001b[0m\u001b[0mk_v\u001b[0m\u001b[1;33m,\u001b[0m\u001b[0me_v\u001b[0m\u001b[1;33m]\u001b[0m\u001b[1;33m\u001b[0m\u001b[1;33m\u001b[0m\u001b[0m\n\u001b[0;32m     18\u001b[0m \u001b[1;33m\u001b[0m\u001b[0m\n\u001b[1;32m---> 19\u001b[1;33m \u001b[0mprint\u001b[0m\u001b[1;33m(\u001b[0m\u001b[1;34m\"수학 max : \"\u001b[0m\u001b[1;33m,\u001b[0m \u001b[0mmaxx\u001b[0m\u001b[1;33m(\u001b[0m\u001b[0mm\u001b[0m\u001b[1;33m)\u001b[0m\u001b[1;33m,\u001b[0m\u001b[0mm\u001b[0m\u001b[1;33m.\u001b[0m\u001b[0mfind\u001b[0m\u001b[1;33m(\u001b[0m\u001b[0mmaxx\u001b[0m\u001b[1;33m(\u001b[0m\u001b[0mm_v\u001b[0m\u001b[1;33m)\u001b[0m\u001b[1;33m)\u001b[0m\u001b[1;33m)\u001b[0m\u001b[1;33m\u001b[0m\u001b[1;33m\u001b[0m\u001b[0m\n\u001b[0m\u001b[0;32m     20\u001b[0m \u001b[0mprint\u001b[0m\u001b[1;33m(\u001b[0m\u001b[1;34m\"국어 max : \"\u001b[0m\u001b[1;33m,\u001b[0m \u001b[0mmaxx\u001b[0m\u001b[1;33m(\u001b[0m\u001b[0mk\u001b[0m\u001b[1;33m)\u001b[0m\u001b[1;33m,\u001b[0m\u001b[0mk\u001b[0m\u001b[1;33m.\u001b[0m\u001b[0mfind\u001b[0m\u001b[1;33m(\u001b[0m\u001b[0mmaxx\u001b[0m\u001b[1;33m(\u001b[0m\u001b[0mm_v\u001b[0m\u001b[1;33m)\u001b[0m\u001b[1;33m)\u001b[0m\u001b[1;33m)\u001b[0m\u001b[1;33m\u001b[0m\u001b[1;33m\u001b[0m\u001b[0m\n\u001b[0;32m     21\u001b[0m \u001b[0mprint\u001b[0m\u001b[1;33m(\u001b[0m\u001b[1;34m\"영어 max : \"\u001b[0m\u001b[1;33m,\u001b[0m \u001b[0mmaxx\u001b[0m\u001b[1;33m(\u001b[0m\u001b[0me\u001b[0m\u001b[1;33m)\u001b[0m\u001b[1;33m,\u001b[0m\u001b[0me\u001b[0m\u001b[1;33m.\u001b[0m\u001b[0mfind\u001b[0m\u001b[1;33m(\u001b[0m\u001b[0mmaxx\u001b[0m\u001b[1;33m(\u001b[0m\u001b[0mm_v\u001b[0m\u001b[1;33m)\u001b[0m\u001b[1;33m)\u001b[0m\u001b[1;33m)\u001b[0m\u001b[1;33m\u001b[0m\u001b[1;33m\u001b[0m\u001b[0m\n",
      "\u001b[1;32m<ipython-input-40-4e1c4a02c4ba>\u001b[0m in \u001b[0;36mmaxx\u001b[1;34m(sub)\u001b[0m\n\u001b[0;32m      4\u001b[0m     \u001b[0mmax\u001b[0m \u001b[1;33m=\u001b[0m \u001b[0msub\u001b[0m\u001b[1;33m\u001b[0m\u001b[1;33m\u001b[0m\u001b[0m\n\u001b[0;32m      5\u001b[0m     \u001b[1;32mfor\u001b[0m \u001b[0mi\u001b[0m \u001b[1;32min\u001b[0m \u001b[0mrange\u001b[0m\u001b[1;33m(\u001b[0m\u001b[0mlen\u001b[0m\u001b[1;33m(\u001b[0m\u001b[0msub\u001b[0m\u001b[1;33m)\u001b[0m\u001b[1;33m)\u001b[0m\u001b[1;33m:\u001b[0m\u001b[1;33m\u001b[0m\u001b[1;33m\u001b[0m\u001b[0m\n\u001b[1;32m----> 6\u001b[1;33m         \u001b[1;32mif\u001b[0m \u001b[1;33m(\u001b[0m\u001b[0msub\u001b[0m\u001b[1;33m[\u001b[0m\u001b[0mi\u001b[0m\u001b[1;33m]\u001b[0m \u001b[1;33m>\u001b[0m \u001b[0mmax\u001b[0m\u001b[1;33m)\u001b[0m\u001b[1;33m:\u001b[0m\u001b[1;33m\u001b[0m\u001b[1;33m\u001b[0m\u001b[0m\n\u001b[0m\u001b[0;32m      7\u001b[0m             \u001b[0mmax\u001b[0m\u001b[1;33m=\u001b[0m\u001b[0msub\u001b[0m\u001b[1;33m[\u001b[0m\u001b[0mi\u001b[0m\u001b[1;33m]\u001b[0m\u001b[1;33m\u001b[0m\u001b[1;33m\u001b[0m\u001b[0m\n\u001b[0;32m      8\u001b[0m     \u001b[1;32mreturn\u001b[0m \u001b[0mmax\u001b[0m\u001b[1;33m\u001b[0m\u001b[1;33m\u001b[0m\u001b[0m\n",
      "\u001b[1;31mKeyError\u001b[0m: 0"
     ]
    }
   ],
   "source": [
    "#3번 가장 높은 값 가장 낮은 값\n",
    "def maxx(sub):\n",
    "    a = sub.values()\n",
    "    max = sub\n",
    "    for i in range(len(sub)): \n",
    "        #딕셔너리로 최댓값 구하고 이름을 출력학 싶었는데 여기서 막히네..\n",
    "        #닥셔너리에서는 첫번째 값을 어떻게 불러오는거지...밍\n",
    "        if (sub[i] > max):\n",
    "            max=sub[i]\n",
    "    return max\n",
    "\n",
    "m = {'김':55,'이':70,'오':43,'고':88,'육':99}\n",
    "k = {'김':88,'이':78,'오':67,'고':54,'육':98}\n",
    "e = {'김':50,'이':86,'오':64,'고':67,'육':37}\n",
    "\n",
    "m_v = m.values()\n",
    "k_v = k.values()\n",
    "e_v = e.values()\n",
    "aver=[m_v,k_v,e_v]\n",
    "\n",
    "print(\"수학 max : \", maxx(m),m.find(maxx(m_v)))\n",
    "print(\"국어 max : \", maxx(k),k.find(maxx(m_v)))\n",
    "print(\"영어 max : \", maxx(e),e.find(maxx(m_v)))"
   ]
  },
  {
   "cell_type": "code",
   "execution_count": 37,
   "metadata": {},
   "outputs": [
    {
     "name": "stdout",
     "output_type": "stream",
     "text": [
      "수학 max :  43\n",
      "국어 max :  98\n",
      "영어 max :  86\n"
     ]
    }
   ],
   "source": [
    "#3번 최댓값구하기\n",
    "def maxx(sub):\n",
    "    ii=0\n",
    "    max = sub[0]\n",
    "    for i in sub:\n",
    "        if (i > max):\n",
    "            max=sub[ii]\n",
    "        else:\n",
    "            ii+=1\n",
    "    return max\n",
    "\n",
    "m = [55,70,43,88,99]\n",
    "k = [88,78,67,54,98]\n",
    "e = [50,86,64,67,37]\n",
    "\n",
    "aver=[m,k,e]\n",
    "\n",
    "print(\"수학 max : \", maxx(m))\n",
    "#수학은 왜 이렇게 나오지... 나머지는 잘 나오는데 이해가 안된다.\n",
    "\n",
    "print(\"국어 max : \", maxx(k))\n",
    "print(\"영어 max : \", maxx(e))"
   ]
  },
  {
   "cell_type": "code",
   "execution_count": null,
   "metadata": {},
   "outputs": [],
   "source": []
  }
 ],
 "metadata": {
  "kernelspec": {
   "display_name": "Python 3",
   "language": "python",
   "name": "python3"
  },
  "language_info": {
   "codemirror_mode": {
    "name": "ipython",
    "version": 3
   },
   "file_extension": ".py",
   "mimetype": "text/x-python",
   "name": "python",
   "nbconvert_exporter": "python",
   "pygments_lexer": "ipython3",
   "version": "3.6.7"
  }
 },
 "nbformat": 4,
 "nbformat_minor": 2
}
