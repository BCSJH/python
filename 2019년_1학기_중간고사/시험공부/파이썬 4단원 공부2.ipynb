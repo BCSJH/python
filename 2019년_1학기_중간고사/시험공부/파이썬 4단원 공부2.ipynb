{
 "cells": [
  {
   "cell_type": "code",
   "execution_count": 2,
   "metadata": {},
   "outputs": [
    {
     "name": "stdout",
     "output_type": "stream",
     "text": [
      "uoy evol I \n"
     ]
    }
   ],
   "source": [
    "#reverse_sentence.py\n",
    "sentence = \"I love you\"\n",
    "reverse_sentence=' '\n",
    "for char in sentence:\n",
    "    reverse_sentence = char + reverse_sentence\n",
    "print(reverse_sentence)"
   ]
  },
  {
   "cell_type": "code",
   "execution_count": 3,
   "metadata": {},
   "outputs": [
    {
     "name": "stdout",
     "output_type": "stream",
     "text": [
      "1010 \n"
     ]
    }
   ],
   "source": [
    "#decimal.py\n",
    "decimal = 10\n",
    "result = ' '\n",
    "while(decimal>0):\n",
    "    remainder = decimal%2\n",
    "    decimal = decimal //2\n",
    "    result = str(remainder) + result\n",
    "print(result)"
   ]
  },
  {
   "cell_type": "code",
   "execution_count": null,
   "metadata": {},
   "outputs": [],
   "source": []
  }
 ],
 "metadata": {
  "kernelspec": {
   "display_name": "Python 3",
   "language": "python",
   "name": "python3"
  },
  "language_info": {
   "codemirror_mode": {
    "name": "ipython",
    "version": 3
   },
   "file_extension": ".py",
   "mimetype": "text/x-python",
   "name": "python",
   "nbconvert_exporter": "python",
   "pygments_lexer": "ipython3",
   "version": "3.6.7"
  }
 },
 "nbformat": 4,
 "nbformat_minor": 2
}
