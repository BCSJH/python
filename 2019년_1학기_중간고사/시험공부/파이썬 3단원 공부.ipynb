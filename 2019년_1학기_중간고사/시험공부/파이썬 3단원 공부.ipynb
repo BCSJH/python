{
 "cells": [
  {
   "cell_type": "code",
   "execution_count": 1,
   "metadata": {},
   "outputs": [
    {
     "name": "stdout",
     "output_type": "stream",
     "text": [
      "Enter your name: \n",
      "hh\n",
      "Hi hh How are you today?\n"
     ]
    }
   ],
   "source": [
    "# 3단원 공부\n",
    "#input.py\n",
    "print(\"Enter your name: \")\n",
    "somebody = input() #사용자 입력\n",
    "print(\"Hi\",somebody, \"How are you today?\")"
   ]
  },
  {
   "cell_type": "code",
   "execution_count": 2,
   "metadata": {},
   "outputs": [
    {
     "name": "stdout",
     "output_type": "stream",
     "text": [
      "온도를 입력하세요: 12\n",
      "12.0\n"
     ]
    }
   ],
   "source": [
    "#print.py\n",
    "temperature = float(input(\"온도를 입력하세요: \")) #입력하면 실수형으로 바뀜\n",
    "print(temperature)"
   ]
  },
  {
   "cell_type": "code",
   "execution_count": 4,
   "metadata": {},
   "outputs": [
    {
     "name": "stdout",
     "output_type": "stream",
     "text": [
      "본 프로그램은 섭씨온도를 화씨온도로 변환하는 프로그램입니다.\n",
      "변환하고 싶은 섭씨온도를 입력하세요.\n",
      "222\n",
      "섭씨온도: 222\n",
      "화씨온도: 431.6\n"
     ]
    }
   ],
   "source": [
    "#fahrenheit.py\n",
    "print(\"본 프로그램은 섭씨온도를 화씨온도로 변환하는 프로그램입니다.\")\n",
    "print(\"변환하고 싶은 섭씨온도를 입력하세요.\")\n",
    "\n",
    "celsius = input()\n",
    "fahrenheit=(float(celsius)*1.8) +32 #계산\n",
    "\n",
    "print(\"섭씨온도:\",celsius)\n",
    "print(\"화씨온도:\",fahrenheit)"
   ]
  },
  {
   "cell_type": "code",
   "execution_count": 6,
   "metadata": {},
   "outputs": [
    {
     "name": "stdout",
     "output_type": "stream",
     "text": [
      "red\n",
      "blue\n",
      "green\n",
      "3\n"
     ]
    }
   ],
   "source": [
    "#indexing.py\n",
    "colors =['red','blue','green'] \n",
    "#인덱싱이란 리스트에 있는 값에 접근하기 위해, 상대적인 주소를 사용하는 것\n",
    "print(colors[0])\n",
    "print(colors[1])\n",
    "print(colors[2])\n",
    "print(len(colors))# len은 colors의 개수 반환하는 함수"
   ]
  },
  {
   "cell_type": "code",
   "execution_count": 9,
   "metadata": {},
   "outputs": [
    {
     "name": "stdout",
     "output_type": "stream",
     "text": [
      "['서울', '부산', '인천', '대구', '대전', '광주', '울산', '수원']\n",
      "['서울', '부산', '인천', '대구', '대전', '광주', '울산', '수원']\n",
      "['서울', '부산', '인천', '대구', '대전', '광주', '울산', '수원']\n",
      "['서울', '인천', '대전', '울산']\n",
      "['수원', '울산', '광주', '대전', '대구', '인천', '부산', '서울']\n"
     ]
    }
   ],
   "source": [
    "#\\slicing 공부\n",
    "cities = ['서울','부산','인천','대구','대전','광주','울산','수원']\n",
    "#서울의 인텍스 값이 0 그 뒤로 1 2 3 4 5 6 7\n",
    "cities[0:6] #서울~광주까지 출력\n",
    "cities[0:5] #서울~대전까지 출력\n",
    "cities[5:] #광주부터 그 뒤에 있는 것 까지 출력\n",
    "\n",
    "#reverse index\n",
    "#cities에서 리버스 값은\n",
    "#서울 부산 인천 대구 대전 광주 울산 수원\n",
    "# -8   -7   -6  -5  -4    -3   -2   -1  \n",
    "print(cities[-8:]) # 전체 다 출력\n",
    "\n",
    "#인덱스 범위를 넘어가는 슬라이싱]\n",
    "print(cities[:]) #전체 출력\n",
    "print(cities[-50:50]) #범위를 넘어갈 경우 자동으로 최대 범위가 지정됨\n",
    "\n",
    "#증가값\n",
    "print(cities[::2]) #2칸 단위 출력\n",
    "# 서울 인천 대전 울산 출력\n",
    "\n",
    "print(cities[::-1]) #역 슬라이싱\n"
   ]
  },
  {
   "cell_type": "code",
   "execution_count": 12,
   "metadata": {},
   "outputs": [
    {
     "name": "stdout",
     "output_type": "stream",
     "text": [
      "['red', 'blue', 'green', 'orange', 'black', 'white']\n",
      "3\n",
      "['red', 'blue', 'green', 'orange', 'black', 'white']\n",
      "['red', 'blue', 'green', 'red', 'blue', 'green']\n"
     ]
    }
   ],
   "source": [
    "#리스트의 연산\n",
    "color1=['red','blue','green']\n",
    "color2=['orange','black','white']\n",
    "print(color1 + color2)\n",
    "print(len(color1)) #리스트 길이\n",
    "total_color = color1 + color2 # 두 개의 리스트 합치기\n",
    "print(total_color)\n",
    "print(color1*2) #color1 리스트 2회 반복"
   ]
  },
  {
   "cell_type": "code",
   "execution_count": 14,
   "metadata": {},
   "outputs": [
    {
     "name": "stdout",
     "output_type": "stream",
     "text": [
      "False\n"
     ]
    }
   ],
   "source": [
    "#in 연산\n",
    "#in은 포함 여부 확인하는 연산으로\n",
    "color1=['red','blue','green']\n",
    "color2=['orange','black','white']\n",
    "print('blue' in color2) #color2에 'blue'가 없다."
   ]
  },
  {
   "cell_type": "code",
   "execution_count": 23,
   "metadata": {},
   "outputs": [
    {
     "name": "stdout",
     "output_type": "stream",
     "text": [
      "['red', 'blue', 'green', 'white']\n",
      "['red', 'blue', 'green', 'white', 'black', 'orange']\n",
      "['yellow', 'red', 'blue', 'green', 'white', 'black', 'orange']\n",
      "['yellow', 'blue', 'green', 'white', 'black', 'orange']\n",
      "['red', 'blue', 'green', 'white', 'black', 'orange']\n",
      "['blue', 'green', 'white', 'black', 'orange']\n"
     ]
    }
   ],
   "source": [
    "#리스트 추가 및 삭제\n",
    "color=['red','blue','green']\n",
    "#append\n",
    "color.append('white') # 리스트 추가\n",
    "#리스트 맨 뒤에 새로운 값을 추가\n",
    "print(color)\n",
    "\n",
    "#extend\n",
    "color.extend(['black','orange']) # 리스트 덧셈\n",
    "# 추가하는 것이 아닌 기존 리스트에 있는 값에 새로운 리스트를 합치는 기능\n",
    "print(color)\n",
    "\n",
    "#insert\n",
    "color.insert(0,'yellow')\n",
    "#특정 위치에 추가\n",
    "print(color)\n",
    "\n",
    "#remove\n",
    "color.remove('red')\n",
    "print(color)\n",
    "\n",
    "#인덱스 재할당과 삭제\n",
    "color[0] = 'red' #인덱스 재할당\n",
    "print(color)\n",
    "del color[0] #삭제\n",
    "print(color)"
   ]
  },
  {
   "cell_type": "code",
   "execution_count": 25,
   "metadata": {},
   "outputs": [
    {
     "name": "stdout",
     "output_type": "stream",
     "text": [
      "[1, 2, 3] 1 2 3\n"
     ]
    }
   ],
   "source": [
    "#패킹 언패킹\n",
    "t=[1,2,3] # t에 1,2,3을 패킹\n",
    "a,b,c,=t #t에 있는 값 1,2,3을 변수 a,b,c에 언패킹\n",
    "print(t,a,b,c)"
   ]
  },
  {
   "cell_type": "code",
   "execution_count": 28,
   "metadata": {},
   "outputs": [
    {
     "name": "stdout",
     "output_type": "stream",
     "text": [
      "[[10, 20, 30, 40, 30], [20, 30, 40, 20, 10], [30, 10, 20, 30, 20]]\n",
      "10\n"
     ]
    }
   ],
   "source": [
    "#이차원 리스트\n",
    "math = [10,20,30,40,30]\n",
    "kore = [20,30,40,20,10]\n",
    "engl = [30,10,20,30,20]\n",
    "\n",
    "midt = [math,kore,engl]\n",
    "print(midt)\n",
    "print(midt[0][0])"
   ]
  },
  {
   "cell_type": "code",
   "execution_count": 29,
   "metadata": {},
   "outputs": [
    {
     "name": "stdout",
     "output_type": "stream",
     "text": [
      "False\n",
      "True\n"
     ]
    }
   ],
   "source": [
    "#리스트의 메모리 관리 방식\n",
    "a = 300\n",
    "b = 300\n",
    "print(a is b)\n",
    "print(a == b)\n",
    "#a와 b의 값은 같지만 a화 b의 메모리 주소는 다르다.\n",
    "#is가 메모리 주소 비교"
   ]
  },
  {
   "cell_type": "code",
   "execution_count": 33,
   "metadata": {},
   "outputs": [
    {
     "name": "stdout",
     "output_type": "stream",
     "text": [
      "[1, 2, 3, 4, 5]\n"
     ]
    }
   ],
   "source": [
    "a = [1,4,3,5,2]\n",
    "b = [6,7,8,9,0]\n",
    "b=a\n",
    "a.sort()\n",
    "print(b)\n",
    "# a를 정렬했는데 b도 정렬되었다.\n",
    "# b=a를 입력하는 순간 두 변수가 같은 메모리 주소로 연결됨 \n",
    "#즉 하나 변수 값만 바뀌어도 둘다 영향받음"
   ]
  },
  {
   "cell_type": "code",
   "execution_count": null,
   "metadata": {},
   "outputs": [],
   "source": []
  }
 ],
 "metadata": {
  "kernelspec": {
   "display_name": "Python 3",
   "language": "python",
   "name": "python3"
  },
  "language_info": {
   "codemirror_mode": {
    "name": "ipython",
    "version": 3
   },
   "file_extension": ".py",
   "mimetype": "text/x-python",
   "name": "python",
   "nbconvert_exporter": "python",
   "pygments_lexer": "ipython3",
   "version": "3.6.7"
  }
 },
 "nbformat": 4,
 "nbformat_minor": 2
}
