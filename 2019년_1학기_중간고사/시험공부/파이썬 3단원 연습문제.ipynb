{
 "cells": [
  {
   "cell_type": "code",
   "execution_count": 2,
   "metadata": {},
   "outputs": [
    {
     "name": "stdout",
     "output_type": "stream",
     "text": [
      "[0, 1, 2] [0, 1]\n",
      "[0, 1, 2]\n"
     ]
    }
   ],
   "source": [
    "#1번 다음 코드의 실행 결과를 쓰시오.\n",
    "a=[0,1,2,3,4]\n",
    "print(a[:3],a[:-3])\n",
    "#a[:-3]이 0,1,2가 출력될 줄 알았는데 0,1이 출력되었다. 흠... 리버스 인덱싱은 입력한 숫자까지 제외하고 출력되나 보다..."
   ]
  },
  {
   "cell_type": "code",
   "execution_count": 3,
   "metadata": {},
   "outputs": [
    {
     "name": "stdout",
     "output_type": "stream",
     "text": [
      "[4, 3, 2, 1, 0]\n"
     ]
    }
   ],
   "source": [
    "#2번 다음 코드의 실행 결과를 쓰시오.\n",
    "a=[0,1,2,3,4]\n",
    "print(a[::-1])"
   ]
  },
  {
   "cell_type": "code",
   "execution_count": 8,
   "metadata": {},
   "outputs": [
    {
     "name": "stdout",
     "output_type": "stream",
     "text": [
      "[['egg', 'salad', 'bread'], ['lamb', 'chicken'], 'apple']\n",
      "[['egg', 'salad', 'bread'], ['lamb', 'chicken']]\n",
      "[['egg', 'salad', 'bread'], ['lamb', 'chicken'], 'apple']\n"
     ]
    }
   ],
   "source": [
    "#3번 다음 코드의 실행 결과를 쓰시오.\n",
    "first = [\"egg\",\"salad\",\"bread\",\"soup\",\"conafe\"]\n",
    "second = [\"fish\",\"lamb\",\"pork\",\"beef\",\"chicken\"]\n",
    "third = [\"apple\",\"banana\",\"orange\",\"grape\",\"mango\"]\n",
    "\n",
    "order = [first, second, third]\n",
    "john = [order[0][:-2],second[1::3],third[0]]\n",
    "# egg salad bread lamb chiken apple\n",
    "print(john)\n",
    "del john[2]\n",
    "#[['egg', 'salad', 'bread'], ['lamb', 'chicken']\n",
    "print(john)\n",
    "john.extend(order[2][0:1])\n",
    "#[['egg', 'salad', 'bread'], ['lamb', 'chicken'],'apple']\n",
    "#마지막 인덱스 -1 값까지 출력\n",
    "print(john)"
   ]
  },
  {
   "cell_type": "code",
   "execution_count": 15,
   "metadata": {},
   "outputs": [
    {
     "name": "stdout",
     "output_type": "stream",
     "text": [
      "[1, 2, 3, 4] None\n"
     ]
    }
   ],
   "source": [
    "#4번 다음 코드의 실행 결과를 쓰시오.\n",
    "list_a = [3,2,1,4]\n",
    "list_b = list_a.sort() # 정렬\n",
    "\n",
    "print(list_a,list_b)"
   ]
  },
  {
   "cell_type": "code",
   "execution_count": 18,
   "metadata": {},
   "outputs": [
    {
     "name": "stdout",
     "output_type": "stream",
     "text": [
      "[5, 7, 3, 3, 9, 1]\n",
      "[1, 3, 3, 5, 7, 9]\n"
     ]
    }
   ],
   "source": [
    "#5번 다음 코드의 실행 결과를 쓰시오.\n",
    "a=[5,7,3]\n",
    "b=[3,9,1]\n",
    "c= a+b\n",
    "print(c)\n",
    "c= c.sort()\n",
    "print(c)\n",
    "#만약 값을 정렬하고 싶다면\n",
    "#c = a+b\n",
    "#d = c\n",
    "#c.sort()\n",
    "#print(d)\n",
    "#이렇게 하면 된다. 직접 바꾼 값을 넣으니까 none 값됨......"
   ]
  },
  {
   "cell_type": "code",
   "execution_count": null,
   "metadata": {},
   "outputs": [],
   "source": [
    "#6번 GUI와 CLI의 설명으로 틀린 것은?\n",
    "#5"
   ]
  },
  {
   "cell_type": "code",
   "execution_count": 20,
   "metadata": {},
   "outputs": [
    {
     "name": "stdout",
     "output_type": "stream",
     "text": [
      "['orange', 'strawberry', 'melon'] ['banana', 'orange']\n"
     ]
    }
   ],
   "source": [
    "#7번 다음 코드의 실행 결과를 쓰시오.\n",
    "fruits = ['apple','banana','cherry','grape','orange','strawberry','melon']\n",
    "print(fruits[-3:],fruits[1::3]) # 왜 -3 -2 -1 값이 출력된 건지 이해가 안됨...\n",
    "#이런.... 리버스가 제일 어려움...ㅠㅠ"
   ]
  },
  {
   "cell_type": "code",
   "execution_count": 21,
   "metadata": {},
   "outputs": [
    {
     "name": "stdout",
     "output_type": "stream",
     "text": [
      "[1, 2, 3, 4, 1, 2, 3, 4]\n"
     ]
    }
   ],
   "source": [
    "#8번 다음 코드의 실행 결과를 쓰시오.\n",
    "num = [1,2,3,4]\n",
    "print(num*2)"
   ]
  },
  {
   "cell_type": "code",
   "execution_count": 22,
   "metadata": {},
   "outputs": [
    {
     "name": "stdout",
     "output_type": "stream",
     "text": [
      "False 6\n"
     ]
    }
   ],
   "source": [
    "#9번 다음 코드의 실행 결과를 쓰시오.\n",
    "a=[1,2,3,5]\n",
    "b=['a','b','c','d','e']\n",
    "a.append('g')\n",
    "b.append(6)\n",
    "print('g' in b, len(b))"
   ]
  },
  {
   "cell_type": "code",
   "execution_count": 23,
   "metadata": {},
   "outputs": [
    {
     "name": "stdout",
     "output_type": "stream",
     "text": [
      "['Hankook', 'is', 'academic', 'located', 'South Korea']\n"
     ]
    }
   ],
   "source": [
    "#10번 다음과 같이 코드를 작성했을 때, 실행 결과로 알맞은 것은?\n",
    "list_a = ['Hankook','Unoversity','is','an','academic','institute','located','in','South Korea']\n",
    "list_b =[]\n",
    "for i in range(len(list_a)):\n",
    "    if i%2 != 1:\n",
    "        list_b.append(list_a[i])\n",
    "print(list_b)\n",
    "#Hankook is academic located South Korea"
   ]
  },
  {
   "cell_type": "code",
   "execution_count": 27,
   "metadata": {},
   "outputs": [
    {
     "name": "stdout",
     "output_type": "stream",
     "text": [
      "입학년도를 입력하세요. : 2018\n",
      "<class 'str'>\n"
     ]
    }
   ],
   "source": [
    "#11번 다음 코드를 실행한 후, 2018과 \"2018\"을 각각 입력했을 경우 알맞은 싱행 결과끼리 묶인 것은?\n",
    "admission_year = input(\"입학년도를 입력하세요. : \")\n",
    "print(type(admission_year))\n",
    "#input으로 받으면서 이미 문자열로 인식됨"
   ]
  },
  {
   "cell_type": "code",
   "execution_count": 29,
   "metadata": {},
   "outputs": [
    {
     "name": "stdout",
     "output_type": "stream",
     "text": [
      "['Korea', 'Japan', 'China', ['Seoul', [2, 3], 'Beijing']]\n"
     ]
    }
   ],
   "source": [
    "#12번 다음 코드의 실행 결과를 쓰시오.\n",
    "country = [\"Korea\",\"Japan\",\"China\"]\n",
    "capital = [\"Seoul\",\"Tokyo\",\"Beijing\"]\n",
    "index =[1,2,3] \n",
    "country.append(capital) # country = [\"Korea\",\"Japan\",\"China\", [\"Seoul\",\"Tokyo\",\"Beijing\"]]\n",
    "country[3][1]=index[1:] # [\"Korea\",\"Japan\",\"China\",\"Seoul\",\"[2,3],\"Beijing\"]]\n",
    "print(country)"
   ]
  },
  {
   "cell_type": "code",
   "execution_count": 30,
   "metadata": {},
   "outputs": [
    {
     "name": "stdout",
     "output_type": "stream",
     "text": [
      "['Thu', 'Fri']\n"
     ]
    }
   ],
   "source": [
    "#13번 다음 코드의 실행 결과가 나오도록 빈칸에 알맞은 코드를 쓰시오.\n",
    "week1 = [\"Mon\", \"Tue\", \"Wed\"]\n",
    "week2 = [\"Thu\",\"Fri\",\"Sat\",\"Sun\"]\n",
    "week3 = [\"dd\"] # 여기가 빈칸이었는데 여기에 아무 값이나 넣어주면 됨\n",
    "print(week2[:len(week3)+1])\n",
    "#= ['The','Fri']"
   ]
  },
  {
   "cell_type": "code",
   "execution_count": 33,
   "metadata": {},
   "outputs": [
    {
     "name": "stdout",
     "output_type": "stream",
     "text": [
      "True\n",
      "False\n"
     ]
    }
   ],
   "source": [
    "#14번 다음 코드를 실행하면 다음과 같은 결과가 나온다. 그 이유에 대해 서술하시오.\n",
    "a=1\n",
    "b=1\n",
    "print(a is b)\n",
    "a=300\n",
    "b=300\n",
    "print(a is b)\n",
    "#-5~ 256까지 그 해당 주소로 저장됨"
   ]
  },
  {
   "cell_type": "code",
   "execution_count": 34,
   "metadata": {},
   "outputs": [
    {
     "name": "stdout",
     "output_type": "stream",
     "text": [
      "True\n",
      "False\n"
     ]
    }
   ],
   "source": [
    "#15번 다음과 같이 코드를 작성했을 때 예측되는 실행 결과를 쓰고, 이러한 결과가 나오는 이유에 대해 서술하시오.\n",
    "a=[5,4,3,2,1]\n",
    "b=a\n",
    "c=[5,4,3,2,1]\n",
    "print(a is b)\n",
    "print(a is c)\n",
    "#b=a를 해줬기 때문에 a의 메모리 주소가 연결되어 두 변수가 같은 메모리 주소를 사용하기 때문에 a is b는 True가 된다.\n",
    "#a와 c는 서로 메모리 주소가 다르기 때문이다. is는 메모리 주소 값 비교"
   ]
  },
  {
   "cell_type": "code",
   "execution_count": null,
   "metadata": {},
   "outputs": [],
   "source": []
  }
 ],
 "metadata": {
  "kernelspec": {
   "display_name": "Python 3",
   "language": "python",
   "name": "python3"
  },
  "language_info": {
   "codemirror_mode": {
    "name": "ipython",
    "version": 3
   },
   "file_extension": ".py",
   "mimetype": "text/x-python",
   "name": "python",
   "nbconvert_exporter": "python",
   "pygments_lexer": "ipython3",
   "version": "3.6.7"
  }
 },
 "nbformat": 4,
 "nbformat_minor": 2
}
