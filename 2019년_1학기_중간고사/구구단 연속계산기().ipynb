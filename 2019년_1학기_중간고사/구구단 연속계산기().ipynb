{
 "cells": [
  {
   "cell_type": "code",
   "execution_count": 4,
   "metadata": {},
   "outputs": [
    {
     "name": "stdout",
     "output_type": "stream",
     "text": [
      "구구단 몇 단을 계산할까요(1~9)?4\n",
      "구구단  4 단을 계산합니다.\n",
      "4  x  1 = 4\n",
      "4  x  2 = 8\n",
      "4  x  3 = 12\n",
      "4  x  4 = 16\n",
      "4  x  5 = 20\n",
      "4  x  6 = 24\n",
      "4  x  7 = 28\n",
      "4  x  8 = 32\n",
      "4  x  9 = 36\n",
      "구구단 몇 단을 계산할까요(1~9)?0\n",
      "구구단 게임을 종료합니다.\n"
     ]
    }
   ],
   "source": [
    "gugudan = int(input(\"구구단 몇 단을 계산할까요(1~9)?\"))\n",
    "while(gugudan is not 0):#0을 입력할때까지 반복 계산-\n",
    "    if(gugudan>9 and gugudan<1):#~9까지의 숫자 입력하도록\n",
    "        print(\"잘못 입력했습니다.\",\"1부터 9 사이 숫자를 입력하세요.\")\n",
    "        continue\n",
    "    else:\n",
    "        print(\"구구단 \",gugudan,\"단을 계산합니다.\")\n",
    "        for i in range(1,10):#출력\n",
    "            print(gugudan,\" x \", i, \"=\", i*gugudan)\n",
    "        gugudan = int(input(\"구구단 몇 단을 계산할까요(1~9)?\"))\n",
    "print(\"구구단 게임을 종료합니다.\")"
   ]
  },
  {
   "cell_type": "code",
   "execution_count": null,
   "metadata": {},
   "outputs": [],
   "source": []
  }
 ],
 "metadata": {
  "kernelspec": {
   "display_name": "Python 3",
   "language": "python",
   "name": "python3"
  },
  "language_info": {
   "codemirror_mode": {
    "name": "ipython",
    "version": 3
   },
   "file_extension": ".py",
   "mimetype": "text/x-python",
   "name": "python",
   "nbconvert_exporter": "python",
   "pygments_lexer": "ipython3",
   "version": "3.7.1"
  }
 },
 "nbformat": 4,
 "nbformat_minor": 2
}
