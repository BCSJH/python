{
 "cells": [
  {
   "cell_type": "code",
   "execution_count": 1,
   "metadata": {},
   "outputs": [
    {
     "name": "stdout",
     "output_type": "stream",
     "text": [
      "밑변의 길이는?3\n",
      "윗변의 길이는?3\n",
      "높이는?3\n",
      "넓이는?  9.0\n"
     ]
    }
   ],
   "source": [
    "down=float(input(\"밑변의 길이는?\")#밑변길이 입력받기\n",
    "up=float(input(\"윗변의 길이는?\"))/#윗변길이 입력받기\n",
    "h=float(input(\"높이는?\"))#높이 입력받기*/\n",
    "print(\"넓이는? \",(down+up)/2*h)#계산해서 출력"
   ]
  },
  {
   "cell_type": "code",
   "execution_count": null,
   "metadata": {},
   "outputs": [],
   "source": []
  }
 ],
 "metadata": {
  "kernelspec": {
   "display_name": "Python 3",
   "language": "python",
   "name": "python3"
  },
  "language_info": {
   "codemirror_mode": {
    "name": "ipython",
    "version": 3
   },
   "file_extension": ".py",
   "mimetype": "text/x-python",
   "name": "python",
   "nbconvert_exporter": "python",
   "pygments_lexer": "ipython3",
   "version": "3.7.1"
  }
 },
 "nbformat": 4,
 "nbformat_minor": 2
}
