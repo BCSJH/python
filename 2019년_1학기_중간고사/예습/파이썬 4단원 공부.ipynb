{
 "cells": [
  {
   "cell_type": "code",
   "execution_count": 5,
   "metadata": {},
   "outputs": [
    {
     "name": "stdout",
     "output_type": "stream",
     "text": [
      "Tell me your age?\n",
      "30\n",
      "Oh! No. You are not accepted.\n"
     ]
    }
   ],
   "source": [
    "#조건문과 반복문\n",
    "#if-else.py\n",
    "print(\"Tell me your age?\")\n",
    "myage = int(input())\n",
    "if myage < 30 :\n",
    "    print(\"Welcome to the club.\")\n",
    "else:\n",
    "    print(\"Oh! No. You are not accepted.\")"
   ]
  },
  {
   "cell_type": "code",
   "execution_count": 7,
   "metadata": {},
   "outputs": [
    {
     "name": "stdout",
     "output_type": "stream",
     "text": [
      "Enter tour score: 98\n",
      "D\n"
     ]
    }
   ],
   "source": [
    "#grade.py\n",
    "score = int(input(\"Enter tour score: \"))\n",
    "\n",
    "if score>=90:\n",
    "    grade='A'\n",
    "if score>=80:\n",
    "    grade='B'\n",
    "if score>=70:\n",
    "    grade='C'\n",
    "if score>=60:\n",
    "    grade='D'\n",
    "if score<60:\n",
    "    grade='F'\n",
    "    \n",
    "print(grade)\n",
    "#이렇게 하면 값이 잘못된 코드이다."
   ]
  },
  {
   "cell_type": "code",
   "execution_count": 9,
   "metadata": {},
   "outputs": [
    {
     "name": "stdout",
     "output_type": "stream",
     "text": [
      "Enter your score: 30\n",
      "F\n"
     ]
    }
   ],
   "source": [
    "#if-elif-else.py\n",
    "\n",
    "score = int(input(\"Enter your score: \"))\n",
    "\n",
    "if score>=90: grade='A'\n",
    "elif score>=80: grade='B'\n",
    "elif score>=70: grade='C'\n",
    "elif score>=60: grade='D'\n",
    "else: grade='F'\n",
    "    \n",
    "print(grade)"
   ]
  },
  {
   "cell_type": "code",
   "execution_count": 12,
   "metadata": {},
   "outputs": [
    {
     "name": "stdout",
     "output_type": "stream",
     "text": [
      "당신이 태어난 연도를 입력하세요.\n",
      "1999\n",
      "대학생\n"
     ]
    }
   ],
   "source": [
    "#Lab 어떤 종류의 학생인지 맞히기\n",
    "#student.py\n",
    "print(\"당신이 태어난 연도를 입력하세요.\")\n",
    "birth_year = input()\n",
    "age = 2020 - int(birth_year)+1\n",
    "\n",
    "if age<=26 and age>=20:\n",
    "    print(\"대학생\")\n",
    "elif age<20 and age>=17:\n",
    "    print(\"고등학생\")\n",
    "elif age<17 and age>=14:\n",
    "    print(\"중학생\")\n",
    "elif age<14 and age>=8:\n",
    "    print(\"초등학생\")\n",
    "else:\n",
    "    print(\"학생이 아닙이다.\")"
   ]
  },
  {
   "cell_type": "code",
   "execution_count": 13,
   "metadata": {},
   "outputs": [
    {
     "name": "stdout",
     "output_type": "stream",
     "text": [
      "hello\n",
      "hello\n",
      "hello\n",
      "hello\n",
      "hello\n"
     ]
    }
   ],
   "source": [
    "#for1.py\n",
    "for looper in [1,2,3,4,5]:\n",
    "    print(\"hello\")"
   ]
  },
  {
   "cell_type": "code",
   "execution_count": 14,
   "metadata": {},
   "outputs": [
    {
     "name": "stdout",
     "output_type": "stream",
     "text": [
      "1\n",
      "2\n",
      "3\n",
      "4\n",
      "5\n"
     ]
    }
   ],
   "source": [
    "#for2.py\n",
    "for looper in [1,2,3,4,5]:\n",
    "    print(looper)"
   ]
  },
  {
   "cell_type": "code",
   "execution_count": 17,
   "metadata": {},
   "outputs": [
    {
     "name": "stdout",
     "output_type": "stream",
     "text": [
      "hello\n",
      "hello\n",
      "hello\n",
      "hello\n",
      "hello\n",
      "hello\n",
      "hello\n",
      "hello\n",
      "hello\n",
      "hello\n"
     ]
    }
   ],
   "source": [
    "#for3\n",
    "for looper in range(10):\n",
    "    print(\"hello\")\n",
    "    \n",
    "#for 변수 in range(시작번호, 마지막 번호, 증가값)\n",
    "#시작 번호, 증가값은 생략 가능\n",
    "#생략했을 경우 초깃값으로 시작 번호는 0, 증가값은 1"
   ]
  },
  {
   "cell_type": "code",
   "execution_count": 18,
   "metadata": {},
   "outputs": [
    {
     "name": "stdout",
     "output_type": "stream",
     "text": [
      "a\n",
      "b\n",
      "c\n",
      "f\n",
      "e\n",
      "f\n",
      "g\n"
     ]
    }
   ],
   "source": [
    "#for4.py\n",
    "for i in 'abcfefg':\n",
    "    print(i)\n",
    "#숫자를 출력하듯이 문자열로 이루ㅇ어진 리스트 값도 출력 가능"
   ]
  },
  {
   "cell_type": "code",
   "execution_count": 19,
   "metadata": {},
   "outputs": [
    {
     "name": "stdout",
     "output_type": "stream",
     "text": [
      "americano\n",
      "latte\n",
      "frappuccion\n"
     ]
    }
   ],
   "source": [
    "#for5.py\n",
    "for i in ['americano','latte','frappuccion']:\n",
    "    print(i)\n",
    "#문자열도 가능"
   ]
  },
  {
   "cell_type": "code",
   "execution_count": 20,
   "metadata": {},
   "outputs": [
    {
     "name": "stdout",
     "output_type": "stream",
     "text": [
      "1\n",
      "3\n",
      "5\n",
      "7\n",
      "9\n"
     ]
    }
   ],
   "source": [
    "#for6.py\n",
    "for i in range(1,10,2):\n",
    "    print(i)\n",
    "#1부터 9까지 2씩 증가하면서 반복문 수행"
   ]
  },
  {
   "cell_type": "code",
   "execution_count": 21,
   "metadata": {},
   "outputs": [
    {
     "name": "stdout",
     "output_type": "stream",
     "text": [
      "10\n",
      "9\n",
      "8\n",
      "7\n",
      "6\n",
      "5\n",
      "4\n",
      "3\n",
      "2\n"
     ]
    }
   ],
   "source": [
    "#for7.py\n",
    "for i in range(10,1,-1):\n",
    "    print(i)"
   ]
  },
  {
   "cell_type": "code",
   "execution_count": 22,
   "metadata": {},
   "outputs": [
    {
     "name": "stdout",
     "output_type": "stream",
     "text": [
      "1\n",
      "2\n",
      "3\n",
      "4\n",
      "5\n",
      "6\n",
      "7\n",
      "8\n",
      "9\n"
     ]
    }
   ],
   "source": [
    "#while.py\n",
    "i=1 # i변수에 1할당\n",
    "while i<10: # i가 10미만인지 확인\n",
    "    print(i)# 출력\n",
    "    i+=1# i값을 1씩 증가하는 것을 반복하다가 i가 10이 되면 반복 종료"
   ]
  },
  {
   "cell_type": "code",
   "execution_count": 24,
   "metadata": {},
   "outputs": [
    {
     "name": "stdout",
     "output_type": "stream",
     "text": [
      "0\n",
      "1\n",
      "2\n",
      "3\n",
      "4\n",
      "End of Program\n"
     ]
    }
   ],
   "source": [
    "#break.py\n",
    "for i in range(10):\n",
    "    if i == 5: break #5가 되면 종료\n",
    "    print(i)\n",
    "print(\"End of Program\") # 반복 종료하면서 출력"
   ]
  },
  {
   "cell_type": "code",
   "execution_count": 26,
   "metadata": {},
   "outputs": [
    {
     "name": "stdout",
     "output_type": "stream",
     "text": [
      "0\n",
      "1\n",
      "2\n",
      "3\n",
      "4\n",
      "6\n",
      "7\n",
      "8\n",
      "9\n",
      "End of Program\n"
     ]
    }
   ],
   "source": [
    "#continue.py\n",
    "for i in range(10):\n",
    "    if i==5: continue\n",
    "    print(i)\n",
    "print(\"End of Program\")"
   ]
  },
  {
   "cell_type": "code",
   "execution_count": 27,
   "metadata": {},
   "outputs": [
    {
     "name": "stdout",
     "output_type": "stream",
     "text": [
      "0\n",
      "1\n",
      "2\n",
      "3\n",
      "4\n",
      "5\n",
      "6\n",
      "7\n",
      "8\n",
      "9\n",
      "End of Program\n"
     ]
    }
   ],
   "source": [
    "#else.py\n",
    "for i in range(10):\n",
    "    print(i)\n",
    "else:\n",
    "    print(\"End of Program\")"
   ]
  },
  {
   "cell_type": "code",
   "execution_count": null,
   "metadata": {},
   "outputs": [],
   "source": [
    "#구구단 계산기\n",
    "#caculator1.py\n",
    "\n",
    "user_input = input(\"구구단 몇 단을 계산할까?\")\n",
    "print(\"구구단\",user_input,\"단을 계산한다.\")\n",
    "int_input = int(user_input)\n",
    "for i in range(1,10):\n",
    "    result = int_input * i\n",
    "    print(user_input,\"x\",i,\"=\",result)"
   ]
  },
  {
   "cell_type": "code",
   "execution_count": null,
   "metadata": {},
   "outputs": [],
   "source": [
    "#reverse_sentence.py\n",
    "sentence = \"I love you\"\n",
    "reverse_sentence=' '\n",
    "for char in sentence:\n",
    "    reverse_sentence = char + reverse_sentence\n",
    "print(reverse_sentence)"
   ]
  },
  {
   "cell_type": "code",
   "execution_count": null,
   "metadata": {},
   "outputs": [],
   "source": [
    "#decimal.py\n",
    "decimal = 10\n",
    "result = ' '\n",
    "while(decimal>0):\n",
    "    remainder = decimal%2\n",
    "    decimal = decimal //2\n",
    "    result = str(remainder) + result\n",
    "print(result)"
   ]
  },
  {
   "cell_type": "code",
   "execution_count": null,
   "metadata": {},
   "outputs": [],
   "source": []
  }
 ],
 "metadata": {
  "kernelspec": {
   "display_name": "Python 3",
   "language": "python",
   "name": "python3"
  },
  "language_info": {
   "codemirror_mode": {
    "name": "ipython",
    "version": 3
   },
   "file_extension": ".py",
   "mimetype": "text/x-python",
   "name": "python",
   "nbconvert_exporter": "python",
   "pygments_lexer": "ipython3",
   "version": "3.6.7"
  }
 },
 "nbformat": 4,
 "nbformat_minor": 2
}
