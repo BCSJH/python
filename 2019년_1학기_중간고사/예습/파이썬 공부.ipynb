{
 "cells": [
  {
   "cell_type": "code",
   "execution_count": null,
   "metadata": {
    "scrolled": true
   },
   "outputs": [],
   "source": [
    "#stack.py\n",
    "word = input(\"Input a word : \") #사용자 입력\n",
    "world_list = list(word) #입력한 것을 한 개씩 각각의 리스트에 저장\n",
    "print(world_list)#출력\n",
    "\n",
    "result=[]#역순으로 저장할 변수\n",
    "for _ in range(len(world_list)):#개수만큼 반복문 돌리자\n",
    "    #in 뒤에 있는 부분이 해당 반복문에서 생성되는 값이 아니라서 for 다음에 _를 써줌\n",
    "    result.append(world_list.pop())# 차례대로 출력하기 때문에 역순으로 넣어지는 거임\n",
    "                                    #result에 world 리스트 한글자씩 넣기\n",
    "\n",
    "print(result) #역순으로 넣어진 것을 확인할 수 있음\n",
    "print(word[::-1]) #출력"
   ]
  },
  {
   "cell_type": "code",
   "execution_count": null,
   "metadata": {},
   "outputs": [],
   "source": [
    "t=(1,2,3)\n",
    "print(t + t, t*2)\n",
    "len(t)"
   ]
  },
  {
   "cell_type": "code",
   "execution_count": null,
   "metadata": {},
   "outputs": [],
   "source": [
    "country_code={}\n",
    "country_code={\"K\":1, \"C\":2, \"V\":3, \"J\":4}\n",
    "country_code.keys()\n",
    "country_code[\"G\"]=49\n",
    "country_code.keys()\n",
    "country_code.values()\n",
    "\n",
    "for k,v in country_code.items():\n",
    "    print(\"Key:\",k)\n",
    "    print(\"Value:\",v)"
   ]
  },
  {
   "cell_type": "code",
   "execution_count": null,
   "metadata": {},
   "outputs": [],
   "source": []
  }
 ],
 "metadata": {
  "kernelspec": {
   "display_name": "Python 3",
   "language": "python",
   "name": "python3"
  },
  "language_info": {
   "codemirror_mode": {
    "name": "ipython",
    "version": 3
   },
   "file_extension": ".py",
   "mimetype": "text/x-python",
   "name": "python",
   "nbconvert_exporter": "python",
   "pygments_lexer": "ipython3",
   "version": "3.6.7"
  }
 },
 "nbformat": 4,
 "nbformat_minor": 2
}
