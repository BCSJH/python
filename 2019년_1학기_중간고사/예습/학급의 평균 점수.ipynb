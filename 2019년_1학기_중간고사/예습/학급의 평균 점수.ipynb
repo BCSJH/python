{
 "cells": [
  {
   "cell_type": "code",
   "execution_count": 2,
   "metadata": {},
   "outputs": [
    {
     "name": "stdout",
     "output_type": "stream",
     "text": [
      "71.11111111111111\n"
     ]
    }
   ],
   "source": [
    "#학급의 평균 점수\n",
    "A = [70,60,55,75,95,90,80,85,100]\n",
    "s = 0\n",
    "for i in range(1,len(A),1):\n",
    "    s=s+A[i] \n",
    "print(s/len(A))\n",
    "    "
   ]
  },
  {
   "cell_type": "code",
   "execution_count": null,
   "metadata": {},
   "outputs": [],
   "source": []
  }
 ],
 "metadata": {
  "kernelspec": {
   "display_name": "Python 3",
   "language": "python",
   "name": "python3"
  },
  "language_info": {
   "codemirror_mode": {
    "name": "ipython",
    "version": 3
   },
   "file_extension": ".py",
   "mimetype": "text/x-python",
   "name": "python",
   "nbconvert_exporter": "python",
   "pygments_lexer": "ipython3",
   "version": "3.7.1"
  }
 },
 "nbformat": 4,
 "nbformat_minor": 2
}
