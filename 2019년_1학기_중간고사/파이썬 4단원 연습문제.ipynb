{
 "cells": [
  {
   "cell_type": "code",
   "execution_count": 4,
   "metadata": {},
   "outputs": [
    {
     "name": "stdout",
     "output_type": "stream",
     "text": [
      "숫자 입력 : 4\n",
      "24\n"
     ]
    }
   ],
   "source": [
    "#1번 주어진 자연수 N에 대해 N이 짝수면 N!을,\n",
    "#   홀수이면 ∑N을 구하는 코드를 작성하려고 한다.\n",
    "#주어진 코드에서 잘못된 부분을 수정하시오.\n",
    "\n",
    "n = int(input(\"숫자 입력 : \"))\n",
    "if n%2 ==0:\n",
    "    result =1\n",
    "    for i in range(1,n+1):\n",
    "        result = result *i\n",
    "else:\n",
    "    result=0\n",
    "    for i in range(1,n+1):\n",
    "        result = result+i\n",
    "print(result)"
   ]
  },
  {
   "cell_type": "code",
   "execution_count": 5,
   "metadata": {},
   "outputs": [
    {
     "name": "stdout",
     "output_type": "stream",
     "text": [
      "apple\n"
     ]
    }
   ],
   "source": [
    "#2번 다음 코드의 실행 결과를 쓰시오.\n",
    "fruit = 'apple'\n",
    "if fruit =='Apple':\n",
    "    fruit ='Apple'\n",
    "elif fruit == 'fruit':\n",
    "    fruit = 'fruit'\n",
    "else:\n",
    "    fruit = fruit\n",
    "print(fruit)"
   ]
  },
  {
   "cell_type": "code",
   "execution_count": 6,
   "metadata": {},
   "outputs": [
    {
     "name": "stdout",
     "output_type": "stream",
     "text": [
      "['12', '34', '56']\n"
     ]
    }
   ],
   "source": [
    "#3번 다음 코드의 실행 결과를 쓰시오.\n",
    "num = ['12','34','56']\n",
    "for i in num:\n",
    "    i=int(i)\n",
    "print(num)"
   ]
  },
  {
   "cell_type": "code",
   "execution_count": 7,
   "metadata": {},
   "outputs": [
    {
     "name": "stdout",
     "output_type": "stream",
     "text": [
      "[3, 4.0]\n"
     ]
    }
   ],
   "source": [
    "#4번 다음 코드의 실행 결과를 쓰시오.\n",
    "number = [\"1\",2,3,float(4),str(5)]\n",
    "if number[4]==5:\n",
    "    print(type(number[0]))\n",
    "elif number[3]==4:\n",
    "    print(number[2:-1]) \n",
    "    # 3 부터 float(4)까지 출력, 범위는 적인 범위 전까지 출력하므로"
   ]
  },
  {
   "cell_type": "code",
   "execution_count": 8,
   "metadata": {},
   "outputs": [
    {
     "name": "stdout",
     "output_type": "stream",
     "text": [
      "5\n"
     ]
    }
   ],
   "source": [
    "#5번 다음 코드의 실행 결과를 쓰시오.\n",
    "num = 0\n",
    "i = 1\n",
    "while i<8:\n",
    "    if i % 3 ==0:\n",
    "        break\n",
    "    i+=1# i = 2, i = 3\n",
    "    num+=i #num = 2, num = 5\n",
    "print(num)"
   ]
  },
  {
   "cell_type": "code",
   "execution_count": 14,
   "metadata": {},
   "outputs": [
    {
     "name": "stdout",
     "output_type": "stream",
     "text": [
      "입력하기 전  5 0\n",
      "계산 후  5 -1\n",
      "입력하기 전  3 -1\n",
      "계산 후  3 -2\n",
      "입력하기 전  1 -2\n",
      "계산 후  1 -3\n",
      "입력하기 전  -1 -3\n",
      "계산 후  -1 -4\n",
      "입력하기 전  -3 -4\n",
      "계산 후  -3 -5\n",
      "-5\n"
     ]
    }
   ],
   "source": [
    "#6번 다음 코드의 결과를 쓰시오.\n",
    "result = 0\n",
    "for i in range(5,-5,-2): # 5, 3, 1, -1, -3, -5\n",
    "    print(\"입력하기 전 \", i,result)\n",
    "    if i < -3:\n",
    "        result += 1\n",
    "    else:\n",
    "        result -= 1 # reault = -1, -2, -3, -4, -5\n",
    "    print(\"계산 후 \",i,result)\n",
    "print(result)\n",
    "# 답 -5"
   ]
  },
  {
   "cell_type": "code",
   "execution_count": 16,
   "metadata": {},
   "outputs": [
    {
     "name": "stdout",
     "output_type": "stream",
     "text": [
      "apple\n"
     ]
    }
   ],
   "source": [
    "#7번 다음 코드의 결과를 쓰시오.\n",
    "fruit = 'apple'\n",
    "if fruit =='Apple':\n",
    "    fruit ='Apple'\n",
    "elif fruit == 'fruit':\n",
    "    fruit='fruit'\n",
    "else:\n",
    "    fruit = fruit\n",
    "    \n",
    "print(fruit)"
   ]
  },
  {
   "cell_type": "code",
   "execution_count": 27,
   "metadata": {},
   "outputs": [
    {
     "name": "stdout",
     "output_type": "stream",
     "text": [
      "0\n",
      "================================\n",
      "5\n"
     ]
    }
   ],
   "source": [
    "#8번 다음 코드의 결과를 쓰시오.\n",
    "first_value =0\n",
    "second_value =0\n",
    "for i in range(1,10): #1~9까지 반복임\n",
    "    if i is 5:\n",
    "        continue\n",
    "        first_value=i\n",
    "    if i is 10:\n",
    "        break\n",
    "        second_value=i\n",
    "\n",
    "print(first_value + second_value)\n",
    "\n",
    "print(\"================================\")\n",
    "#8_1번 다음 코드의 결과를 쓰시오.\n",
    "first_value =0\n",
    "second_value =0\n",
    "for i in range(1,10): #1~9까지 반복임\n",
    "    if i is 5:\n",
    "        first_value=i\n",
    "        continue\n",
    "    if i is 10:\n",
    "        second_value=i\n",
    "        break\n",
    "\n",
    "\n",
    "print(first_value + second_value)"
   ]
  },
  {
   "cell_type": "code",
   "execution_count": 25,
   "metadata": {},
   "outputs": [
    {
     "name": "stdout",
     "output_type": "stream",
     "text": [
      "986531\n"
     ]
    }
   ],
   "source": [
    "#9번 다음 코드의 실행 결과를 쓰시오.\n",
    "num=\"\"\n",
    "for i in range(10):\n",
    "    if i <=5 and (i%2)==0: #0, 2, 4\n",
    "        continue\n",
    "    elif i is 7 or i is 10:\n",
    "        continue\n",
    "    else:\n",
    "        num = str(i) + num # 1, 3, 5, 6, 8, 9 986531\n",
    "print(num)"
   ]
  },
  {
   "cell_type": "code",
   "execution_count": 37,
   "metadata": {},
   "outputs": [
    {
     "name": "stdout",
     "output_type": "stream",
     "text": [
      "시작: 100\n",
      "종료 89\n",
      "시작: 89\n",
      "종료 78\n",
      "시작: 78\n",
      "종료 67\n",
      "시작: 67\n",
      "종료 56\n",
      "시작: 56\n",
      "종료 45\n",
      "시작: 45\n",
      "종료 34\n",
      "시작: 34\n",
      "종료 23\n",
      "시작: 23\n",
      "종료 12\n",
      "시작: 12\n",
      "종료 1\n",
      "시작: 1\n",
      "종료 -10\n",
      "시작: 100\n",
      "종료 99\n",
      "시작: 99\n",
      "종료 98\n",
      "시작: 98\n",
      "종료 97\n",
      "시작: 97\n",
      "종료 96\n",
      "시작: 96\n",
      "종료 95\n",
      "시작: 95\n",
      "종료 94\n",
      "시작: 94\n",
      "종료 93\n",
      "시작: 93\n",
      "종료 92\n",
      "시작: 92\n",
      "종료 91\n",
      "시작: 91\n",
      "종료 90\n",
      "Hire more workers\n",
      "시작: 100\n",
      "종료 91\n",
      "시작: 91\n",
      "종료 82\n",
      "시작: 82\n",
      "종료 73\n",
      "시작: 73\n",
      "종료 64\n",
      "시작: 64\n",
      "종료 55\n",
      "시작: 55\n",
      "종료 46\n",
      "시작: 46\n",
      "종료 37\n",
      "시작: 37\n",
      "종료 28\n",
      "시작: 28\n",
      "종료 19\n",
      "시작: 19\n",
      "종료 10\n",
      "Hire more workers\n",
      "시작: 100\n",
      "종료 90\n",
      "시작: 90\n",
      "종료 80\n",
      "시작: 80\n",
      "종료 70\n",
      "시작: 70\n",
      "종료 60\n",
      "시작: 60\n",
      "종료 50\n",
      "시작: 50\n",
      "종료 40\n",
      "시작: 40\n",
      "종료 30\n",
      "시작: 30\n",
      "종료 20\n",
      "시작: 20\n",
      "종료 10\n",
      "시작: 10\n",
      "종료 0\n"
     ]
    }
   ],
   "source": [
    "#10번 다음함수는 작업의 상태를 나타내는 함수이다. 코드의 실행 결과를 쓰시오.\n",
    "def work_status(task,work,day):\n",
    "    rest_task = task\n",
    "    for k in range(day):\n",
    "        print(\"시작:\",rest_task)\n",
    "        if rest_task > 0:\n",
    "            rest_task = rest_task-work # 0~9 90(0) 80(1) 70 60 50 40 30 20 10 0\n",
    "        elif rest_task <= 0:\n",
    "            print(\"Task end\")\n",
    "        print(\"종료\",rest_task)\n",
    "    if rest_task > 0:\n",
    "        print(\"Hire more workers\")\n",
    "        \n",
    "work_status(100,11,10)\n",
    "work_status(100,1,10)#출력\n",
    "work_status(100,9,10)#출력\n",
    "work_status(100,10,10)\n"
   ]
  },
  {
   "cell_type": "code",
   "execution_count": 40,
   "metadata": {},
   "outputs": [
    {
     "name": "stdout",
     "output_type": "stream",
     "text": [
      "5\n",
      "20\n",
      "45\n",
      "45\n"
     ]
    }
   ],
   "source": [
    "#11번 다음 코드의 실행 결과를 쓰시오.\n",
    "score_list = [5,10,15,20,25,30]\n",
    "\n",
    "sum_of_score =0\n",
    "i=0\n",
    "while i<len(score_list):\n",
    "    if i % 2 == 0:\n",
    "        sum_of_score += score_list[i]\n",
    "    i+=1\n",
    "print(sum_of_score)"
   ]
  },
  {
   "cell_type": "code",
   "execution_count": 45,
   "metadata": {},
   "outputs": [
    {
     "name": "stdout",
     "output_type": "stream",
     "text": [
      "if문으로\n",
      "현재 :  16500\n",
      "if문으로\n",
      "현재 :  13000\n",
      "if문으로\n",
      "현재 :  9500\n",
      "if문으로\n",
      "현재 :  6000\n",
      "else문으로\n",
      "현재 :  8800\n",
      "if문으로\n",
      "현재 :  5300\n",
      "if문으로\n",
      "현재 :  1800\n",
      "1800\n"
     ]
    }
   ],
   "source": [
    "#12번 다음 코드의 실행 결과를 쓰시오.\n",
    "coupon = 0\n",
    "money = 20000\n",
    "coffee = 3500\n",
    "while money > coffee:\n",
    "    if coupon <4:\n",
    "        print(\"if문으로\")\n",
    "        money = money - coffee\n",
    "        coupon+=1\n",
    "    else:\n",
    "        print(\"else문으로\")\n",
    "        money +=2800\n",
    "        coupon = 0\n",
    "    print(\"현재 : \", money)\n",
    "print(money)"
   ]
  },
  {
   "cell_type": "code",
   "execution_count": 55,
   "metadata": {},
   "outputs": [
    {
     "name": "stdout",
     "output_type": "stream",
     "text": [
      "Strike :  0 Ball :  3\n"
     ]
    }
   ],
   "source": [
    "#13번 다음 코드는 변수 a와 b의 숫자를 비교하여 숫자와 자리수가 같으면 strike\n",
    "#숫자는 서로 포함하나 자리수가 다르면 ball로 카운트하는 프로그램이다.\n",
    "#다음 프로그램의 실행 결과를 쓰시오. 또한, 결과값이 맞지 않는 이유를 쓰고,\n",
    "#올바른 결과값이 나오도록 코드를 수정하시오.\n",
    "\n",
    "a = \"369\"\n",
    "b=\"693\"\n",
    "\n",
    "strike = 0\n",
    "ball = 0\n",
    "\n",
    "for number in a:\n",
    "        if b.find(number)==a.find(number):#이걸 바꾸면 될 듯\n",
    "            strike+=1\n",
    "        else:\n",
    "            ball+=1\n",
    "            \n",
    "print(\"Strike : \",strike,\"Ball : \",ball)"
   ]
  },
  {
   "cell_type": "code",
   "execution_count": 60,
   "metadata": {},
   "outputs": [
    {
     "name": "stdout",
     "output_type": "stream",
     "text": [
      "6\n"
     ]
    }
   ],
   "source": [
    "#14번 다음과 같이 코드를 작성했을 때, 실행 결과로 알맞은 것은?\n",
    "list_data_a = [1,2]\n",
    "list_data_b = [3,4]\n",
    "\n",
    "for i in list_data_a:\n",
    "    for j in list_data_b:\n",
    "        result = i+ j\n",
    "print(result)"
   ]
  },
  {
   "cell_type": "code",
   "execution_count": 61,
   "metadata": {},
   "outputs": [
    {
     "name": "stdout",
     "output_type": "stream",
     "text": [
      "[1, 2, 3, 4, 5, 6]\n"
     ]
    }
   ],
   "source": [
    "#15번 다음과 같이 코드를 작성했을 때, 실행 결과로 알맞은 것은?\n",
    "list_1 = [[1,2],[3],[4,5,6]]\n",
    "a,b,c=list_1\n",
    "list_2 = a+b+c #리스트 이어붇이기\n",
    "print(list_2)"
   ]
  }
 ],
 "metadata": {
  "kernelspec": {
   "display_name": "Python 3",
   "language": "python",
   "name": "python3"
  },
  "language_info": {
   "codemirror_mode": {
    "name": "ipython",
    "version": 3
   },
   "file_extension": ".py",
   "mimetype": "text/x-python",
   "name": "python",
   "nbconvert_exporter": "python",
   "pygments_lexer": "ipython3",
   "version": "3.6.7"
  }
 },
 "nbformat": 4,
 "nbformat_minor": 2
}
