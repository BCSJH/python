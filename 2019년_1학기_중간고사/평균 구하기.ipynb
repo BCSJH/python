{
 "cells": [
  {
   "cell_type": "code",
   "execution_count": 1,
   "metadata": {},
   "outputs": [
    {
     "name": "stdout",
     "output_type": "stream",
     "text": [
      "[47.0, 74.0, 51.0, 60.0, 90.0]\n"
     ]
    }
   ],
   "source": [
    "kor=[49,80,20,100,80]#국어\n",
    "math=[43,60,85,30,90]#수학\n",
    "eng=[49,82,48,50,100]#영어\n",
    "midterm=[kor,math,eng]#중간 값\n",
    "\n",
    "student=[0,0,0,0,0]#학생\n",
    "i =0\n",
    "for subject in midterm:#총 점수 더하기\n",
    "    for score in subject:\n",
    "        student[i] += score\n",
    "        i+= 1\n",
    "    i=0\n",
    "else:\n",
    "    a,b,c,d,e = student\n",
    "    student_avg =[a/3,b/3,c/3,d/3,e/3]#평균\n",
    "    print(student_avg)#출력"
   ]
  },
  {
   "cell_type": "code",
   "execution_count": null,
   "metadata": {},
   "outputs": [],
   "source": []
  }
 ],
 "metadata": {
  "kernelspec": {
   "display_name": "Python 3",
   "language": "python",
   "name": "python3"
  },
  "language_info": {
   "codemirror_mode": {
    "name": "ipython",
    "version": 3
   },
   "file_extension": ".py",
   "mimetype": "text/x-python",
   "name": "python",
   "nbconvert_exporter": "python",
   "pygments_lexer": "ipython3",
   "version": "3.7.1"
  }
 },
 "nbformat": 4,
 "nbformat_minor": 2
}
