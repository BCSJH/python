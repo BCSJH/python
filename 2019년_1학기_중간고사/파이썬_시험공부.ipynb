{
 "cells": [
  {
   "cell_type": "code",
   "execution_count": 2,
   "metadata": {},
   "outputs": [
    {
     "name": "stdout",
     "output_type": "stream",
     "text": [
      "숫자 입력 : 15\n",
      "1111\n"
     ]
    }
   ],
   "source": [
    "#십진수를 이진수로\n",
    "\n",
    "u = int(input(\"숫자 입력 : \"))\n",
    "result =''\n",
    "while(u>0):#0보다 클때까지 반복\n",
    "    rema = u % 2 #몫\n",
    "    u = u // 2 #나머지\n",
    "    result = str(rema) + result #뒤에 이어붙이기\n",
    "print(result)"
   ]
  },
  {
   "cell_type": "code",
   "execution_count": 3,
   "metadata": {},
   "outputs": [
    {
     "name": "stdout",
     "output_type": "stream",
     "text": [
      "[53.0, 50.0, 65.66666666666667, 76.66666666666667, 68.33333333333333]\n"
     ]
    }
   ],
   "source": [
    "#이중 for문을 이용한 평균 구하기\n",
    "\n",
    "kor_s = [49,50,40,60,75]\n",
    "mat_s = [60,30,80,90,70]\n",
    "eng_s = [50,70,77,80,60]\n",
    "mid_s = [kor_s, mat_s, eng_s]\n",
    "\n",
    "student = [0,0,0,0,0]\n",
    "\n",
    "i=0\n",
    "for subject in mid_s:\n",
    "    for sc in subject:\n",
    "        student[i]+=sc\n",
    "        i+=1\n",
    "    i=0\n",
    "else:\n",
    "    a,b,c,d,e = student\n",
    "    student_a = [a/3,b/3,c/3,d/3,e/3]\n",
    "    print(student_a)"
   ]
  },
  {
   "cell_type": "code",
   "execution_count": null,
   "metadata": {},
   "outputs": [],
   "source": []
  }
 ],
 "metadata": {
  "kernelspec": {
   "display_name": "Python 3",
   "language": "python",
   "name": "python3"
  },
  "language_info": {
   "codemirror_mode": {
    "name": "ipython",
    "version": 3
   },
   "file_extension": ".py",
   "mimetype": "text/x-python",
   "name": "python",
   "nbconvert_exporter": "python",
   "pygments_lexer": "ipython3",
   "version": "3.6.7"
  }
 },
 "nbformat": 4,
 "nbformat_minor": 2
}
