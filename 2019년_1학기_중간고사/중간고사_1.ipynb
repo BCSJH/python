{
 "cells": [
  {
   "cell_type": "code",
   "execution_count": null,
   "metadata": {},
   "outputs": [],
   "source": [
    "def bodyMassIndex(weight, height):\n",
    "    str = [None]\n",
    "    bmi = weight / (height **2)\n",
    "    return bmi\n",
    "\n",
    "if __name__=='__main__':\n",
    "    #사용자의 입력에 예외 발생시 다시 받는 입력 받는 반복문\n",
    "    while(True):\n",
    "        try:\n",
    "            weight = float(input(\"몸무게를 kg 단위로 입력하시오:\"))\n",
    "            height = float(input(\"키를 미터 단위로 입력하시오:\"))\n",
    "            break\n",
    "        except ValueError:\n",
    "            print(\"값을 다시 입력해주세요\")\n",
    "    #BMI 함수를 이용하여 사용자 입력 값을 인자로 전달, bmi 값 받아오기\n",
    "    bmi = bodyMassIndex(weight,height)\n",
    "    str = [None]\n",
    "    #bmi 지수에 따라 비만 상태 구분\n",
    "    if(bmi >=25.0) and (bmi<30.0):\n",
    "        str = \"고도비만\"\n",
    "    elif(bmi>=18.5) and (bmi<25.0):\n",
    "        str = \"표준\"\n",
    "    else:\n",
    "        str = \"마른체형\"\n",
    "    #안내문 출력\n",
    "    print(\"당신의 BMI는 {0:.4f}로 {1} 체형 입니다.\".format(bmi,str))\n",
    " "
   ]
  },
  {
   "cell_type": "code",
   "execution_count": null,
   "metadata": {},
   "outputs": [],
   "source": []
  }
 ],
 "metadata": {
  "kernelspec": {
   "display_name": "Python 3",
   "language": "python",
   "name": "python3"
  },
  "language_info": {
   "codemirror_mode": {
    "name": "ipython",
    "version": 3
   },
   "file_extension": ".py",
   "mimetype": "text/x-python",
   "name": "python",
   "nbconvert_exporter": "python",
   "pygments_lexer": "ipython3",
   "version": "3.7.1"
  }
 },
 "nbformat": 4,
 "nbformat_minor": 2
}
