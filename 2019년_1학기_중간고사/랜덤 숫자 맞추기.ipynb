{
 "cells": [
  {
   "cell_type": "code",
   "execution_count": 1,
   "metadata": {},
   "outputs": [
    {
     "name": "stdout",
     "output_type": "stream",
     "text": [
      "숫자를 맞춰보세요. (1~100)10\n",
      "숫자가 너무 작습니다.\n",
      "숫자를 맞춰보세요. (1~100)20\n",
      "숫자가 너무 작습니다.\n",
      "숫자를 맞춰보세요. (1~100)30\n",
      "숫자가 너무 작습니다.\n",
      "숫자를 맞춰보세요. (1~100)40\n",
      "숫자가 너무 큽니다.\n",
      "숫자를 맞춰보세요. (1~100)50\n",
      "숫자가 너무 큽니다.\n",
      "숫자를 맞춰보세요. (1~100)33\n",
      "숫자가 너무 큽니다.\n",
      "숫자를 맞춰보세요. (1~100)32\n"
     ]
    }
   ],
   "source": [
    "import random\n",
    "\n",
    "com = random.randint(1,100)\n",
    "number = int(input(\"숫자를 맞춰보세요. (1~100)\"))\n",
    "\n",
    "while(number is not com):\n",
    "    if(number>com):\n",
    "        print(\"숫자가 너무 큽니다.\")\n",
    "    elif(number<com):\n",
    "        print(\"숫자가 너무 작습니다.\")\n",
    "    else:\n",
    "        print(\"정답입니다. 입력한 숫자는\",number,\"입니다\")\n",
    "    number = int(input(\"숫자를 맞춰보세요. (1~100)\"))\n"
   ]
  },
  {
   "cell_type": "markdown",
   "metadata": {},
   "source": [
    "import random\n",
    "\n",
    "com = random.randint(1,100)\n",
    "number = int(input(\"숫자를 맞춰보세요. (1~100)\"))\n",
    "\n",
    "while(number is not com):\n",
    "    if(number>com):\n",
    "        print(\"숫자가 너무 큽니다.\")\n",
    "    elif(number<com):\n",
    "        print(\"숫자가 너무 작습니다.\")\n",
    "    else:\n",
    "        print(\"정답입니다. 입력한 숫자는\",number,\"입니다\")\n",
    "    number = int(input(\"숫자를 맞춰보세요. (1~100)\"))\n"
   ]
  },
  {
   "cell_type": "code",
   "execution_count": 2,
   "metadata": {},
   "outputs": [
    {
     "name": "stdout",
     "output_type": "stream",
     "text": [
      "숫자를 맞춰보세요. (1~100)10\n",
      "숫자가 너무 작습니다.\n",
      "숫자를 맞춰보세요. (1~100)20\n",
      "숫자가 너무 작습니다.\n",
      "숫자를 맞춰보세요. (1~100)30\n",
      "숫자가 너무 큽니다.\n",
      "숫자를 맞춰보세요. (1~100)22\n",
      "숫자가 너무 작습니다.\n",
      "숫자를 맞춰보세요. (1~100)23\n",
      "숫자가 너무 작습니다.\n",
      "숫자를 맞춰보세요. (1~100)24\n"
     ]
    }
   ],
   "source": [
    "import random\n",
    "\n",
    "com = random.randint(1,100)\n",
    "number = int(input(\"숫자를 맞춰보세요. (1~100)\"))\n",
    "\n",
    "while(number is not com):\n",
    "    if(number>com):\n",
    "        print(\"숫자가 너무 큽니다.\")\n",
    "    elif(number<com):\n",
    "        print(\"숫자가 너무 작습니다.\")\n",
    "    else:\n",
    "        print(\"정답입니다. 입력한 숫자는\",number,\"입니다\")\n",
    "    number = int(input(\"숫자를 맞춰보세요. (1~100)\"))\n"
   ]
  },
  {
   "cell_type": "code",
   "execution_count": 4,
   "metadata": {},
   "outputs": [
    {
     "name": "stdout",
     "output_type": "stream",
     "text": [
      "숫자를 맞춰보세요. (1~100)100\n",
      "73\n",
      "숫자가 너무 큽니다.\n",
      "숫자를 맞춰보세요. (1~100)73\n"
     ]
    }
   ],
   "source": [
    "import random\n",
    "\n",
    "com = random.randint(1,100)\n",
    "number = int(input(\"숫자를 맞춰보세요. (1~100)\"))\n",
    "\n",
    "while(number is not com):\n",
    "    print(com)\n",
    "    if(number>com):\n",
    "        print(\"숫자가 너무 큽니다.\")\n",
    "    elif(number<com):\n",
    "        print(\"숫자가 너무 작습니다.\")\n",
    "    else:\n",
    "        print(\"정답입니다. 입력한 숫자는\",number,\"입니다\")\n",
    "    number = int(input(\"숫자를 맞춰보세요. (1~100)\"))\n",
    "    \n"
   ]
  },
  {
   "cell_type": "markdown",
   "metadata": {},
   "source": [
    "##### import random\n",
    "\n",
    "com = random.randint(1,100)#랜덤\n",
    "number = int(input(\"숫자를 맞춰보세요. (1~100)\"))\n",
    "\n",
    "while(number is not com):#같지 않을때까지 반복\n",
    "    if(number>com):\n",
    "        print(\"숫자가 너무 큽니다.\")\n",
    "    elif(number<com):\n",
    "        print(\"숫자가 너무 작습니다.\")\n",
    "    number = int(input(\"숫자를 맞춰보세요. (1~100)\"))\n",
    "else:\n",
    "     print(\"정답입니다. 입력한 숫자는\",number,\"입니다\")#정답일 때\n",
    "\n"
   ]
  },
  {
   "cell_type": "code",
   "execution_count": 2,
   "metadata": {},
   "outputs": [
    {
     "name": "stdout",
     "output_type": "stream",
     "text": [
      "숫자를 맞춰보세요. (1~100)10\n",
      "숫자가 너무 작습니다.\n",
      "숫자를 맞춰보세요. (1~100)20\n",
      "숫자가 너무 작습니다.\n",
      "숫자를 맞춰보세요. (1~100)30\n",
      "숫자가 너무 작습니다.\n",
      "숫자를 맞춰보세요. (1~100)40\n",
      "숫자가 너무 작습니다.\n",
      "숫자를 맞춰보세요. (1~100)50\n",
      "숫자가 너무 작습니다.\n",
      "숫자를 맞춰보세요. (1~100)60\n",
      "숫자가 너무 작습니다.\n",
      "숫자를 맞춰보세요. (1~100)70\n",
      "숫자가 너무 작습니다.\n",
      "숫자를 맞춰보세요. (1~100)80\n",
      "숫자가 너무 작습니다.\n",
      "숫자를 맞춰보세요. (1~100)90\n",
      "숫자가 너무 작습니다.\n",
      "숫자를 맞춰보세요. (1~100)91\n",
      "숫자가 너무 작습니다.\n",
      "숫자를 맞춰보세요. (1~100)92\n",
      "숫자가 너무 작습니다.\n",
      "숫자를 맞춰보세요. (1~100)93\n",
      "숫자가 너무 작습니다.\n",
      "숫자를 맞춰보세요. (1~100)94\n",
      "숫자가 너무 작습니다.\n",
      "숫자를 맞춰보세요. (1~100)95\n",
      "숫자가 너무 작습니다.\n",
      "숫자를 맞춰보세요. (1~100)96\n",
      "숫자가 너무 작습니다.\n",
      "숫자를 맞춰보세요. (1~100)97\n",
      "숫자가 너무 작습니다.\n",
      "숫자를 맞춰보세요. (1~100)98\n",
      "숫자가 너무 작습니다.\n",
      "숫자를 맞춰보세요. (1~100)99\n",
      "숫자가 너무 작습니다.\n",
      "숫자를 맞춰보세요. (1~100)100\n",
      "정답입니다. 입력한 숫자는 100 입니다\n"
     ]
    }
   ],
   "source": [
    "import random\n",
    "\n",
    "com = random.randint(1,100)#랜덤\n",
    "number = int(input(\"숫자를 맞춰보세요. (1~100)\"))\n",
    "\n",
    "while(number is not com):#같지 않을때까지 반복\n",
    "    if(number>com):\n",
    "        print(\"숫자가 너무 큽니다.\")\n",
    "    elif(number<com):\n",
    "        print(\"숫자가 너무 작습니다.\")\n",
    "    number = int(input(\"숫자를 맞춰보세요. (1~100)\"))\n",
    "else:\n",
    "     print(\"정답입니다. 입력한 숫자는\",number,\"입니다\")#정답일 때\n",
    "\n"
   ]
  },
  {
   "cell_type": "code",
   "execution_count": null,
   "metadata": {},
   "outputs": [],
   "source": []
  }
 ],
 "metadata": {
  "kernelspec": {
   "display_name": "Python 3",
   "language": "python",
   "name": "python3"
  },
  "language_info": {
   "codemirror_mode": {
    "name": "ipython",
    "version": 3
   },
   "file_extension": ".py",
   "mimetype": "text/x-python",
   "name": "python",
   "nbconvert_exporter": "python",
   "pygments_lexer": "ipython3",
   "version": "3.7.1"
  }
 },
 "nbformat": 4,
 "nbformat_minor": 2
}
