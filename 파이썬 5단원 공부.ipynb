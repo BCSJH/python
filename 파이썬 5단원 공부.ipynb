{
 "cells": [
  {
   "cell_type": "code",
   "execution_count": 3,
   "metadata": {},
   "outputs": [
    {
     "name": "stdout",
     "output_type": "stream",
     "text": [
      "사각형 x의 길이 :  10\n",
      "사각형 y의 길이 :  20\n",
      "사각형 넓이 :  200\n"
     ]
    }
   ],
   "source": [
    "#rectangle_area.py\n",
    "def calculate_rectangle_area(x,y):\n",
    "    return x*y\n",
    "\n",
    "rectangle_x =10\n",
    "rectangle_y = 20\n",
    "print(\"사각형 x의 길이 : \",rectangle_x)\n",
    "print(\"사각형 y의 길이 : \",rectangle_y)\n",
    "\n",
    "#넓이 구하는 함수\n",
    "print(\"사각형 넓이 : \",calculate_rectangle_area(rectangle_x, rectangle_y))"
   ]
  },
  {
   "cell_type": "code",
   "execution_count": 5,
   "metadata": {},
   "outputs": [
    {
     "name": "stdout",
     "output_type": "stream",
     "text": [
      "151\n"
     ]
    }
   ],
   "source": [
    "#function.py\n",
    "def f(x):\n",
    "    return 2*x+7\n",
    "def g(x):\n",
    "    return x**2\n",
    "x=2\n",
    "print(f(x) +g(x)+f(g(x)) +g(f(x)))"
   ]
  },
  {
   "cell_type": "code",
   "execution_count": 7,
   "metadata": {},
   "outputs": [
    {
     "name": "stdout",
     "output_type": "stream",
     "text": [
      "35\n",
      "35\n",
      "35\n",
      "35\n"
     ]
    }
   ],
   "source": [
    "#function_type.py\n",
    "def a_rectangle_area():\n",
    "    print(5*7)\n",
    "def b_rectangle_area(x,y):\n",
    "    print(x*y)\n",
    "def c_rectangle_area():\n",
    "    print(5*7)\n",
    "def d_rectangle_area(x,y):\n",
    "    print(x*y)\n",
    "    \n",
    "a_rectangle_area()\n",
    "b_rectangle_area(5,7)\n",
    "c_rectangle_area()\n",
    "d_rectangle_area(5,7)"
   ]
  },
  {
   "cell_type": "code",
   "execution_count": 8,
   "metadata": {},
   "outputs": [
    {
     "name": "stdout",
     "output_type": "stream",
     "text": [
      "9\n",
      "3\n"
     ]
    }
   ],
   "source": [
    "#call.py\n",
    "def f(x):\n",
    "    y=x\n",
    "    x=5\n",
    "    return y*y\n",
    "\n",
    "x=3\n",
    "print(f(x))#이 함수에서 x가 5로 바꼈지만 \n",
    "print(x)#전역 변수가 아니기 때문에 바뀌지 않는다."
   ]
  },
  {
   "cell_type": "code",
   "execution_count": 9,
   "metadata": {},
   "outputs": [
    {
     "name": "stdout",
     "output_type": "stream",
     "text": [
      "[0, 1]\n"
     ]
    }
   ],
   "source": [
    "#call2.py\n",
    "def spam(eggs):\n",
    "    eggs.append(1)#기존 객체의 주소값에 [1]추가\n",
    "    eggs=[2,3]#새로운 객체 생성\n",
    "ham = [0]\n",
    "spam(ham)\n",
    "print(ham)"
   ]
  },
  {
   "cell_type": "code",
   "execution_count": 10,
   "metadata": {},
   "outputs": [
    {
     "name": "stdout",
     "output_type": "stream",
     "text": [
      "10\n",
      "In function: 20\n",
      "In Main: 10\n"
     ]
    },
    {
     "ename": "NameError",
     "evalue": "name 't' is not defined",
     "output_type": "error",
     "traceback": [
      "\u001b[1;31m---------------------------------------------------------------------------\u001b[0m",
      "\u001b[1;31mNameError\u001b[0m                                 Traceback (most recent call last)",
      "\u001b[1;32m<ipython-input-10-70a3c06cfe7f>\u001b[0m in \u001b[0;36m<module>\u001b[1;34m\u001b[0m\n\u001b[0;32m      8\u001b[0m \u001b[0mtest\u001b[0m\u001b[1;33m(\u001b[0m\u001b[0mx\u001b[0m\u001b[1;33m)\u001b[0m\u001b[1;33m\u001b[0m\u001b[1;33m\u001b[0m\u001b[0m\n\u001b[0;32m      9\u001b[0m \u001b[0mprint\u001b[0m\u001b[1;33m(\u001b[0m\u001b[1;34m\"In Main:\"\u001b[0m\u001b[1;33m,\u001b[0m\u001b[0mx\u001b[0m\u001b[1;33m)\u001b[0m\u001b[1;33m\u001b[0m\u001b[1;33m\u001b[0m\u001b[0m\n\u001b[1;32m---> 10\u001b[1;33m \u001b[0mprint\u001b[0m\u001b[1;33m(\u001b[0m\u001b[1;34m\"In Main:\"\u001b[0m\u001b[1;33m,\u001b[0m\u001b[0mt\u001b[0m\u001b[1;33m)\u001b[0m\u001b[1;33m\u001b[0m\u001b[1;33m\u001b[0m\u001b[0m\n\u001b[0m",
      "\u001b[1;31mNameError\u001b[0m: name 't' is not defined"
     ]
    }
   ],
   "source": [
    "#scoping_rule.py\n",
    "def test(t):\n",
    "    print(x)\n",
    "    t=20\n",
    "    print(\"In function:\",t)\n",
    "    \n",
    "x=10\n",
    "test(x)\n",
    "print(\"In Main:\",x)\n",
    "print(\"In Main:\",t)#t는 함수 안에서 만들어졌기때문에 생성 불가능"
   ]
  },
  {
   "cell_type": "code",
   "execution_count": 11,
   "metadata": {},
   "outputs": [
    {
     "name": "stdout",
     "output_type": "stream",
     "text": [
      "I love London!\n",
      "I love Paris!\n"
     ]
    }
   ],
   "source": [
    "#local_variable.py\n",
    "def f():\n",
    "    s=\"I love London!\"\n",
    "    print(s)\n",
    "s=\"I love Paris!\"\n",
    "f()\n",
    "print(s)"
   ]
  },
  {
   "cell_type": "code",
   "execution_count": 12,
   "metadata": {},
   "outputs": [
    {
     "name": "stdout",
     "output_type": "stream",
     "text": [
      "I love London!\n",
      "I love London!\n"
     ]
    }
   ],
   "source": [
    "def f():\n",
    "    global s#전역변수 s의 메모리 값을 사용\n",
    "    s = \"I love London!\"\n",
    "    print(s)\n",
    "s = \"I love Paris!\"\n",
    "f()\n",
    "print(s)"
   ]
  },
  {
   "cell_type": "code",
   "execution_count": 14,
   "metadata": {},
   "outputs": [
    {
     "name": "stdout",
     "output_type": "stream",
     "text": [
      "Input Number for Factorial Calculation:3\n",
      "6\n"
     ]
    }
   ],
   "source": [
    "#재귀 함수\n",
    "#factorial.py\n",
    "def factorial(n):\n",
    "    if n==1:\n",
    "        return 1\n",
    "    else:\n",
    "        return n* factorial(n-1)\n",
    "    \n",
    "print(factorial(int(input(\"Input Number for Factorial Calculation:\"))))"
   ]
  },
  {
   "cell_type": "code",
   "execution_count": 15,
   "metadata": {},
   "outputs": [
    {
     "name": "stdout",
     "output_type": "stream",
     "text": [
      "Hello TEAMLAB,my name is Sungchul\n",
      "Hello TEAMLAB,my name is Sungchul\n"
     ]
    }
   ],
   "source": [
    "#키워드 인수\n",
    "#함수에 입력되는 매개변수의 변수명을 사용하여 함수 인수 지정\n",
    "def print_something(my_name, your_name):\n",
    "    print(\"Hello {0},my name is {1}\".format(your_name,my_name))\n",
    "    \n",
    "print_something(\"Sungchul\",\"TEAMLAB\")\n",
    "print_something(your_name=\"TEAMLAB\",my_name=\"Sungchul\")"
   ]
  },
  {
   "cell_type": "code",
   "execution_count": null,
   "metadata": {},
   "outputs": [],
   "source": [
    "#디폴트 인수\n",
    "#매개변수 기본값을 지정하여 사용하고, 아무런 값도 인수로 넘어가지 않으면 지정된 기본값 사용\n",
    "\n",
    "#가변인수\n",
    "#매개변수 개수가 정해지지 않고 진행해야하는 경우\n",
    "\n",
    "#키워드 가변인수\n",
    "#변수명과 값을 쌍으로 지정하는 방식"
   ]
  }
 ],
 "metadata": {
  "kernelspec": {
   "display_name": "Python 3",
   "language": "python",
   "name": "python3"
  },
  "language_info": {
   "codemirror_mode": {
    "name": "ipython",
    "version": 3
   },
   "file_extension": ".py",
   "mimetype": "text/x-python",
   "name": "python",
   "nbconvert_exporter": "python",
   "pygments_lexer": "ipython3",
   "version": "3.6.7"
  }
 },
 "nbformat": 4,
 "nbformat_minor": 2
}
